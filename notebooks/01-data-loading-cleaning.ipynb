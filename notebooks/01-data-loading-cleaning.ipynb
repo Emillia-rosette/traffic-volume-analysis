{
 "cells": [
  {
   "cell_type": "markdown",
   "metadata": {},
   "source": [
    "## Data Loading"
   ]
  },
  {
   "cell_type": "code",
   "execution_count": 1,
   "metadata": {},
   "outputs": [],
   "source": [
    "# import libraries\n",
    "\n",
    "import pandas as pd\n",
    "import numpy as np\n",
    "import seaborn as sns\n",
    "import matplotlib.pyplot as plt"
   ]
  },
  {
   "cell_type": "markdown",
   "metadata": {},
   "source": [
    "## Load Data"
   ]
  },
  {
   "cell_type": "code",
   "execution_count": 2,
   "metadata": {},
   "outputs": [],
   "source": [
    "# Local authority traffic figures give the total volume (vehicle miles) of traffic across each local authority for the whole year.\n",
    "# pd_local_points = pd.read_csv('../data/uk_data/local_authority_traffic.csv')"
   ]
  },
  {
   "cell_type": "code",
   "execution_count": 3,
   "metadata": {},
   "outputs": [],
   "source": [
    "# pd_local_points.columns"
   ]
  },
  {
   "cell_type": "markdown",
   "metadata": {},
   "source": [
    "### Initial Inspection - UK Daaset"
   ]
  },
  {
   "cell_type": "code",
   "execution_count": 4,
   "metadata": {},
   "outputs": [
    {
     "name": "stderr",
     "output_type": "stream",
     "text": [
      "/var/folders/_z/nz5spzqj2rl11n5lc_k1cwwc0000gn/T/ipykernel_97095/2200544698.py:2: DtypeWarning: Columns (14,15) have mixed types. Specify dtype option on import or set low_memory=False.\n",
      "  pd_raw_count = pd.read_csv('../data/uk_data/dft_traffic_counts_raw_counts.csv')\n"
     ]
    }
   ],
   "source": [
    "# Vehicle counts recorded on major and minor roads\n",
    "pd_raw_count = pd.read_csv('../data/uk_data/dft_traffic_counts_raw_counts.csv')"
   ]
  },
  {
   "cell_type": "code",
   "execution_count": 5,
   "metadata": {},
   "outputs": [
    {
     "data": {
      "text/html": [
       "<div>\n",
       "<style scoped>\n",
       "    .dataframe tbody tr th:only-of-type {\n",
       "        vertical-align: middle;\n",
       "    }\n",
       "\n",
       "    .dataframe tbody tr th {\n",
       "        vertical-align: top;\n",
       "    }\n",
       "\n",
       "    .dataframe thead th {\n",
       "        text-align: right;\n",
       "    }\n",
       "</style>\n",
       "<table border=\"1\" class=\"dataframe\">\n",
       "  <thead>\n",
       "    <tr style=\"text-align: right;\">\n",
       "      <th></th>\n",
       "      <th>count_point_id</th>\n",
       "      <th>direction_of_travel</th>\n",
       "      <th>year</th>\n",
       "      <th>count_date</th>\n",
       "      <th>hour</th>\n",
       "      <th>region_id</th>\n",
       "      <th>region_name</th>\n",
       "      <th>region_ons_code</th>\n",
       "      <th>local_authority_id</th>\n",
       "      <th>local_authority_name</th>\n",
       "      <th>...</th>\n",
       "      <th>buses_and_coaches</th>\n",
       "      <th>LGVs</th>\n",
       "      <th>HGVs_2_rigid_axle</th>\n",
       "      <th>HGVs_3_rigid_axle</th>\n",
       "      <th>HGVs_4_or_more_rigid_axle</th>\n",
       "      <th>HGVs_3_or_4_articulated_axle</th>\n",
       "      <th>HGVs_5_articulated_axle</th>\n",
       "      <th>HGVs_6_articulated_axle</th>\n",
       "      <th>all_HGVs</th>\n",
       "      <th>all_motor_vehicles</th>\n",
       "    </tr>\n",
       "  </thead>\n",
       "  <tbody>\n",
       "    <tr>\n",
       "      <th>0</th>\n",
       "      <td>51</td>\n",
       "      <td>N</td>\n",
       "      <td>2004</td>\n",
       "      <td>2004-05-21</td>\n",
       "      <td>7</td>\n",
       "      <td>1</td>\n",
       "      <td>South West</td>\n",
       "      <td>E12000009</td>\n",
       "      <td>1</td>\n",
       "      <td>Isles of Scilly</td>\n",
       "      <td>...</td>\n",
       "      <td>1.0</td>\n",
       "      <td>13</td>\n",
       "      <td>0.0</td>\n",
       "      <td>0.0</td>\n",
       "      <td>0.0</td>\n",
       "      <td>0.0</td>\n",
       "      <td>0</td>\n",
       "      <td>0.0</td>\n",
       "      <td>0.0</td>\n",
       "      <td>19.0</td>\n",
       "    </tr>\n",
       "    <tr>\n",
       "      <th>1</th>\n",
       "      <td>51</td>\n",
       "      <td>N</td>\n",
       "      <td>2004</td>\n",
       "      <td>2004-05-21</td>\n",
       "      <td>8</td>\n",
       "      <td>1</td>\n",
       "      <td>South West</td>\n",
       "      <td>E12000009</td>\n",
       "      <td>1</td>\n",
       "      <td>Isles of Scilly</td>\n",
       "      <td>...</td>\n",
       "      <td>2.0</td>\n",
       "      <td>13</td>\n",
       "      <td>7.0</td>\n",
       "      <td>7.0</td>\n",
       "      <td>0.0</td>\n",
       "      <td>0.0</td>\n",
       "      <td>0</td>\n",
       "      <td>0.0</td>\n",
       "      <td>14.0</td>\n",
       "      <td>44.0</td>\n",
       "    </tr>\n",
       "    <tr>\n",
       "      <th>2</th>\n",
       "      <td>51</td>\n",
       "      <td>N</td>\n",
       "      <td>2004</td>\n",
       "      <td>2004-05-21</td>\n",
       "      <td>9</td>\n",
       "      <td>1</td>\n",
       "      <td>South West</td>\n",
       "      <td>E12000009</td>\n",
       "      <td>1</td>\n",
       "      <td>Isles of Scilly</td>\n",
       "      <td>...</td>\n",
       "      <td>5.0</td>\n",
       "      <td>17</td>\n",
       "      <td>5.0</td>\n",
       "      <td>0.0</td>\n",
       "      <td>0.0</td>\n",
       "      <td>0.0</td>\n",
       "      <td>0</td>\n",
       "      <td>0.0</td>\n",
       "      <td>5.0</td>\n",
       "      <td>45.0</td>\n",
       "    </tr>\n",
       "    <tr>\n",
       "      <th>3</th>\n",
       "      <td>51</td>\n",
       "      <td>N</td>\n",
       "      <td>2004</td>\n",
       "      <td>2004-05-21</td>\n",
       "      <td>10</td>\n",
       "      <td>1</td>\n",
       "      <td>South West</td>\n",
       "      <td>E12000009</td>\n",
       "      <td>1</td>\n",
       "      <td>Isles of Scilly</td>\n",
       "      <td>...</td>\n",
       "      <td>4.0</td>\n",
       "      <td>4</td>\n",
       "      <td>4.0</td>\n",
       "      <td>0.0</td>\n",
       "      <td>0.0</td>\n",
       "      <td>0.0</td>\n",
       "      <td>0</td>\n",
       "      <td>0.0</td>\n",
       "      <td>4.0</td>\n",
       "      <td>41.0</td>\n",
       "    </tr>\n",
       "    <tr>\n",
       "      <th>4</th>\n",
       "      <td>51</td>\n",
       "      <td>N</td>\n",
       "      <td>2004</td>\n",
       "      <td>2004-05-21</td>\n",
       "      <td>11</td>\n",
       "      <td>1</td>\n",
       "      <td>South West</td>\n",
       "      <td>E12000009</td>\n",
       "      <td>1</td>\n",
       "      <td>Isles of Scilly</td>\n",
       "      <td>...</td>\n",
       "      <td>3.0</td>\n",
       "      <td>14</td>\n",
       "      <td>6.0</td>\n",
       "      <td>0.0</td>\n",
       "      <td>0.0</td>\n",
       "      <td>0.0</td>\n",
       "      <td>0</td>\n",
       "      <td>0.0</td>\n",
       "      <td>6.0</td>\n",
       "      <td>41.0</td>\n",
       "    </tr>\n",
       "  </tbody>\n",
       "</table>\n",
       "<p>5 rows × 35 columns</p>\n",
       "</div>"
      ],
      "text/plain": [
       "   count_point_id direction_of_travel  year  count_date  hour  region_id  \\\n",
       "0              51                   N  2004  2004-05-21     7          1   \n",
       "1              51                   N  2004  2004-05-21     8          1   \n",
       "2              51                   N  2004  2004-05-21     9          1   \n",
       "3              51                   N  2004  2004-05-21    10          1   \n",
       "4              51                   N  2004  2004-05-21    11          1   \n",
       "\n",
       "  region_name region_ons_code  local_authority_id local_authority_name  ...  \\\n",
       "0  South West       E12000009                   1      Isles of Scilly  ...   \n",
       "1  South West       E12000009                   1      Isles of Scilly  ...   \n",
       "2  South West       E12000009                   1      Isles of Scilly  ...   \n",
       "3  South West       E12000009                   1      Isles of Scilly  ...   \n",
       "4  South West       E12000009                   1      Isles of Scilly  ...   \n",
       "\n",
       "  buses_and_coaches LGVs HGVs_2_rigid_axle HGVs_3_rigid_axle  \\\n",
       "0               1.0   13               0.0               0.0   \n",
       "1               2.0   13               7.0               7.0   \n",
       "2               5.0   17               5.0               0.0   \n",
       "3               4.0    4               4.0               0.0   \n",
       "4               3.0   14               6.0               0.0   \n",
       "\n",
       "  HGVs_4_or_more_rigid_axle HGVs_3_or_4_articulated_axle  \\\n",
       "0                       0.0                          0.0   \n",
       "1                       0.0                          0.0   \n",
       "2                       0.0                          0.0   \n",
       "3                       0.0                          0.0   \n",
       "4                       0.0                          0.0   \n",
       "\n",
       "   HGVs_5_articulated_axle  HGVs_6_articulated_axle  all_HGVs  \\\n",
       "0                        0                      0.0       0.0   \n",
       "1                        0                      0.0      14.0   \n",
       "2                        0                      0.0       5.0   \n",
       "3                        0                      0.0       4.0   \n",
       "4                        0                      0.0       6.0   \n",
       "\n",
       "   all_motor_vehicles  \n",
       "0                19.0  \n",
       "1                44.0  \n",
       "2                45.0  \n",
       "3                41.0  \n",
       "4                41.0  \n",
       "\n",
       "[5 rows x 35 columns]"
      ]
     },
     "execution_count": 5,
     "metadata": {},
     "output_type": "execute_result"
    }
   ],
   "source": [
    "pd_raw_count.head()"
   ]
  },
  {
   "cell_type": "code",
   "execution_count": 6,
   "metadata": {},
   "outputs": [
    {
     "name": "stdout",
     "output_type": "stream",
     "text": [
      "The shape is :\n",
      "(4960860, 35)\n"
     ]
    }
   ],
   "source": [
    "print(f\"The shape is :\\n{pd_raw_count.shape}\")"
   ]
  },
  {
   "cell_type": "code",
   "execution_count": 7,
   "metadata": {},
   "outputs": [],
   "source": [
    "pd_raw_count_east = pd_raw_count[pd_raw_count['region_name'] == 'East of England'].copy()"
   ]
  },
  {
   "cell_type": "code",
   "execution_count": 8,
   "metadata": {},
   "outputs": [
    {
     "data": {
      "text/html": [
       "<div>\n",
       "<style scoped>\n",
       "    .dataframe tbody tr th:only-of-type {\n",
       "        vertical-align: middle;\n",
       "    }\n",
       "\n",
       "    .dataframe tbody tr th {\n",
       "        vertical-align: top;\n",
       "    }\n",
       "\n",
       "    .dataframe thead th {\n",
       "        text-align: right;\n",
       "    }\n",
       "</style>\n",
       "<table border=\"1\" class=\"dataframe\">\n",
       "  <thead>\n",
       "    <tr style=\"text-align: right;\">\n",
       "      <th></th>\n",
       "      <th>count_point_id</th>\n",
       "      <th>direction_of_travel</th>\n",
       "      <th>year</th>\n",
       "      <th>count_date</th>\n",
       "      <th>hour</th>\n",
       "      <th>region_id</th>\n",
       "      <th>region_name</th>\n",
       "      <th>region_ons_code</th>\n",
       "      <th>local_authority_id</th>\n",
       "      <th>local_authority_name</th>\n",
       "      <th>...</th>\n",
       "      <th>buses_and_coaches</th>\n",
       "      <th>LGVs</th>\n",
       "      <th>HGVs_2_rigid_axle</th>\n",
       "      <th>HGVs_3_rigid_axle</th>\n",
       "      <th>HGVs_4_or_more_rigid_axle</th>\n",
       "      <th>HGVs_3_or_4_articulated_axle</th>\n",
       "      <th>HGVs_5_articulated_axle</th>\n",
       "      <th>HGVs_6_articulated_axle</th>\n",
       "      <th>all_HGVs</th>\n",
       "      <th>all_motor_vehicles</th>\n",
       "    </tr>\n",
       "  </thead>\n",
       "  <tbody>\n",
       "    <tr>\n",
       "      <th>30144</th>\n",
       "      <td>6003</td>\n",
       "      <td>N</td>\n",
       "      <td>2000</td>\n",
       "      <td>2000-03-31</td>\n",
       "      <td>7</td>\n",
       "      <td>7</td>\n",
       "      <td>East of England</td>\n",
       "      <td>E12000006</td>\n",
       "      <td>208</td>\n",
       "      <td>Bedfordshire</td>\n",
       "      <td>...</td>\n",
       "      <td>5.0</td>\n",
       "      <td>513</td>\n",
       "      <td>171.0</td>\n",
       "      <td>40.0</td>\n",
       "      <td>36.0</td>\n",
       "      <td>63.0</td>\n",
       "      <td>223</td>\n",
       "      <td>145.0</td>\n",
       "      <td>678.0</td>\n",
       "      <td>4006.0</td>\n",
       "    </tr>\n",
       "    <tr>\n",
       "      <th>30145</th>\n",
       "      <td>6003</td>\n",
       "      <td>N</td>\n",
       "      <td>2000</td>\n",
       "      <td>2000-03-31</td>\n",
       "      <td>8</td>\n",
       "      <td>7</td>\n",
       "      <td>East of England</td>\n",
       "      <td>E12000006</td>\n",
       "      <td>208</td>\n",
       "      <td>Bedfordshire</td>\n",
       "      <td>...</td>\n",
       "      <td>11.0</td>\n",
       "      <td>436</td>\n",
       "      <td>203.0</td>\n",
       "      <td>17.0</td>\n",
       "      <td>11.0</td>\n",
       "      <td>60.0</td>\n",
       "      <td>180</td>\n",
       "      <td>119.0</td>\n",
       "      <td>590.0</td>\n",
       "      <td>4142.0</td>\n",
       "    </tr>\n",
       "    <tr>\n",
       "      <th>30146</th>\n",
       "      <td>6003</td>\n",
       "      <td>N</td>\n",
       "      <td>2000</td>\n",
       "      <td>2000-03-31</td>\n",
       "      <td>9</td>\n",
       "      <td>7</td>\n",
       "      <td>East of England</td>\n",
       "      <td>E12000006</td>\n",
       "      <td>208</td>\n",
       "      <td>Bedfordshire</td>\n",
       "      <td>...</td>\n",
       "      <td>28.0</td>\n",
       "      <td>372</td>\n",
       "      <td>226.0</td>\n",
       "      <td>24.0</td>\n",
       "      <td>17.0</td>\n",
       "      <td>85.0</td>\n",
       "      <td>212</td>\n",
       "      <td>117.0</td>\n",
       "      <td>681.0</td>\n",
       "      <td>3325.0</td>\n",
       "    </tr>\n",
       "    <tr>\n",
       "      <th>30147</th>\n",
       "      <td>6003</td>\n",
       "      <td>N</td>\n",
       "      <td>2000</td>\n",
       "      <td>2000-03-31</td>\n",
       "      <td>10</td>\n",
       "      <td>7</td>\n",
       "      <td>East of England</td>\n",
       "      <td>E12000006</td>\n",
       "      <td>208</td>\n",
       "      <td>Bedfordshire</td>\n",
       "      <td>...</td>\n",
       "      <td>26.0</td>\n",
       "      <td>457</td>\n",
       "      <td>202.0</td>\n",
       "      <td>26.0</td>\n",
       "      <td>22.0</td>\n",
       "      <td>80.0</td>\n",
       "      <td>262</td>\n",
       "      <td>157.0</td>\n",
       "      <td>749.0</td>\n",
       "      <td>3500.0</td>\n",
       "    </tr>\n",
       "    <tr>\n",
       "      <th>30148</th>\n",
       "      <td>6003</td>\n",
       "      <td>N</td>\n",
       "      <td>2000</td>\n",
       "      <td>2000-03-31</td>\n",
       "      <td>11</td>\n",
       "      <td>7</td>\n",
       "      <td>East of England</td>\n",
       "      <td>E12000006</td>\n",
       "      <td>208</td>\n",
       "      <td>Bedfordshire</td>\n",
       "      <td>...</td>\n",
       "      <td>41.0</td>\n",
       "      <td>492</td>\n",
       "      <td>220.0</td>\n",
       "      <td>24.0</td>\n",
       "      <td>17.0</td>\n",
       "      <td>77.0</td>\n",
       "      <td>218</td>\n",
       "      <td>172.0</td>\n",
       "      <td>728.0</td>\n",
       "      <td>3693.0</td>\n",
       "    </tr>\n",
       "  </tbody>\n",
       "</table>\n",
       "<p>5 rows × 35 columns</p>\n",
       "</div>"
      ],
      "text/plain": [
       "       count_point_id direction_of_travel  year  count_date  hour  region_id  \\\n",
       "30144            6003                   N  2000  2000-03-31     7          7   \n",
       "30145            6003                   N  2000  2000-03-31     8          7   \n",
       "30146            6003                   N  2000  2000-03-31     9          7   \n",
       "30147            6003                   N  2000  2000-03-31    10          7   \n",
       "30148            6003                   N  2000  2000-03-31    11          7   \n",
       "\n",
       "           region_name region_ons_code  local_authority_id  \\\n",
       "30144  East of England       E12000006                 208   \n",
       "30145  East of England       E12000006                 208   \n",
       "30146  East of England       E12000006                 208   \n",
       "30147  East of England       E12000006                 208   \n",
       "30148  East of England       E12000006                 208   \n",
       "\n",
       "      local_authority_name  ... buses_and_coaches LGVs HGVs_2_rigid_axle  \\\n",
       "30144         Bedfordshire  ...               5.0  513             171.0   \n",
       "30145         Bedfordshire  ...              11.0  436             203.0   \n",
       "30146         Bedfordshire  ...              28.0  372             226.0   \n",
       "30147         Bedfordshire  ...              26.0  457             202.0   \n",
       "30148         Bedfordshire  ...              41.0  492             220.0   \n",
       "\n",
       "      HGVs_3_rigid_axle HGVs_4_or_more_rigid_axle  \\\n",
       "30144              40.0                      36.0   \n",
       "30145              17.0                      11.0   \n",
       "30146              24.0                      17.0   \n",
       "30147              26.0                      22.0   \n",
       "30148              24.0                      17.0   \n",
       "\n",
       "      HGVs_3_or_4_articulated_axle  HGVs_5_articulated_axle  \\\n",
       "30144                         63.0                      223   \n",
       "30145                         60.0                      180   \n",
       "30146                         85.0                      212   \n",
       "30147                         80.0                      262   \n",
       "30148                         77.0                      218   \n",
       "\n",
       "       HGVs_6_articulated_axle  all_HGVs  all_motor_vehicles  \n",
       "30144                    145.0     678.0              4006.0  \n",
       "30145                    119.0     590.0              4142.0  \n",
       "30146                    117.0     681.0              3325.0  \n",
       "30147                    157.0     749.0              3500.0  \n",
       "30148                    172.0     728.0              3693.0  \n",
       "\n",
       "[5 rows x 35 columns]"
      ]
     },
     "execution_count": 8,
     "metadata": {},
     "output_type": "execute_result"
    }
   ],
   "source": [
    "pd_raw_count_east.head()"
   ]
  },
  {
   "cell_type": "code",
   "execution_count": 9,
   "metadata": {},
   "outputs": [
    {
     "data": {
      "text/plain": [
       "(550056, 35)"
      ]
     },
     "execution_count": 9,
     "metadata": {},
     "output_type": "execute_result"
    }
   ],
   "source": [
    "pd_raw_count_east.shape"
   ]
  },
  {
   "cell_type": "code",
   "execution_count": 10,
   "metadata": {},
   "outputs": [
    {
     "name": "stdout",
     "output_type": "stream",
     "text": [
      "<class 'pandas.core.frame.DataFrame'>\n",
      "Index: 550056 entries, 30144 to 4960547\n",
      "Data columns (total 35 columns):\n",
      " #   Column                        Non-Null Count   Dtype  \n",
      "---  ------                        --------------   -----  \n",
      " 0   count_point_id                550056 non-null  int64  \n",
      " 1   direction_of_travel           550056 non-null  object \n",
      " 2   year                          550056 non-null  int64  \n",
      " 3   count_date                    550056 non-null  object \n",
      " 4   hour                          550056 non-null  int64  \n",
      " 5   region_id                     550056 non-null  int64  \n",
      " 6   region_name                   550056 non-null  object \n",
      " 7   region_ons_code               550056 non-null  object \n",
      " 8   local_authority_id            550056 non-null  int64  \n",
      " 9   local_authority_name          550056 non-null  object \n",
      " 10  local_authority_code          550056 non-null  object \n",
      " 11  road_name                     550056 non-null  object \n",
      " 12  road_category                 550056 non-null  object \n",
      " 13  road_type                     550056 non-null  object \n",
      " 14  start_junction_road_name      220716 non-null  object \n",
      " 15  end_junction_road_name        220716 non-null  object \n",
      " 16  easting                       550056 non-null  int64  \n",
      " 17  northing                      550056 non-null  int64  \n",
      " 18  latitude                      550056 non-null  float64\n",
      " 19  longitude                     550056 non-null  float64\n",
      " 20  link_length_km                220944 non-null  float64\n",
      " 21  link_length_miles             220944 non-null  float64\n",
      " 22  pedal_cycles                  550056 non-null  int64  \n",
      " 23  two_wheeled_motor_vehicles    550056 non-null  int64  \n",
      " 24  cars_and_taxis                550056 non-null  float64\n",
      " 25  buses_and_coaches             550056 non-null  float64\n",
      " 26  LGVs                          550056 non-null  int64  \n",
      " 27  HGVs_2_rigid_axle             550054 non-null  float64\n",
      " 28  HGVs_3_rigid_axle             550056 non-null  float64\n",
      " 29  HGVs_4_or_more_rigid_axle     550056 non-null  float64\n",
      " 30  HGVs_3_or_4_articulated_axle  550056 non-null  float64\n",
      " 31  HGVs_5_articulated_axle       550056 non-null  int64  \n",
      " 32  HGVs_6_articulated_axle       550056 non-null  float64\n",
      " 33  all_HGVs                      550054 non-null  float64\n",
      " 34  all_motor_vehicles            550054 non-null  float64\n",
      "dtypes: float64(13), int64(11), object(11)\n",
      "memory usage: 151.1+ MB\n"
     ]
    }
   ],
   "source": [
    "pd_raw_count_east.info()"
   ]
  },
  {
   "cell_type": "code",
   "execution_count": 11,
   "metadata": {},
   "outputs": [
    {
     "data": {
      "text/plain": [
       "Index(['count_point_id', 'direction_of_travel', 'year', 'count_date', 'hour',\n",
       "       'region_id', 'region_name', 'region_ons_code', 'local_authority_id',\n",
       "       'local_authority_name', 'local_authority_code', 'road_name',\n",
       "       'road_category', 'road_type', 'start_junction_road_name',\n",
       "       'end_junction_road_name', 'easting', 'northing', 'latitude',\n",
       "       'longitude', 'link_length_km', 'link_length_miles', 'pedal_cycles',\n",
       "       'two_wheeled_motor_vehicles', 'cars_and_taxis', 'buses_and_coaches',\n",
       "       'LGVs', 'HGVs_2_rigid_axle', 'HGVs_3_rigid_axle',\n",
       "       'HGVs_4_or_more_rigid_axle', 'HGVs_3_or_4_articulated_axle',\n",
       "       'HGVs_5_articulated_axle', 'HGVs_6_articulated_axle', 'all_HGVs',\n",
       "       'all_motor_vehicles'],\n",
       "      dtype='object')"
      ]
     },
     "execution_count": 11,
     "metadata": {},
     "output_type": "execute_result"
    }
   ],
   "source": [
    "pd_raw_count_east.columns"
   ]
  },
  {
   "cell_type": "code",
   "execution_count": 12,
   "metadata": {},
   "outputs": [
    {
     "data": {
      "text/plain": [
       "region_name\n",
       "South East                  792132\n",
       "North West                  579684\n",
       "East of England             550056\n",
       "South West                  493632\n",
       "West Midlands               480876\n",
       "Yorkshire and the Humber    427968\n",
       "London                      403560\n",
       "East Midlands               398892\n",
       "Scotland                    306096\n",
       "Wales                       294432\n",
       "North East                  233532\n",
       "Name: count, dtype: int64"
      ]
     },
     "execution_count": 12,
     "metadata": {},
     "output_type": "execute_result"
    }
   ],
   "source": [
    "pd_raw_count['region_name'].value_counts()"
   ]
  },
  {
   "cell_type": "code",
   "execution_count": 13,
   "metadata": {},
   "outputs": [
    {
     "data": {
      "text/plain": [
       "count_point_id  direction_of_travel  year  count_date  hour  region_id  region_name    region_ons_code  local_authority_id  local_authority_name  local_authority_code  road_name  road_category  road_type  start_junction_road_name  end_junction_road_name   easting  northing  latitude   longitude  link_length_km  link_length_miles  pedal_cycles  two_wheeled_motor_vehicles  cars_and_taxis  buses_and_coaches  LGVs  HGVs_2_rigid_axle  HGVs_3_rigid_axle  HGVs_4_or_more_rigid_axle  HGVs_3_or_4_articulated_axle  HGVs_5_articulated_axle  HGVs_6_articulated_axle  all_HGVs  all_motor_vehicles\n",
       "51              E                    2020  2020-10-02  7     1          South West     E12000009        1                   Isles of Scilly       E06000053             A3111      PA             Major      Pierhead, Hugh Town       A3112                    90173    10641     49.915021  -6.317073  0.3             0.19               0             0                           7.0             0.0                1     0.0                0.0                0.0                        0.0                           0                        0.0                      0.0       8.0                   1\n",
       "56187           S                    2001  2001-05-02  8     6          London         E12000007        121                 Enfield               E09000010             A10        PA             Major      A110                      A1055                    534700   199000    51.673630  -0.053393  3.5             2.17               4             62                          1407.0          16.0               304   49.0               7.0                16.0                       6.0                           18                       11.0                     107.0     1896.0                1\n",
       "                                     2000  2000-06-27  14    6          London         E12000007        121                 Enfield               E09000010             A10        TA             Major      A110                      A1055                    534700   199000    51.673630  -0.053393  3.5             2.17               1             14                          898.0           20.0               185   56.0               8.0                6.0                        7.0                           21                       8.0                      106.0     1223.0                1\n",
       "                                                       15    6          London         E12000007        121                 Enfield               E09000010             A10        TA             Major      A110                      A1055                    534700   199000    51.673630  -0.053393  3.5             2.17               4             16                          1020.0          23.0               189   59.0               2.0                3.0                        10.0                          19                       8.0                      101.0     1349.0                1\n",
       "                                                       16    6          London         E12000007        121                 Enfield               E09000010             A10        TA             Major      A110                      A1055                    534700   199000    51.673630  -0.053393  3.5             2.17               1             26                          1148.0          15.0               202   47.0               2.0                2.0                        12.0                          9                        7.0                      79.0      1470.0                1\n",
       "                                                                                                                                                                                                                                                                                                                                                                                                                                                                                                                                                                                                               ..\n",
       "27359           W                    2012  2012-06-27  13    2          East Midlands  E12000004        61                  Derbyshire            E10000007             A609       PA             Major      A608                      Kniveton Park, Ilkeston  445000   341520    52.969159  -1.331403  5.9             3.67               4             3                           335.0           4.0                57    6.0                0.0                1.0                        2.0                           0                        0.0                      9.0       408.0                 1\n",
       "                                                       12    2          East Midlands  E12000004        61                  Derbyshire            E10000007             A609       PA             Major      A608                      Kniveton Park, Ilkeston  445000   341520    52.969159  -1.331403  5.9             3.67               3             1                           362.0           5.0                52    3.0                0.0                0.0                        0.0                           1                        1.0                      5.0       425.0                 1\n",
       "                                                       11    2          East Midlands  E12000004        61                  Derbyshire            E10000007             A609       PA             Major      A608                      Kniveton Park, Ilkeston  445000   341520    52.969159  -1.331403  5.9             3.67               3             0                           301.0           4.0                47    5.0                2.0                0.0                        0.0                           3                        0.0                      10.0      362.0                 1\n",
       "                                                       10    2          East Midlands  E12000004        61                  Derbyshire            E10000007             A609       PA             Major      A608                      Kniveton Park, Ilkeston  445000   341520    52.969159  -1.331403  5.9             3.67               1             1                           302.0           2.0                54    4.0                0.0                0.0                        0.0                           1                        0.0                      5.0       364.0                 1\n",
       "99967           W                    2018  2018-06-27  18    2          East Midlands  E12000004        153                 Leicester             E06000016             A563       PA             Major      A6030                     A607                     461026   307870    52.665120  -1.099081  2.2             1.37               3             7                           715.0           14.0               44    2.0                0.0                0.0                        1.0                           8                        5.0                      16.0      796.0                 1\n",
       "Name: count, Length: 2243623, dtype: int64"
      ]
     },
     "execution_count": 13,
     "metadata": {},
     "output_type": "execute_result"
    }
   ],
   "source": [
    "pd_raw_count.value_counts()"
   ]
  },
  {
   "cell_type": "markdown",
   "metadata": {},
   "source": [
    "### Initial Inspection - East England Dataset"
   ]
  },
  {
   "cell_type": "code",
   "execution_count": 14,
   "metadata": {},
   "outputs": [
    {
     "name": "stderr",
     "output_type": "stream",
     "text": [
      "/var/folders/_z/nz5spzqj2rl11n5lc_k1cwwc0000gn/T/ipykernel_97095/3447678523.py:1: DtypeWarning: Columns (11,12) have mixed types. Specify dtype option on import or set low_memory=False.\n",
      "  east_england = pd.read_csv(\"/Users/emillianlandu/capstone-Emillia-rosette/data/dft_rawcount_region_id_7.csv\")\n"
     ]
    },
    {
     "data": {
      "text/html": [
       "<div>\n",
       "<style scoped>\n",
       "    .dataframe tbody tr th:only-of-type {\n",
       "        vertical-align: middle;\n",
       "    }\n",
       "\n",
       "    .dataframe tbody tr th {\n",
       "        vertical-align: top;\n",
       "    }\n",
       "\n",
       "    .dataframe thead th {\n",
       "        text-align: right;\n",
       "    }\n",
       "</style>\n",
       "<table border=\"1\" class=\"dataframe\">\n",
       "  <thead>\n",
       "    <tr style=\"text-align: right;\">\n",
       "      <th></th>\n",
       "      <th>count_point_id</th>\n",
       "      <th>direction_of_travel</th>\n",
       "      <th>year</th>\n",
       "      <th>count_date</th>\n",
       "      <th>hour</th>\n",
       "      <th>region_id</th>\n",
       "      <th>region_name</th>\n",
       "      <th>local_authority_id</th>\n",
       "      <th>local_authority_name</th>\n",
       "      <th>road_name</th>\n",
       "      <th>...</th>\n",
       "      <th>buses_and_coaches</th>\n",
       "      <th>lgvs</th>\n",
       "      <th>hgvs_2_rigid_axle</th>\n",
       "      <th>hgvs_3_rigid_axle</th>\n",
       "      <th>hgvs_4_or_more_rigid_axle</th>\n",
       "      <th>hgvs_3_or_4_articulated_axle</th>\n",
       "      <th>hgvs_5_articulated_axle</th>\n",
       "      <th>hgvs_6_articulated_axle</th>\n",
       "      <th>all_hgvs</th>\n",
       "      <th>all_motor_vehicles</th>\n",
       "    </tr>\n",
       "  </thead>\n",
       "  <tbody>\n",
       "    <tr>\n",
       "      <th>0</th>\n",
       "      <td>6003</td>\n",
       "      <td>N</td>\n",
       "      <td>2000</td>\n",
       "      <td>2000-03-31</td>\n",
       "      <td>7</td>\n",
       "      <td>7</td>\n",
       "      <td>East of England</td>\n",
       "      <td>208</td>\n",
       "      <td>Bedfordshire</td>\n",
       "      <td>M1</td>\n",
       "      <td>...</td>\n",
       "      <td>5</td>\n",
       "      <td>513</td>\n",
       "      <td>171.0</td>\n",
       "      <td>40</td>\n",
       "      <td>36</td>\n",
       "      <td>63</td>\n",
       "      <td>223</td>\n",
       "      <td>145</td>\n",
       "      <td>678.0</td>\n",
       "      <td>4006.0</td>\n",
       "    </tr>\n",
       "    <tr>\n",
       "      <th>1</th>\n",
       "      <td>6003</td>\n",
       "      <td>N</td>\n",
       "      <td>2000</td>\n",
       "      <td>2000-03-31</td>\n",
       "      <td>8</td>\n",
       "      <td>7</td>\n",
       "      <td>East of England</td>\n",
       "      <td>208</td>\n",
       "      <td>Bedfordshire</td>\n",
       "      <td>M1</td>\n",
       "      <td>...</td>\n",
       "      <td>11</td>\n",
       "      <td>436</td>\n",
       "      <td>203.0</td>\n",
       "      <td>17</td>\n",
       "      <td>11</td>\n",
       "      <td>60</td>\n",
       "      <td>180</td>\n",
       "      <td>119</td>\n",
       "      <td>590.0</td>\n",
       "      <td>4142.0</td>\n",
       "    </tr>\n",
       "    <tr>\n",
       "      <th>2</th>\n",
       "      <td>6003</td>\n",
       "      <td>N</td>\n",
       "      <td>2000</td>\n",
       "      <td>2000-03-31</td>\n",
       "      <td>9</td>\n",
       "      <td>7</td>\n",
       "      <td>East of England</td>\n",
       "      <td>208</td>\n",
       "      <td>Bedfordshire</td>\n",
       "      <td>M1</td>\n",
       "      <td>...</td>\n",
       "      <td>28</td>\n",
       "      <td>372</td>\n",
       "      <td>226.0</td>\n",
       "      <td>24</td>\n",
       "      <td>17</td>\n",
       "      <td>85</td>\n",
       "      <td>212</td>\n",
       "      <td>117</td>\n",
       "      <td>681.0</td>\n",
       "      <td>3325.0</td>\n",
       "    </tr>\n",
       "    <tr>\n",
       "      <th>3</th>\n",
       "      <td>6003</td>\n",
       "      <td>N</td>\n",
       "      <td>2000</td>\n",
       "      <td>2000-03-31</td>\n",
       "      <td>10</td>\n",
       "      <td>7</td>\n",
       "      <td>East of England</td>\n",
       "      <td>208</td>\n",
       "      <td>Bedfordshire</td>\n",
       "      <td>M1</td>\n",
       "      <td>...</td>\n",
       "      <td>26</td>\n",
       "      <td>457</td>\n",
       "      <td>202.0</td>\n",
       "      <td>26</td>\n",
       "      <td>22</td>\n",
       "      <td>80</td>\n",
       "      <td>262</td>\n",
       "      <td>157</td>\n",
       "      <td>749.0</td>\n",
       "      <td>3500.0</td>\n",
       "    </tr>\n",
       "    <tr>\n",
       "      <th>4</th>\n",
       "      <td>6003</td>\n",
       "      <td>N</td>\n",
       "      <td>2000</td>\n",
       "      <td>2000-03-31</td>\n",
       "      <td>11</td>\n",
       "      <td>7</td>\n",
       "      <td>East of England</td>\n",
       "      <td>208</td>\n",
       "      <td>Bedfordshire</td>\n",
       "      <td>M1</td>\n",
       "      <td>...</td>\n",
       "      <td>41</td>\n",
       "      <td>492</td>\n",
       "      <td>220.0</td>\n",
       "      <td>24</td>\n",
       "      <td>17</td>\n",
       "      <td>77</td>\n",
       "      <td>218</td>\n",
       "      <td>172</td>\n",
       "      <td>728.0</td>\n",
       "      <td>3693.0</td>\n",
       "    </tr>\n",
       "  </tbody>\n",
       "</table>\n",
       "<p>5 rows × 32 columns</p>\n",
       "</div>"
      ],
      "text/plain": [
       "   count_point_id direction_of_travel  year  count_date  hour  region_id  \\\n",
       "0            6003                   N  2000  2000-03-31     7          7   \n",
       "1            6003                   N  2000  2000-03-31     8          7   \n",
       "2            6003                   N  2000  2000-03-31     9          7   \n",
       "3            6003                   N  2000  2000-03-31    10          7   \n",
       "4            6003                   N  2000  2000-03-31    11          7   \n",
       "\n",
       "       region_name  local_authority_id local_authority_name road_name  ...  \\\n",
       "0  East of England                 208         Bedfordshire        M1  ...   \n",
       "1  East of England                 208         Bedfordshire        M1  ...   \n",
       "2  East of England                 208         Bedfordshire        M1  ...   \n",
       "3  East of England                 208         Bedfordshire        M1  ...   \n",
       "4  East of England                 208         Bedfordshire        M1  ...   \n",
       "\n",
       "  buses_and_coaches lgvs hgvs_2_rigid_axle  hgvs_3_rigid_axle  \\\n",
       "0                 5  513             171.0                 40   \n",
       "1                11  436             203.0                 17   \n",
       "2                28  372             226.0                 24   \n",
       "3                26  457             202.0                 26   \n",
       "4                41  492             220.0                 24   \n",
       "\n",
       "   hgvs_4_or_more_rigid_axle  hgvs_3_or_4_articulated_axle  \\\n",
       "0                         36                            63   \n",
       "1                         11                            60   \n",
       "2                         17                            85   \n",
       "3                         22                            80   \n",
       "4                         17                            77   \n",
       "\n",
       "   hgvs_5_articulated_axle  hgvs_6_articulated_axle  all_hgvs  \\\n",
       "0                      223                      145     678.0   \n",
       "1                      180                      119     590.0   \n",
       "2                      212                      117     681.0   \n",
       "3                      262                      157     749.0   \n",
       "4                      218                      172     728.0   \n",
       "\n",
       "   all_motor_vehicles  \n",
       "0              4006.0  \n",
       "1              4142.0  \n",
       "2              3325.0  \n",
       "3              3500.0  \n",
       "4              3693.0  \n",
       "\n",
       "[5 rows x 32 columns]"
      ]
     },
     "execution_count": 14,
     "metadata": {},
     "output_type": "execute_result"
    }
   ],
   "source": [
    "east_england = pd.read_csv(\"/Users/emillianlandu/capstone-Emillia-rosette/data/dft_rawcount_region_id_7.csv\")\n",
    "east_england.head()"
   ]
  },
  {
   "cell_type": "code",
   "execution_count": 15,
   "metadata": {},
   "outputs": [
    {
     "name": "stdout",
     "output_type": "stream",
     "text": [
      "<class 'pandas.core.frame.DataFrame'>\n",
      "RangeIndex: 550056 entries, 0 to 550055\n",
      "Data columns (total 32 columns):\n",
      " #   Column                        Non-Null Count   Dtype  \n",
      "---  ------                        --------------   -----  \n",
      " 0   count_point_id                550056 non-null  int64  \n",
      " 1   direction_of_travel           550056 non-null  object \n",
      " 2   year                          550056 non-null  int64  \n",
      " 3   count_date                    550056 non-null  object \n",
      " 4   hour                          550056 non-null  int64  \n",
      " 5   region_id                     550056 non-null  int64  \n",
      " 6   region_name                   550056 non-null  object \n",
      " 7   local_authority_id            550056 non-null  int64  \n",
      " 8   local_authority_name          550056 non-null  object \n",
      " 9   road_name                     550056 non-null  object \n",
      " 10  road_type                     550056 non-null  object \n",
      " 11  start_junction_road_name      220716 non-null  object \n",
      " 12  end_junction_road_name        220716 non-null  object \n",
      " 13  easting                       550056 non-null  int64  \n",
      " 14  northing                      550056 non-null  int64  \n",
      " 15  latitude                      550056 non-null  float64\n",
      " 16  longitude                     550056 non-null  float64\n",
      " 17  link_length_km                220944 non-null  float64\n",
      " 18  link_length_miles             220944 non-null  float64\n",
      " 19  pedal_cycles                  550056 non-null  int64  \n",
      " 20  two_wheeled_motor_vehicles    550056 non-null  int64  \n",
      " 21  cars_and_taxis                550056 non-null  int64  \n",
      " 22  buses_and_coaches             550056 non-null  int64  \n",
      " 23  lgvs                          550056 non-null  int64  \n",
      " 24  hgvs_2_rigid_axle             550054 non-null  float64\n",
      " 25  hgvs_3_rigid_axle             550056 non-null  int64  \n",
      " 26  hgvs_4_or_more_rigid_axle     550056 non-null  int64  \n",
      " 27  hgvs_3_or_4_articulated_axle  550056 non-null  int64  \n",
      " 28  hgvs_5_articulated_axle       550056 non-null  int64  \n",
      " 29  hgvs_6_articulated_axle       550056 non-null  int64  \n",
      " 30  all_hgvs                      550054 non-null  float64\n",
      " 31  all_motor_vehicles            550054 non-null  float64\n",
      "dtypes: float64(7), int64(17), object(8)\n",
      "memory usage: 134.3+ MB\n"
     ]
    }
   ],
   "source": [
    "east_england.info()"
   ]
  },
  {
   "cell_type": "code",
   "execution_count": 16,
   "metadata": {},
   "outputs": [
    {
     "data": {
      "text/plain": [
       "(550056, 32)"
      ]
     },
     "execution_count": 16,
     "metadata": {},
     "output_type": "execute_result"
    }
   ],
   "source": [
    "east_england.shape"
   ]
  },
  {
   "cell_type": "code",
   "execution_count": 17,
   "metadata": {},
   "outputs": [
    {
     "data": {
      "text/plain": [
       "Index(['count_point_id', 'direction_of_travel', 'year', 'count_date', 'hour',\n",
       "       'region_id', 'region_name', 'local_authority_id',\n",
       "       'local_authority_name', 'road_name', 'road_type',\n",
       "       'start_junction_road_name', 'end_junction_road_name', 'easting',\n",
       "       'northing', 'latitude', 'longitude', 'link_length_km',\n",
       "       'link_length_miles', 'pedal_cycles', 'two_wheeled_motor_vehicles',\n",
       "       'cars_and_taxis', 'buses_and_coaches', 'lgvs', 'hgvs_2_rigid_axle',\n",
       "       'hgvs_3_rigid_axle', 'hgvs_4_or_more_rigid_axle',\n",
       "       'hgvs_3_or_4_articulated_axle', 'hgvs_5_articulated_axle',\n",
       "       'hgvs_6_articulated_axle', 'all_hgvs', 'all_motor_vehicles'],\n",
       "      dtype='object')"
      ]
     },
     "execution_count": 17,
     "metadata": {},
     "output_type": "execute_result"
    }
   ],
   "source": [
    "east_england.columns"
   ]
  },
  {
   "cell_type": "code",
   "execution_count": 18,
   "metadata": {},
   "outputs": [
    {
     "data": {
      "text/plain": [
       "local_authority_name\n",
       "Essex                   134436\n",
       "Hertfordshire           104760\n",
       "Norfolk                  94752\n",
       "Cambridgeshire           62088\n",
       "Suffolk                  61572\n",
       "Peterborough             22416\n",
       "Thurrock                 16224\n",
       "Bedfordshire             14844\n",
       "Central Bedfordshire     12276\n",
       "Luton                     9828\n",
       "Southend-on-Sea           8676\n",
       "Bedford                   8184\n",
       "Name: count, dtype: int64"
      ]
     },
     "execution_count": 18,
     "metadata": {},
     "output_type": "execute_result"
    }
   ],
   "source": [
    "east_england['local_authority_name'].value_counts()"
   ]
  },
  {
   "cell_type": "code",
   "execution_count": 19,
   "metadata": {},
   "outputs": [
    {
     "data": {
      "text/plain": [
       "direction_of_travel\n",
       "N    145584\n",
       "S    145332\n",
       "E    129684\n",
       "W    129372\n",
       "s        48\n",
       "w        24\n",
       "C        12\n",
       "Name: count, dtype: int64"
      ]
     },
     "execution_count": 19,
     "metadata": {},
     "output_type": "execute_result"
    }
   ],
   "source": [
    "east_england['direction_of_travel'].value_counts()"
   ]
  },
  {
   "cell_type": "code",
   "execution_count": 20,
   "metadata": {},
   "outputs": [
    {
     "data": {
      "text/plain": [
       "road_name\n",
       "U        163716\n",
       "C         93972\n",
       "A14       12024\n",
       "A12       11436\n",
       "A1         7524\n",
       "          ...  \n",
       "B1440        24\n",
       "B1441        24\n",
       "A282         24\n",
       "B1155        24\n",
       "A1341        24\n",
       "Name: count, Length: 360, dtype: int64"
      ]
     },
     "execution_count": 20,
     "metadata": {},
     "output_type": "execute_result"
    }
   ],
   "source": [
    "east_england['road_name'].value_counts()"
   ]
  },
  {
   "cell_type": "code",
   "execution_count": 21,
   "metadata": {},
   "outputs": [
    {
     "data": {
      "text/plain": [
       "road_type\n",
       "Minor    329112\n",
       "Major    220944\n",
       "Name: count, dtype: int64"
      ]
     },
     "execution_count": 21,
     "metadata": {},
     "output_type": "execute_result"
    }
   ],
   "source": [
    "east_england['road_type'].value_counts()"
   ]
  },
  {
   "cell_type": "markdown",
   "metadata": {},
   "source": [
    "### Data Formatting"
   ]
  },
  {
   "cell_type": "code",
   "execution_count": 25,
   "metadata": {},
   "outputs": [
    {
     "data": {
      "text/plain": [
       "Index(['count_point_id', 'direction_of_travel', 'year', 'count_date', 'hour',\n",
       "       'region_id', 'region_name', 'local_authority_id',\n",
       "       'local_authority_name', 'road_name', 'road_type',\n",
       "       'start_junction_road_name', 'end_junction_road_name', 'easting',\n",
       "       'northing', 'latitude', 'longitude', 'link_length_km',\n",
       "       'link_length_miles', 'pedal_cycles', 'two_wheeled_motor_vehicles',\n",
       "       'cars_and_taxis', 'buses_and_coaches', 'lgvs', 'hgvs_2_rigid_axle',\n",
       "       'hgvs_3_rigid_axle', 'hgvs_4_or_more_rigid_axle',\n",
       "       'hgvs_3_or_4_articulated_axle', 'hgvs_5_articulated_axle',\n",
       "       'hgvs_6_articulated_axle', 'all_hgvs', 'all_motor_vehicles'],\n",
       "      dtype='object')"
      ]
     },
     "execution_count": 25,
     "metadata": {},
     "output_type": "execute_result"
    }
   ],
   "source": [
    "east_england.columns"
   ]
  },
  {
   "cell_type": "code",
   "execution_count": 26,
   "metadata": {},
   "outputs": [],
   "source": [
    "# conver `count_date` to datetime type\n",
    "east_england['count_date'] =  pd.to_datetime(pd_raw_count['count_date'])"
   ]
  },
  {
   "cell_type": "code",
   "execution_count": 27,
   "metadata": {},
   "outputs": [
    {
     "name": "stdout",
     "output_type": "stream",
     "text": [
      "\n",
      "Data types in pd_raw_count:\n",
      "count_point_id                           int64\n",
      "direction_of_travel                     object\n",
      "year                                     int64\n",
      "count_date                      datetime64[ns]\n",
      "hour                                     int64\n",
      "region_id                                int64\n",
      "region_name                             object\n",
      "local_authority_id                       int64\n",
      "local_authority_name                    object\n",
      "road_name                               object\n",
      "road_type                               object\n",
      "start_junction_road_name                object\n",
      "end_junction_road_name                  object\n",
      "easting                                  int64\n",
      "northing                                 int64\n",
      "latitude                               float64\n",
      "longitude                              float64\n",
      "link_length_km                         float64\n",
      "link_length_miles                      float64\n",
      "pedal_cycles                             int64\n",
      "two_wheeled_motor_vehicles               int64\n",
      "cars_and_taxis                           int64\n",
      "buses_and_coaches                        int64\n",
      "lgvs                                     int64\n",
      "hgvs_2_rigid_axle                      float64\n",
      "hgvs_3_rigid_axle                        int64\n",
      "hgvs_4_or_more_rigid_axle                int64\n",
      "hgvs_3_or_4_articulated_axle             int64\n",
      "hgvs_5_articulated_axle                  int64\n",
      "hgvs_6_articulated_axle                  int64\n",
      "all_hgvs                               float64\n",
      "all_motor_vehicles                     float64\n",
      "dtype: object\n"
     ]
    }
   ],
   "source": [
    "# Check data types\n",
    "print(\"\\nData types in pd_raw_count:\")\n",
    "print(east_england.dtypes)"
   ]
  },
  {
   "cell_type": "code",
   "execution_count": 28,
   "metadata": {},
   "outputs": [],
   "source": [
    "# Extract Date Components \n",
    "east_england['Month'] = east_england['count_date'].dt.month\n",
    "east_england['Day_of_Week'] = east_england['count_date'].dt.day_name()\n",
    "east_england['Day'] = east_england['count_date'].dt.day"
   ]
  },
  {
   "cell_type": "code",
   "execution_count": 29,
   "metadata": {},
   "outputs": [
    {
     "data": {
      "text/plain": [
       "0   2004-05-21\n",
       "1   2004-05-21\n",
       "2   2004-05-21\n",
       "3   2004-05-21\n",
       "4   2004-05-21\n",
       "Name: count_date, dtype: datetime64[ns]"
      ]
     },
     "execution_count": 29,
     "metadata": {},
     "output_type": "execute_result"
    }
   ],
   "source": [
    "east_england['count_date'].head()"
   ]
  },
  {
   "cell_type": "code",
   "execution_count": 30,
   "metadata": {},
   "outputs": [],
   "source": [
    "# Create a 'timestamp' column by combining 'count_date' and 'hour'\n",
    "east_england['timestamp'] = pd.to_datetime(east_england['count_date']) + pd.to_timedelta(east_england['hour'], unit='h')"
   ]
  },
  {
   "cell_type": "code",
   "execution_count": 31,
   "metadata": {},
   "outputs": [
    {
     "data": {
      "text/html": [
       "<div>\n",
       "<style scoped>\n",
       "    .dataframe tbody tr th:only-of-type {\n",
       "        vertical-align: middle;\n",
       "    }\n",
       "\n",
       "    .dataframe tbody tr th {\n",
       "        vertical-align: top;\n",
       "    }\n",
       "\n",
       "    .dataframe thead th {\n",
       "        text-align: right;\n",
       "    }\n",
       "</style>\n",
       "<table border=\"1\" class=\"dataframe\">\n",
       "  <thead>\n",
       "    <tr style=\"text-align: right;\">\n",
       "      <th></th>\n",
       "      <th>count_point_id</th>\n",
       "      <th>direction_of_travel</th>\n",
       "      <th>year</th>\n",
       "      <th>count_date</th>\n",
       "      <th>hour</th>\n",
       "      <th>region_id</th>\n",
       "      <th>region_name</th>\n",
       "      <th>local_authority_id</th>\n",
       "      <th>local_authority_name</th>\n",
       "      <th>road_name</th>\n",
       "      <th>...</th>\n",
       "      <th>hgvs_4_or_more_rigid_axle</th>\n",
       "      <th>hgvs_3_or_4_articulated_axle</th>\n",
       "      <th>hgvs_5_articulated_axle</th>\n",
       "      <th>hgvs_6_articulated_axle</th>\n",
       "      <th>all_hgvs</th>\n",
       "      <th>all_motor_vehicles</th>\n",
       "      <th>Month</th>\n",
       "      <th>Day_of_Week</th>\n",
       "      <th>Day</th>\n",
       "      <th>timestamp</th>\n",
       "    </tr>\n",
       "  </thead>\n",
       "  <tbody>\n",
       "    <tr>\n",
       "      <th>0</th>\n",
       "      <td>6003</td>\n",
       "      <td>N</td>\n",
       "      <td>2000</td>\n",
       "      <td>2004-05-21</td>\n",
       "      <td>7</td>\n",
       "      <td>7</td>\n",
       "      <td>East of England</td>\n",
       "      <td>208</td>\n",
       "      <td>Bedfordshire</td>\n",
       "      <td>M1</td>\n",
       "      <td>...</td>\n",
       "      <td>36</td>\n",
       "      <td>63</td>\n",
       "      <td>223</td>\n",
       "      <td>145</td>\n",
       "      <td>678.0</td>\n",
       "      <td>4006.0</td>\n",
       "      <td>5</td>\n",
       "      <td>Friday</td>\n",
       "      <td>21</td>\n",
       "      <td>2004-05-21 07:00:00</td>\n",
       "    </tr>\n",
       "    <tr>\n",
       "      <th>1</th>\n",
       "      <td>6003</td>\n",
       "      <td>N</td>\n",
       "      <td>2000</td>\n",
       "      <td>2004-05-21</td>\n",
       "      <td>8</td>\n",
       "      <td>7</td>\n",
       "      <td>East of England</td>\n",
       "      <td>208</td>\n",
       "      <td>Bedfordshire</td>\n",
       "      <td>M1</td>\n",
       "      <td>...</td>\n",
       "      <td>11</td>\n",
       "      <td>60</td>\n",
       "      <td>180</td>\n",
       "      <td>119</td>\n",
       "      <td>590.0</td>\n",
       "      <td>4142.0</td>\n",
       "      <td>5</td>\n",
       "      <td>Friday</td>\n",
       "      <td>21</td>\n",
       "      <td>2004-05-21 08:00:00</td>\n",
       "    </tr>\n",
       "    <tr>\n",
       "      <th>2</th>\n",
       "      <td>6003</td>\n",
       "      <td>N</td>\n",
       "      <td>2000</td>\n",
       "      <td>2004-05-21</td>\n",
       "      <td>9</td>\n",
       "      <td>7</td>\n",
       "      <td>East of England</td>\n",
       "      <td>208</td>\n",
       "      <td>Bedfordshire</td>\n",
       "      <td>M1</td>\n",
       "      <td>...</td>\n",
       "      <td>17</td>\n",
       "      <td>85</td>\n",
       "      <td>212</td>\n",
       "      <td>117</td>\n",
       "      <td>681.0</td>\n",
       "      <td>3325.0</td>\n",
       "      <td>5</td>\n",
       "      <td>Friday</td>\n",
       "      <td>21</td>\n",
       "      <td>2004-05-21 09:00:00</td>\n",
       "    </tr>\n",
       "    <tr>\n",
       "      <th>3</th>\n",
       "      <td>6003</td>\n",
       "      <td>N</td>\n",
       "      <td>2000</td>\n",
       "      <td>2004-05-21</td>\n",
       "      <td>10</td>\n",
       "      <td>7</td>\n",
       "      <td>East of England</td>\n",
       "      <td>208</td>\n",
       "      <td>Bedfordshire</td>\n",
       "      <td>M1</td>\n",
       "      <td>...</td>\n",
       "      <td>22</td>\n",
       "      <td>80</td>\n",
       "      <td>262</td>\n",
       "      <td>157</td>\n",
       "      <td>749.0</td>\n",
       "      <td>3500.0</td>\n",
       "      <td>5</td>\n",
       "      <td>Friday</td>\n",
       "      <td>21</td>\n",
       "      <td>2004-05-21 10:00:00</td>\n",
       "    </tr>\n",
       "    <tr>\n",
       "      <th>4</th>\n",
       "      <td>6003</td>\n",
       "      <td>N</td>\n",
       "      <td>2000</td>\n",
       "      <td>2004-05-21</td>\n",
       "      <td>11</td>\n",
       "      <td>7</td>\n",
       "      <td>East of England</td>\n",
       "      <td>208</td>\n",
       "      <td>Bedfordshire</td>\n",
       "      <td>M1</td>\n",
       "      <td>...</td>\n",
       "      <td>17</td>\n",
       "      <td>77</td>\n",
       "      <td>218</td>\n",
       "      <td>172</td>\n",
       "      <td>728.0</td>\n",
       "      <td>3693.0</td>\n",
       "      <td>5</td>\n",
       "      <td>Friday</td>\n",
       "      <td>21</td>\n",
       "      <td>2004-05-21 11:00:00</td>\n",
       "    </tr>\n",
       "  </tbody>\n",
       "</table>\n",
       "<p>5 rows × 36 columns</p>\n",
       "</div>"
      ],
      "text/plain": [
       "   count_point_id direction_of_travel  year count_date  hour  region_id  \\\n",
       "0            6003                   N  2000 2004-05-21     7          7   \n",
       "1            6003                   N  2000 2004-05-21     8          7   \n",
       "2            6003                   N  2000 2004-05-21     9          7   \n",
       "3            6003                   N  2000 2004-05-21    10          7   \n",
       "4            6003                   N  2000 2004-05-21    11          7   \n",
       "\n",
       "       region_name  local_authority_id local_authority_name road_name  ...  \\\n",
       "0  East of England                 208         Bedfordshire        M1  ...   \n",
       "1  East of England                 208         Bedfordshire        M1  ...   \n",
       "2  East of England                 208         Bedfordshire        M1  ...   \n",
       "3  East of England                 208         Bedfordshire        M1  ...   \n",
       "4  East of England                 208         Bedfordshire        M1  ...   \n",
       "\n",
       "  hgvs_4_or_more_rigid_axle hgvs_3_or_4_articulated_axle  \\\n",
       "0                        36                           63   \n",
       "1                        11                           60   \n",
       "2                        17                           85   \n",
       "3                        22                           80   \n",
       "4                        17                           77   \n",
       "\n",
       "  hgvs_5_articulated_axle  hgvs_6_articulated_axle  all_hgvs  \\\n",
       "0                     223                      145     678.0   \n",
       "1                     180                      119     590.0   \n",
       "2                     212                      117     681.0   \n",
       "3                     262                      157     749.0   \n",
       "4                     218                      172     728.0   \n",
       "\n",
       "   all_motor_vehicles  Month  Day_of_Week  Day           timestamp  \n",
       "0              4006.0      5       Friday   21 2004-05-21 07:00:00  \n",
       "1              4142.0      5       Friday   21 2004-05-21 08:00:00  \n",
       "2              3325.0      5       Friday   21 2004-05-21 09:00:00  \n",
       "3              3500.0      5       Friday   21 2004-05-21 10:00:00  \n",
       "4              3693.0      5       Friday   21 2004-05-21 11:00:00  \n",
       "\n",
       "[5 rows x 36 columns]"
      ]
     },
     "execution_count": 31,
     "metadata": {},
     "output_type": "execute_result"
    }
   ],
   "source": [
    "east_england.head()"
   ]
  },
  {
   "cell_type": "code",
   "execution_count": 32,
   "metadata": {},
   "outputs": [
    {
     "data": {
      "text/plain": [
       "(550056, 36)"
      ]
     },
     "execution_count": 32,
     "metadata": {},
     "output_type": "execute_result"
    }
   ],
   "source": [
    "east_england.shape"
   ]
  },
  {
   "cell_type": "code",
   "execution_count": 33,
   "metadata": {},
   "outputs": [],
   "source": [
    "columns_to_drop = [\n",
    "    'year', 'region_id', 'region_name', 'local_authority_id', 'road_name', \n",
    "    'easting', 'northing', 'start_junction_road_name', 'end_junction_road_name', \n",
    "    'link_length_km', 'link_length_miles', 'latitude', 'longitude', 'pedal_cycles', \n",
    "    'hgvs_2_rigid_axle', 'hgvs_3_rigid_axle', 'hgvs_4_or_more_rigid_axle', \n",
    "    'hgvs_3_or_4_articulated_axle', 'hgvs_5_articulated_axle', 'hgvs_6_articulated_axle', \n",
    "    'all_hgvs', 'buses_and_coaches', 'cars_and_taxis', 'two_wheeled_motor_vehicles', \n",
    "    'lgvs'\n",
    "]\n",
    "\n",
    "east_england_data = east_england.drop(columns=columns_to_drop)"
   ]
  },
  {
   "cell_type": "code",
   "execution_count": 34,
   "metadata": {},
   "outputs": [
    {
     "data": {
      "text/html": [
       "<div>\n",
       "<style scoped>\n",
       "    .dataframe tbody tr th:only-of-type {\n",
       "        vertical-align: middle;\n",
       "    }\n",
       "\n",
       "    .dataframe tbody tr th {\n",
       "        vertical-align: top;\n",
       "    }\n",
       "\n",
       "    .dataframe thead th {\n",
       "        text-align: right;\n",
       "    }\n",
       "</style>\n",
       "<table border=\"1\" class=\"dataframe\">\n",
       "  <thead>\n",
       "    <tr style=\"text-align: right;\">\n",
       "      <th></th>\n",
       "      <th>count_point_id</th>\n",
       "      <th>direction_of_travel</th>\n",
       "      <th>count_date</th>\n",
       "      <th>hour</th>\n",
       "      <th>local_authority_name</th>\n",
       "      <th>road_type</th>\n",
       "      <th>all_motor_vehicles</th>\n",
       "      <th>Month</th>\n",
       "      <th>Day_of_Week</th>\n",
       "      <th>Day</th>\n",
       "      <th>timestamp</th>\n",
       "    </tr>\n",
       "  </thead>\n",
       "  <tbody>\n",
       "    <tr>\n",
       "      <th>119682</th>\n",
       "      <td>46514</td>\n",
       "      <td>E</td>\n",
       "      <td>2006-06-26</td>\n",
       "      <td>13</td>\n",
       "      <td>Norfolk</td>\n",
       "      <td>Major</td>\n",
       "      <td>533.0</td>\n",
       "      <td>6</td>\n",
       "      <td>Monday</td>\n",
       "      <td>26</td>\n",
       "      <td>2006-06-26 13:00:00</td>\n",
       "    </tr>\n",
       "    <tr>\n",
       "      <th>477345</th>\n",
       "      <td>950917</td>\n",
       "      <td>S</td>\n",
       "      <td>2000-10-02</td>\n",
       "      <td>16</td>\n",
       "      <td>Hertfordshire</td>\n",
       "      <td>Minor</td>\n",
       "      <td>131.0</td>\n",
       "      <td>10</td>\n",
       "      <td>Monday</td>\n",
       "      <td>2</td>\n",
       "      <td>2000-10-02 16:00:00</td>\n",
       "    </tr>\n",
       "    <tr>\n",
       "      <th>343457</th>\n",
       "      <td>940981</td>\n",
       "      <td>W</td>\n",
       "      <td>2004-03-12</td>\n",
       "      <td>12</td>\n",
       "      <td>Cambridgeshire</td>\n",
       "      <td>Minor</td>\n",
       "      <td>125.0</td>\n",
       "      <td>3</td>\n",
       "      <td>Friday</td>\n",
       "      <td>12</td>\n",
       "      <td>2004-03-12 12:00:00</td>\n",
       "    </tr>\n",
       "    <tr>\n",
       "      <th>526423</th>\n",
       "      <td>969152</td>\n",
       "      <td>W</td>\n",
       "      <td>2015-04-28</td>\n",
       "      <td>14</td>\n",
       "      <td>Norfolk</td>\n",
       "      <td>Minor</td>\n",
       "      <td>79.0</td>\n",
       "      <td>4</td>\n",
       "      <td>Tuesday</td>\n",
       "      <td>28</td>\n",
       "      <td>2015-04-28 14:00:00</td>\n",
       "    </tr>\n",
       "    <tr>\n",
       "      <th>293417</th>\n",
       "      <td>820105</td>\n",
       "      <td>N</td>\n",
       "      <td>2002-06-14</td>\n",
       "      <td>13</td>\n",
       "      <td>Suffolk</td>\n",
       "      <td>Minor</td>\n",
       "      <td>32.0</td>\n",
       "      <td>6</td>\n",
       "      <td>Friday</td>\n",
       "      <td>14</td>\n",
       "      <td>2002-06-14 13:00:00</td>\n",
       "    </tr>\n",
       "    <tr>\n",
       "      <th>108583</th>\n",
       "      <td>38497</td>\n",
       "      <td>S</td>\n",
       "      <td>2003-03-14</td>\n",
       "      <td>14</td>\n",
       "      <td>Hertfordshire</td>\n",
       "      <td>Major</td>\n",
       "      <td>1492.0</td>\n",
       "      <td>3</td>\n",
       "      <td>Friday</td>\n",
       "      <td>14</td>\n",
       "      <td>2003-03-14 14:00:00</td>\n",
       "    </tr>\n",
       "    <tr>\n",
       "      <th>345314</th>\n",
       "      <td>941001</td>\n",
       "      <td>N</td>\n",
       "      <td>2019-05-17</td>\n",
       "      <td>9</td>\n",
       "      <td>Cambridgeshire</td>\n",
       "      <td>Minor</td>\n",
       "      <td>26.0</td>\n",
       "      <td>5</td>\n",
       "      <td>Friday</td>\n",
       "      <td>17</td>\n",
       "      <td>2019-05-17 09:00:00</td>\n",
       "    </tr>\n",
       "    <tr>\n",
       "      <th>513257</th>\n",
       "      <td>965563</td>\n",
       "      <td>N</td>\n",
       "      <td>2010-05-17</td>\n",
       "      <td>12</td>\n",
       "      <td>Bedfordshire</td>\n",
       "      <td>Minor</td>\n",
       "      <td>259.0</td>\n",
       "      <td>5</td>\n",
       "      <td>Monday</td>\n",
       "      <td>17</td>\n",
       "      <td>2010-05-17 12:00:00</td>\n",
       "    </tr>\n",
       "    <tr>\n",
       "      <th>125884</th>\n",
       "      <td>47252</td>\n",
       "      <td>W</td>\n",
       "      <td>2002-10-11</td>\n",
       "      <td>11</td>\n",
       "      <td>Cambridgeshire</td>\n",
       "      <td>Major</td>\n",
       "      <td>455.0</td>\n",
       "      <td>10</td>\n",
       "      <td>Friday</td>\n",
       "      <td>11</td>\n",
       "      <td>2002-10-11 11:00:00</td>\n",
       "    </tr>\n",
       "    <tr>\n",
       "      <th>111303</th>\n",
       "      <td>38817</td>\n",
       "      <td>E</td>\n",
       "      <td>2010-06-07</td>\n",
       "      <td>10</td>\n",
       "      <td>Norfolk</td>\n",
       "      <td>Major</td>\n",
       "      <td>1526.0</td>\n",
       "      <td>6</td>\n",
       "      <td>Monday</td>\n",
       "      <td>7</td>\n",
       "      <td>2010-06-07 10:00:00</td>\n",
       "    </tr>\n",
       "  </tbody>\n",
       "</table>\n",
       "</div>"
      ],
      "text/plain": [
       "        count_point_id direction_of_travel count_date  hour  \\\n",
       "119682           46514                   E 2006-06-26    13   \n",
       "477345          950917                   S 2000-10-02    16   \n",
       "343457          940981                   W 2004-03-12    12   \n",
       "526423          969152                   W 2015-04-28    14   \n",
       "293417          820105                   N 2002-06-14    13   \n",
       "108583           38497                   S 2003-03-14    14   \n",
       "345314          941001                   N 2019-05-17     9   \n",
       "513257          965563                   N 2010-05-17    12   \n",
       "125884           47252                   W 2002-10-11    11   \n",
       "111303           38817                   E 2010-06-07    10   \n",
       "\n",
       "       local_authority_name road_type  all_motor_vehicles  Month Day_of_Week  \\\n",
       "119682              Norfolk     Major               533.0      6      Monday   \n",
       "477345        Hertfordshire     Minor               131.0     10      Monday   \n",
       "343457       Cambridgeshire     Minor               125.0      3      Friday   \n",
       "526423              Norfolk     Minor                79.0      4     Tuesday   \n",
       "293417              Suffolk     Minor                32.0      6      Friday   \n",
       "108583        Hertfordshire     Major              1492.0      3      Friday   \n",
       "345314       Cambridgeshire     Minor                26.0      5      Friday   \n",
       "513257         Bedfordshire     Minor               259.0      5      Monday   \n",
       "125884       Cambridgeshire     Major               455.0     10      Friday   \n",
       "111303              Norfolk     Major              1526.0      6      Monday   \n",
       "\n",
       "        Day           timestamp  \n",
       "119682   26 2006-06-26 13:00:00  \n",
       "477345    2 2000-10-02 16:00:00  \n",
       "343457   12 2004-03-12 12:00:00  \n",
       "526423   28 2015-04-28 14:00:00  \n",
       "293417   14 2002-06-14 13:00:00  \n",
       "108583   14 2003-03-14 14:00:00  \n",
       "345314   17 2019-05-17 09:00:00  \n",
       "513257   17 2010-05-17 12:00:00  \n",
       "125884   11 2002-10-11 11:00:00  \n",
       "111303    7 2010-06-07 10:00:00  "
      ]
     },
     "execution_count": 34,
     "metadata": {},
     "output_type": "execute_result"
    }
   ],
   "source": [
    "east_england_data.sample(10)"
   ]
  },
  {
   "cell_type": "markdown",
   "metadata": {},
   "source": [
    "### Check Data Duplicates"
   ]
  },
  {
   "cell_type": "markdown",
   "metadata": {},
   "source": [
    "**Notes**:\n",
    "\n",
    "- No duplicates found in either dataset as data already aggrated"
   ]
  },
  {
   "cell_type": "code",
   "execution_count": 35,
   "metadata": {},
   "outputs": [
    {
     "name": "stdout",
     "output_type": "stream",
     "text": [
      "False    549471\n",
      "True        585\n",
      "Name: count, dtype: int64\n"
     ]
    }
   ],
   "source": [
    "duplicates = east_england_data.duplicated().value_counts()\n",
    "print(duplicates) "
   ]
  },
  {
   "cell_type": "code",
   "execution_count": 36,
   "metadata": {},
   "outputs": [],
   "source": [
    "east_england_data_cleaned = east_england_data.drop_duplicates()"
   ]
  },
  {
   "cell_type": "code",
   "execution_count": 37,
   "metadata": {},
   "outputs": [
    {
     "data": {
      "text/plain": [
       "0         False\n",
       "1         False\n",
       "2         False\n",
       "3         False\n",
       "4         False\n",
       "          ...  \n",
       "550051    False\n",
       "550052    False\n",
       "550053    False\n",
       "550054    False\n",
       "550055    False\n",
       "Length: 549471, dtype: bool"
      ]
     },
     "execution_count": 37,
     "metadata": {},
     "output_type": "execute_result"
    }
   ],
   "source": [
    "east_england_data_cleaned.duplicated()"
   ]
  },
  {
   "cell_type": "markdown",
   "metadata": {},
   "source": [
    "### Check for Nulls"
   ]
  },
  {
   "cell_type": "code",
   "execution_count": 38,
   "metadata": {},
   "outputs": [
    {
     "name": "stdout",
     "output_type": "stream",
     "text": [
      "\n",
      "Missing values in pd_raw_count:\n",
      "count_point_id          0.0\n",
      "direction_of_travel     0.0\n",
      "count_date              0.0\n",
      "hour                    0.0\n",
      "local_authority_name    0.0\n",
      "road_type               0.0\n",
      "all_motor_vehicles      0.0\n",
      "Month                   0.0\n",
      "Day_of_Week             0.0\n",
      "Day                     0.0\n",
      "timestamp               0.0\n",
      "dtype: float64\n"
     ]
    }
   ],
   "source": [
    "print(\"\\nMissing values in pd_raw_count:\")\n",
    "print((east_england_data.isna().sum() * 100 / east_england_data.shape[0]).round(2))"
   ]
  },
  {
   "cell_type": "markdown",
   "metadata": {},
   "source": [
    "### Final Investigation"
   ]
  },
  {
   "cell_type": "code",
   "execution_count": 39,
   "metadata": {},
   "outputs": [
    {
     "name": "stdout",
     "output_type": "stream",
     "text": [
      "<class 'pandas.core.frame.DataFrame'>\n",
      "RangeIndex: 550056 entries, 0 to 550055\n",
      "Data columns (total 11 columns):\n",
      " #   Column                Non-Null Count   Dtype         \n",
      "---  ------                --------------   -----         \n",
      " 0   count_point_id        550056 non-null  int64         \n",
      " 1   direction_of_travel   550056 non-null  object        \n",
      " 2   count_date            550056 non-null  datetime64[ns]\n",
      " 3   hour                  550056 non-null  int64         \n",
      " 4   local_authority_name  550056 non-null  object        \n",
      " 5   road_type             550056 non-null  object        \n",
      " 6   all_motor_vehicles    550054 non-null  float64       \n",
      " 7   Month                 550056 non-null  int32         \n",
      " 8   Day_of_Week           550056 non-null  object        \n",
      " 9   Day                   550056 non-null  int32         \n",
      " 10  timestamp             550056 non-null  datetime64[ns]\n",
      "dtypes: datetime64[ns](2), float64(1), int32(2), int64(2), object(4)\n",
      "memory usage: 42.0+ MB\n"
     ]
    }
   ],
   "source": [
    "east_england_data.info()"
   ]
  },
  {
   "cell_type": "code",
   "execution_count": 40,
   "metadata": {},
   "outputs": [
    {
     "data": {
      "text/plain": [
       "(549471, 11)"
      ]
     },
     "execution_count": 40,
     "metadata": {},
     "output_type": "execute_result"
    }
   ],
   "source": [
    "east_england_data_cleaned.shape"
   ]
  },
  {
   "cell_type": "markdown",
   "metadata": {},
   "source": [
    "#### Save cleaned data to a new CSV"
   ]
  },
  {
   "cell_type": "code",
   "execution_count": 41,
   "metadata": {},
   "outputs": [],
   "source": [
    "east_england_data_cleaned.to_csv('../data/east_england_data_revised_cleaned.csv', index=False)"
   ]
  }
 ],
 "metadata": {
  "kernelspec": {
   "display_name": "capstone",
   "language": "python",
   "name": "python3"
  },
  "language_info": {
   "codemirror_mode": {
    "name": "ipython",
    "version": 3
   },
   "file_extension": ".py",
   "mimetype": "text/x-python",
   "name": "python",
   "nbconvert_exporter": "python",
   "pygments_lexer": "ipython3",
   "version": "3.8.18"
  },
  "orig_nbformat": 4
 },
 "nbformat": 4,
 "nbformat_minor": 2
}
