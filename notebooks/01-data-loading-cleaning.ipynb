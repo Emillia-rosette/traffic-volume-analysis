{
 "cells": [
  {
   "cell_type": "markdown",
   "metadata": {},
   "source": [
    "## Data Loading"
   ]
  },
  {
   "cell_type": "code",
   "execution_count": 1,
   "metadata": {},
   "outputs": [],
   "source": [
    "# import libraries\n",
    "\n",
    "import pandas as pd\n",
    "import numpy as np\n",
    "import seaborn as sns\n",
    "import matplotlib.pyplot as plt"
   ]
  },
  {
   "cell_type": "code",
   "execution_count": 2,
   "metadata": {},
   "outputs": [],
   "source": [
    "pd_count_points = pd.read_csv('../data/dft_countpoints_region_id_7.csv')"
   ]
  },
  {
   "cell_type": "code",
   "execution_count": 3,
   "metadata": {},
   "outputs": [
    {
     "name": "stderr",
     "output_type": "stream",
     "text": [
      "/var/folders/_z/nz5spzqj2rl11n5lc_k1cwwc0000gn/T/ipykernel_62722/254017237.py:1: DtypeWarning: Columns (11,12) have mixed types. Specify dtype option on import or set low_memory=False.\n",
      "  pd_raw_count = pd.read_csv('../data/dft_rawcount_region_id_7.csv')\n"
     ]
    }
   ],
   "source": [
    "pd_raw_count = pd.read_csv('../data/dft_rawcount_region_id_7.csv')"
   ]
  },
  {
   "cell_type": "markdown",
   "metadata": {},
   "source": [
    "## Data Inspection"
   ]
  },
  {
   "cell_type": "markdown",
   "metadata": {},
   "source": [
    "#### Basic Inspection of pd_count_points dataset"
   ]
  },
  {
   "cell_type": "code",
   "execution_count": 4,
   "metadata": {},
   "outputs": [
    {
     "data": {
      "text/html": [
       "<div>\n",
       "<style scoped>\n",
       "    .dataframe tbody tr th:only-of-type {\n",
       "        vertical-align: middle;\n",
       "    }\n",
       "\n",
       "    .dataframe tbody tr th {\n",
       "        vertical-align: top;\n",
       "    }\n",
       "\n",
       "    .dataframe thead th {\n",
       "        text-align: right;\n",
       "    }\n",
       "</style>\n",
       "<table border=\"1\" class=\"dataframe\">\n",
       "  <thead>\n",
       "    <tr style=\"text-align: right;\">\n",
       "      <th></th>\n",
       "      <th>count_point_id</th>\n",
       "      <th>region_id</th>\n",
       "      <th>region_name</th>\n",
       "      <th>local_authority_id</th>\n",
       "      <th>local_authority_name</th>\n",
       "      <th>road_name</th>\n",
       "      <th>road_type</th>\n",
       "      <th>start_junction_road_name</th>\n",
       "      <th>end_junction_road_name</th>\n",
       "      <th>easting</th>\n",
       "      <th>northing</th>\n",
       "      <th>latitude</th>\n",
       "      <th>longitude</th>\n",
       "      <th>link_length_km</th>\n",
       "      <th>link_length_miles</th>\n",
       "    </tr>\n",
       "  </thead>\n",
       "  <tbody>\n",
       "    <tr>\n",
       "      <th>3543</th>\n",
       "      <td>81084</td>\n",
       "      <td>7</td>\n",
       "      <td>East of England</td>\n",
       "      <td>120</td>\n",
       "      <td>Luton</td>\n",
       "      <td>A5228</td>\n",
       "      <td>Major</td>\n",
       "      <td>B579 - Leagrave Road</td>\n",
       "      <td>A6</td>\n",
       "      <td>508220</td>\n",
       "      <td>223140</td>\n",
       "      <td>51.896312</td>\n",
       "      <td>-0.428648</td>\n",
       "      <td>1.3</td>\n",
       "      <td>0.81</td>\n",
       "    </tr>\n",
       "  </tbody>\n",
       "</table>\n",
       "</div>"
      ],
      "text/plain": [
       "      count_point_id  region_id      region_name  local_authority_id  \\\n",
       "3543           81084          7  East of England                 120   \n",
       "\n",
       "     local_authority_name road_name road_type start_junction_road_name  \\\n",
       "3543                Luton     A5228     Major     B579 - Leagrave Road   \n",
       "\n",
       "     end_junction_road_name  easting  northing   latitude  longitude  \\\n",
       "3543                     A6   508220    223140  51.896312  -0.428648   \n",
       "\n",
       "      link_length_km  link_length_miles  \n",
       "3543             1.3               0.81  "
      ]
     },
     "execution_count": 4,
     "metadata": {},
     "output_type": "execute_result"
    }
   ],
   "source": [
    "pd_count_points.sample()"
   ]
  },
  {
   "cell_type": "code",
   "execution_count": 5,
   "metadata": {},
   "outputs": [
    {
     "data": {
      "text/plain": [
       "Index(['count_point_id', 'region_id', 'region_name', 'local_authority_id',\n",
       "       'local_authority_name', 'road_name', 'road_type',\n",
       "       'start_junction_road_name', 'end_junction_road_name', 'easting',\n",
       "       'northing', 'latitude', 'longitude', 'link_length_km',\n",
       "       'link_length_miles'],\n",
       "      dtype='object')"
      ]
     },
     "execution_count": 5,
     "metadata": {},
     "output_type": "execute_result"
    }
   ],
   "source": [
    "pd_count_points.columns"
   ]
  },
  {
   "cell_type": "code",
   "execution_count": 6,
   "metadata": {},
   "outputs": [
    {
     "name": "stdout",
     "output_type": "stream",
     "text": [
      "The shape for count_points:\n",
      "(4981, 15)\n"
     ]
    }
   ],
   "source": [
    "print(f\"The shape for count_points:\\n{pd_count_points.shape}\")"
   ]
  },
  {
   "cell_type": "code",
   "execution_count": 7,
   "metadata": {},
   "outputs": [
    {
     "name": "stdout",
     "output_type": "stream",
     "text": [
      "<class 'pandas.core.frame.DataFrame'>\n",
      "RangeIndex: 4981 entries, 0 to 4980\n",
      "Data columns (total 15 columns):\n",
      " #   Column                    Non-Null Count  Dtype  \n",
      "---  ------                    --------------  -----  \n",
      " 0   count_point_id            4981 non-null   int64  \n",
      " 1   region_id                 4981 non-null   int64  \n",
      " 2   region_name               4981 non-null   object \n",
      " 3   local_authority_id        4981 non-null   int64  \n",
      " 4   local_authority_name      4981 non-null   object \n",
      " 5   road_name                 4981 non-null   object \n",
      " 6   road_type                 4981 non-null   object \n",
      " 7   start_junction_road_name  1867 non-null   object \n",
      " 8   end_junction_road_name    1867 non-null   object \n",
      " 9   easting                   4981 non-null   int64  \n",
      " 10  northing                  4981 non-null   int64  \n",
      " 11  latitude                  4981 non-null   float64\n",
      " 12  longitude                 4981 non-null   float64\n",
      " 13  link_length_km            1872 non-null   float64\n",
      " 14  link_length_miles         1872 non-null   float64\n",
      "dtypes: float64(4), int64(5), object(6)\n",
      "memory usage: 583.8+ KB\n"
     ]
    }
   ],
   "source": [
    "pd_count_points.info()"
   ]
  },
  {
   "cell_type": "markdown",
   "metadata": {},
   "source": [
    "#### Basic Inspection of pd_raw_count dataset"
   ]
  },
  {
   "cell_type": "code",
   "execution_count": 8,
   "metadata": {},
   "outputs": [
    {
     "data": {
      "text/html": [
       "<div>\n",
       "<style scoped>\n",
       "    .dataframe tbody tr th:only-of-type {\n",
       "        vertical-align: middle;\n",
       "    }\n",
       "\n",
       "    .dataframe tbody tr th {\n",
       "        vertical-align: top;\n",
       "    }\n",
       "\n",
       "    .dataframe thead th {\n",
       "        text-align: right;\n",
       "    }\n",
       "</style>\n",
       "<table border=\"1\" class=\"dataframe\">\n",
       "  <thead>\n",
       "    <tr style=\"text-align: right;\">\n",
       "      <th></th>\n",
       "      <th>count_point_id</th>\n",
       "      <th>direction_of_travel</th>\n",
       "      <th>year</th>\n",
       "      <th>count_date</th>\n",
       "      <th>hour</th>\n",
       "      <th>region_id</th>\n",
       "      <th>region_name</th>\n",
       "      <th>local_authority_id</th>\n",
       "      <th>local_authority_name</th>\n",
       "      <th>road_name</th>\n",
       "      <th>...</th>\n",
       "      <th>buses_and_coaches</th>\n",
       "      <th>lgvs</th>\n",
       "      <th>hgvs_2_rigid_axle</th>\n",
       "      <th>hgvs_3_rigid_axle</th>\n",
       "      <th>hgvs_4_or_more_rigid_axle</th>\n",
       "      <th>hgvs_3_or_4_articulated_axle</th>\n",
       "      <th>hgvs_5_articulated_axle</th>\n",
       "      <th>hgvs_6_articulated_axle</th>\n",
       "      <th>all_hgvs</th>\n",
       "      <th>all_motor_vehicles</th>\n",
       "    </tr>\n",
       "  </thead>\n",
       "  <tbody>\n",
       "    <tr>\n",
       "      <th>11026</th>\n",
       "      <td>6689</td>\n",
       "      <td>N</td>\n",
       "      <td>2014</td>\n",
       "      <td>2014-06-12</td>\n",
       "      <td>17</td>\n",
       "      <td>7</td>\n",
       "      <td>East of England</td>\n",
       "      <td>126</td>\n",
       "      <td>Suffolk</td>\n",
       "      <td>A1117</td>\n",
       "      <td>...</td>\n",
       "      <td>5</td>\n",
       "      <td>101</td>\n",
       "      <td>4.0</td>\n",
       "      <td>1</td>\n",
       "      <td>0</td>\n",
       "      <td>1</td>\n",
       "      <td>0</td>\n",
       "      <td>0</td>\n",
       "      <td>6.0</td>\n",
       "      <td>794.0</td>\n",
       "    </tr>\n",
       "  </tbody>\n",
       "</table>\n",
       "<p>1 rows × 32 columns</p>\n",
       "</div>"
      ],
      "text/plain": [
       "       count_point_id direction_of_travel  year  count_date  hour  region_id  \\\n",
       "11026            6689                   N  2014  2014-06-12    17          7   \n",
       "\n",
       "           region_name  local_authority_id local_authority_name road_name  \\\n",
       "11026  East of England                 126              Suffolk     A1117   \n",
       "\n",
       "       ... buses_and_coaches lgvs hgvs_2_rigid_axle  hgvs_3_rigid_axle  \\\n",
       "11026  ...                 5  101               4.0                  1   \n",
       "\n",
       "       hgvs_4_or_more_rigid_axle  hgvs_3_or_4_articulated_axle  \\\n",
       "11026                          0                             1   \n",
       "\n",
       "       hgvs_5_articulated_axle  hgvs_6_articulated_axle  all_hgvs  \\\n",
       "11026                        0                        0       6.0   \n",
       "\n",
       "       all_motor_vehicles  \n",
       "11026               794.0  \n",
       "\n",
       "[1 rows x 32 columns]"
      ]
     },
     "execution_count": 8,
     "metadata": {},
     "output_type": "execute_result"
    }
   ],
   "source": [
    "pd_raw_count.sample()"
   ]
  },
  {
   "cell_type": "code",
   "execution_count": 9,
   "metadata": {},
   "outputs": [
    {
     "data": {
      "text/plain": [
       "Index(['count_point_id', 'direction_of_travel', 'year', 'count_date', 'hour',\n",
       "       'region_id', 'region_name', 'local_authority_id',\n",
       "       'local_authority_name', 'road_name', 'road_type',\n",
       "       'start_junction_road_name', 'end_junction_road_name', 'easting',\n",
       "       'northing', 'latitude', 'longitude', 'link_length_km',\n",
       "       'link_length_miles', 'pedal_cycles', 'two_wheeled_motor_vehicles',\n",
       "       'cars_and_taxis', 'buses_and_coaches', 'lgvs', 'hgvs_2_rigid_axle',\n",
       "       'hgvs_3_rigid_axle', 'hgvs_4_or_more_rigid_axle',\n",
       "       'hgvs_3_or_4_articulated_axle', 'hgvs_5_articulated_axle',\n",
       "       'hgvs_6_articulated_axle', 'all_hgvs', 'all_motor_vehicles'],\n",
       "      dtype='object')"
      ]
     },
     "execution_count": 9,
     "metadata": {},
     "output_type": "execute_result"
    }
   ],
   "source": [
    "pd_raw_count.columns"
   ]
  },
  {
   "cell_type": "code",
   "execution_count": 10,
   "metadata": {},
   "outputs": [
    {
     "name": "stdout",
     "output_type": "stream",
     "text": [
      "The shape for pd_raw_count:\n",
      "(550056, 32)\n"
     ]
    }
   ],
   "source": [
    "print(f\"The shape for pd_raw_count:\\n{pd_raw_count.shape}\")"
   ]
  },
  {
   "cell_type": "code",
   "execution_count": 11,
   "metadata": {},
   "outputs": [
    {
     "name": "stdout",
     "output_type": "stream",
     "text": [
      "<class 'pandas.core.frame.DataFrame'>\n",
      "RangeIndex: 550056 entries, 0 to 550055\n",
      "Data columns (total 32 columns):\n",
      " #   Column                        Non-Null Count   Dtype  \n",
      "---  ------                        --------------   -----  \n",
      " 0   count_point_id                550056 non-null  int64  \n",
      " 1   direction_of_travel           550056 non-null  object \n",
      " 2   year                          550056 non-null  int64  \n",
      " 3   count_date                    550056 non-null  object \n",
      " 4   hour                          550056 non-null  int64  \n",
      " 5   region_id                     550056 non-null  int64  \n",
      " 6   region_name                   550056 non-null  object \n",
      " 7   local_authority_id            550056 non-null  int64  \n",
      " 8   local_authority_name          550056 non-null  object \n",
      " 9   road_name                     550056 non-null  object \n",
      " 10  road_type                     550056 non-null  object \n",
      " 11  start_junction_road_name      220716 non-null  object \n",
      " 12  end_junction_road_name        220716 non-null  object \n",
      " 13  easting                       550056 non-null  int64  \n",
      " 14  northing                      550056 non-null  int64  \n",
      " 15  latitude                      550056 non-null  float64\n",
      " 16  longitude                     550056 non-null  float64\n",
      " 17  link_length_km                220944 non-null  float64\n",
      " 18  link_length_miles             220944 non-null  float64\n",
      " 19  pedal_cycles                  550056 non-null  int64  \n",
      " 20  two_wheeled_motor_vehicles    550056 non-null  int64  \n",
      " 21  cars_and_taxis                550056 non-null  int64  \n",
      " 22  buses_and_coaches             550056 non-null  int64  \n",
      " 23  lgvs                          550056 non-null  int64  \n",
      " 24  hgvs_2_rigid_axle             550054 non-null  float64\n",
      " 25  hgvs_3_rigid_axle             550056 non-null  int64  \n",
      " 26  hgvs_4_or_more_rigid_axle     550056 non-null  int64  \n",
      " 27  hgvs_3_or_4_articulated_axle  550056 non-null  int64  \n",
      " 28  hgvs_5_articulated_axle       550056 non-null  int64  \n",
      " 29  hgvs_6_articulated_axle       550056 non-null  int64  \n",
      " 30  all_hgvs                      550054 non-null  float64\n",
      " 31  all_motor_vehicles            550054 non-null  float64\n",
      "dtypes: float64(7), int64(17), object(8)\n",
      "memory usage: 134.3+ MB\n"
     ]
    }
   ],
   "source": [
    "pd_raw_count.info()"
   ]
  },
  {
   "cell_type": "markdown",
   "metadata": {},
   "source": [
    "#### Data Quality checks"
   ]
  },
  {
   "cell_type": "markdown",
   "metadata": {},
   "source": [
    "- Consistency Check: Ensure that all count_point_id in pd_raw_count are also in pd_count_points"
   ]
  },
  {
   "cell_type": "code",
   "execution_count": 12,
   "metadata": {},
   "outputs": [
    {
     "name": "stdout",
     "output_type": "stream",
     "text": [
      "\n",
      "Unique count_point_id in pd_count_points: 4981\n",
      "Total rows in pd_count_points: 4981\n"
     ]
    }
   ],
   "source": [
    "print(\"\\nUnique count_point_id in pd_count_points:\", pd_count_points['count_point_id'].nunique())\n",
    "print(\"Total rows in pd_count_points:\", len(pd_count_points))"
   ]
  },
  {
   "cell_type": "code",
   "execution_count": 13,
   "metadata": {},
   "outputs": [
    {
     "name": "stdout",
     "output_type": "stream",
     "text": [
      "\n",
      "Inconsistent count_point_ids (not found in pd_count_points):\n",
      "        count_point_id direction_of_travel  year  count_date  hour  region_id  \\\n",
      "442404          941987                   E  2009  2009-06-08     7          7   \n",
      "442405          941987                   E  2009  2009-06-08     8          7   \n",
      "442406          941987                   E  2009  2009-06-08     9          7   \n",
      "442407          941987                   E  2009  2009-06-08    10          7   \n",
      "442408          941987                   E  2009  2009-06-08    11          7   \n",
      "...                ...                 ...   ...         ...   ...        ...   \n",
      "442543          941987                   W  2014  2014-06-09    14          7   \n",
      "442544          941987                   W  2014  2014-06-09    15          7   \n",
      "442545          941987                   W  2014  2014-06-09    16          7   \n",
      "442546          941987                   W  2014  2014-06-09    17          7   \n",
      "442547          941987                   W  2014  2014-06-09    18          7   \n",
      "\n",
      "            region_name  local_authority_id local_authority_name road_name  \\\n",
      "442404  East of England                 129         Peterborough     B1443   \n",
      "442405  East of England                 129         Peterborough     B1443   \n",
      "442406  East of England                 129         Peterborough     B1443   \n",
      "442407  East of England                 129         Peterborough     B1443   \n",
      "442408  East of England                 129         Peterborough     B1443   \n",
      "...                 ...                 ...                  ...       ...   \n",
      "442543  East of England                 129         Peterborough     B1443   \n",
      "442544  East of England                 129         Peterborough     B1443   \n",
      "442545  East of England                 129         Peterborough     B1443   \n",
      "442546  East of England                 129         Peterborough     B1443   \n",
      "442547  East of England                 129         Peterborough     B1443   \n",
      "\n",
      "        ... buses_and_coaches lgvs hgvs_2_rigid_axle  hgvs_3_rigid_axle  \\\n",
      "442404  ...                 3   12               0.0                  0   \n",
      "442405  ...                 2   10               2.0                  0   \n",
      "442406  ...                 1   10               3.0                  2   \n",
      "442407  ...                 2    8               0.0                  0   \n",
      "442408  ...                 1   11               3.0                  0   \n",
      "...     ...               ...  ...               ...                ...   \n",
      "442543  ...                 3   14               0.0                  0   \n",
      "442544  ...                 4   11               2.0                  0   \n",
      "442545  ...                 4   20               0.0                  0   \n",
      "442546  ...                 2   17               0.0                  0   \n",
      "442547  ...                 1    5               0.0                  0   \n",
      "\n",
      "        hgvs_4_or_more_rigid_axle  hgvs_3_or_4_articulated_axle  \\\n",
      "442404                          0                             0   \n",
      "442405                          0                             0   \n",
      "442406                          0                             0   \n",
      "442407                          0                             0   \n",
      "442408                          0                             0   \n",
      "...                           ...                           ...   \n",
      "442543                          0                             0   \n",
      "442544                          0                             0   \n",
      "442545                          0                             0   \n",
      "442546                          0                             0   \n",
      "442547                          0                             0   \n",
      "\n",
      "        hgvs_5_articulated_axle  hgvs_6_articulated_axle  all_hgvs  \\\n",
      "442404                        0                        0       0.0   \n",
      "442405                        0                        0       2.0   \n",
      "442406                        0                        0       5.0   \n",
      "442407                        0                        1       1.0   \n",
      "442408                        0                        0       3.0   \n",
      "...                         ...                      ...       ...   \n",
      "442543                        0                        0       0.0   \n",
      "442544                        1                        0       3.0   \n",
      "442545                        0                        0       0.0   \n",
      "442546                        0                        0       0.0   \n",
      "442547                        0                        0       0.0   \n",
      "\n",
      "        all_motor_vehicles  \n",
      "442404                78.0  \n",
      "442405               133.0  \n",
      "442406                74.0  \n",
      "442407                75.0  \n",
      "442408                82.0  \n",
      "...                    ...  \n",
      "442543               119.0  \n",
      "442544               149.0  \n",
      "442545               170.0  \n",
      "442546               169.0  \n",
      "442547                70.0  \n",
      "\n",
      "[144 rows x 32 columns]\n"
     ]
    }
   ],
   "source": [
    "# Ensure that all count_point_id in pd_raw_count are also in pd_count_points\n",
    "inconsistent_ids = pd_raw_count[~pd_raw_count['count_point_id'].isin(pd_count_points['count_point_id'])]\n",
    "print(\"\\nInconsistent count_point_ids (not found in pd_count_points):\")\n",
    "print(inconsistent_ids)"
   ]
  },
  {
   "cell_type": "markdown",
   "metadata": {},
   "source": [
    "## Data Cleaning\n",
    "\n",
    "TODO:\n",
    "\n",
    "   - Check that datatypes and formatting is all correct.\n",
    "   - Check for duplicates.\n",
    "   - Check for null (missing) values.\n",
    "   - additionally: erroneous data"
   ]
  },
  {
   "cell_type": "markdown",
   "metadata": {},
   "source": [
    "#### Data Formatting\n",
    "\n",
    "**Notes**\n",
    "\n",
    "- Transform to datetime: `count_date` \n",
    "- Extract Date Components and create new columns for the year, month, day, and day of the week\n",
    "\n",
    "**Considerations**\n",
    "- Transform to categorical: county, state, race\n",
    "- Transform to numerical: count"
   ]
  },
  {
   "cell_type": "code",
   "execution_count": 14,
   "metadata": {},
   "outputs": [
    {
     "name": "stdout",
     "output_type": "stream",
     "text": [
      "\n",
      "Data types in pd_count_points:\n",
      "count_point_id                int64\n",
      "region_id                     int64\n",
      "region_name                  object\n",
      "local_authority_id            int64\n",
      "local_authority_name         object\n",
      "road_name                    object\n",
      "road_type                    object\n",
      "start_junction_road_name     object\n",
      "end_junction_road_name       object\n",
      "easting                       int64\n",
      "northing                      int64\n",
      "latitude                    float64\n",
      "longitude                   float64\n",
      "link_length_km              float64\n",
      "link_length_miles           float64\n",
      "dtype: object\n"
     ]
    }
   ],
   "source": [
    "# Check data types\n",
    "print(\"\\nData types in pd_count_points:\")\n",
    "print(pd_count_points.dtypes)"
   ]
  },
  {
   "cell_type": "markdown",
   "metadata": {},
   "source": [
    "**Convert Object to datatime datatype**"
   ]
  },
  {
   "cell_type": "code",
   "execution_count": 15,
   "metadata": {},
   "outputs": [],
   "source": [
    "# conver `count_date` to datetime type\n",
    "pd_raw_count['count_date'] =  pd.to_datetime(pd_raw_count['count_date'])"
   ]
  },
  {
   "cell_type": "code",
   "execution_count": 16,
   "metadata": {},
   "outputs": [
    {
     "name": "stdout",
     "output_type": "stream",
     "text": [
      "\n",
      "Data types in pd_raw_count:\n",
      "count_point_id                           int64\n",
      "direction_of_travel                     object\n",
      "year                                     int64\n",
      "count_date                      datetime64[ns]\n",
      "hour                                     int64\n",
      "region_id                                int64\n",
      "region_name                             object\n",
      "local_authority_id                       int64\n",
      "local_authority_name                    object\n",
      "road_name                               object\n",
      "road_type                               object\n",
      "start_junction_road_name                object\n",
      "end_junction_road_name                  object\n",
      "easting                                  int64\n",
      "northing                                 int64\n",
      "latitude                               float64\n",
      "longitude                              float64\n",
      "link_length_km                         float64\n",
      "link_length_miles                      float64\n",
      "pedal_cycles                             int64\n",
      "two_wheeled_motor_vehicles               int64\n",
      "cars_and_taxis                           int64\n",
      "buses_and_coaches                        int64\n",
      "lgvs                                     int64\n",
      "hgvs_2_rigid_axle                      float64\n",
      "hgvs_3_rigid_axle                        int64\n",
      "hgvs_4_or_more_rigid_axle                int64\n",
      "hgvs_3_or_4_articulated_axle             int64\n",
      "hgvs_5_articulated_axle                  int64\n",
      "hgvs_6_articulated_axle                  int64\n",
      "all_hgvs                               float64\n",
      "all_motor_vehicles                     float64\n",
      "dtype: object\n"
     ]
    }
   ],
   "source": [
    "# Check data types\n",
    "print(\"\\nData types in pd_raw_count:\")\n",
    "print(pd_raw_count.dtypes)"
   ]
  },
  {
   "cell_type": "markdown",
   "metadata": {},
   "source": [
    "**Create new columns for the year, month, day, and day of the week**"
   ]
  },
  {
   "cell_type": "code",
   "execution_count": 17,
   "metadata": {},
   "outputs": [],
   "source": [
    "# Extract Date Components \n",
    "pd_raw_count['Month'] = pd_raw_count['count_date'].dt.month\n",
    "pd_raw_count['Day_of_Week'] = pd_raw_count['count_date'].dt.day_name()\n",
    "pd_raw_count['Day'] = pd_raw_count['count_date'].dt.day"
   ]
  },
  {
   "cell_type": "markdown",
   "metadata": {},
   "source": [
    "### Check Data Duplicates"
   ]
  },
  {
   "cell_type": "markdown",
   "metadata": {},
   "source": [
    "**Notes**:\n",
    "\n",
    "- No duplicates found in either dataset as data already aggrated"
   ]
  },
  {
   "cell_type": "code",
   "execution_count": 18,
   "metadata": {},
   "outputs": [
    {
     "data": {
      "text/plain": [
       "False    4981\n",
       "Name: count, dtype: int64"
      ]
     },
     "execution_count": 18,
     "metadata": {},
     "output_type": "execute_result"
    }
   ],
   "source": [
    "pd_count_points.duplicated().value_counts()"
   ]
  },
  {
   "cell_type": "code",
   "execution_count": 19,
   "metadata": {},
   "outputs": [
    {
     "data": {
      "text/plain": [
       "False    550056\n",
       "Name: count, dtype: int64"
      ]
     },
     "execution_count": 19,
     "metadata": {},
     "output_type": "execute_result"
    }
   ],
   "source": [
    "pd_raw_count.duplicated().value_counts()"
   ]
  },
  {
   "cell_type": "markdown",
   "metadata": {},
   "source": [
    "### Check for Nulls"
   ]
  },
  {
   "cell_type": "markdown",
   "metadata": {},
   "source": [
    "**Steps**\n",
    "- Check for Nulls\n",
    "- Visualise Nulls"
   ]
  },
  {
   "cell_type": "code",
   "execution_count": 20,
   "metadata": {},
   "outputs": [
    {
     "name": "stdout",
     "output_type": "stream",
     "text": [
      "Missing values in pd_count_points:\n",
      "count_point_id               0.00\n",
      "region_id                    0.00\n",
      "region_name                  0.00\n",
      "local_authority_id           0.00\n",
      "local_authority_name         0.00\n",
      "road_name                    0.00\n",
      "road_type                    0.00\n",
      "start_junction_road_name    62.52\n",
      "end_junction_road_name      62.52\n",
      "easting                      0.00\n",
      "northing                     0.00\n",
      "latitude                     0.00\n",
      "longitude                    0.00\n",
      "link_length_km              62.42\n",
      "link_length_miles           62.42\n",
      "dtype: float64\n"
     ]
    }
   ],
   "source": [
    "# Checking for missing values \n",
    "print(\"Missing values in pd_count_points:\")\n",
    "print((pd_count_points.isna().sum() * 100 / pd_count_points.shape[0]).round(2))"
   ]
  },
  {
   "cell_type": "code",
   "execution_count": 21,
   "metadata": {},
   "outputs": [
    {
     "name": "stdout",
     "output_type": "stream",
     "text": [
      "\n",
      "Missing values in pd_raw_count:\n",
      "count_point_id                   0.00\n",
      "direction_of_travel              0.00\n",
      "year                             0.00\n",
      "count_date                       0.00\n",
      "hour                             0.00\n",
      "region_id                        0.00\n",
      "region_name                      0.00\n",
      "local_authority_id               0.00\n",
      "local_authority_name             0.00\n",
      "road_name                        0.00\n",
      "road_type                        0.00\n",
      "start_junction_road_name        59.87\n",
      "end_junction_road_name          59.87\n",
      "easting                          0.00\n",
      "northing                         0.00\n",
      "latitude                         0.00\n",
      "longitude                        0.00\n",
      "link_length_km                  59.83\n",
      "link_length_miles               59.83\n",
      "pedal_cycles                     0.00\n",
      "two_wheeled_motor_vehicles       0.00\n",
      "cars_and_taxis                   0.00\n",
      "buses_and_coaches                0.00\n",
      "lgvs                             0.00\n",
      "hgvs_2_rigid_axle                0.00\n",
      "hgvs_3_rigid_axle                0.00\n",
      "hgvs_4_or_more_rigid_axle        0.00\n",
      "hgvs_3_or_4_articulated_axle     0.00\n",
      "hgvs_5_articulated_axle          0.00\n",
      "hgvs_6_articulated_axle          0.00\n",
      "all_hgvs                         0.00\n",
      "all_motor_vehicles               0.00\n",
      "Month                            0.00\n",
      "Day_of_Week                      0.00\n",
      "Day                              0.00\n",
      "dtype: float64\n"
     ]
    }
   ],
   "source": [
    "print(\"\\nMissing values in pd_raw_count:\")\n",
    "print((pd_raw_count.isna().sum() * 100 / pd_raw_count.shape[0]).round(2))"
   ]
  },
  {
   "cell_type": "markdown",
   "metadata": {},
   "source": [
    "**Missing Values Options**\n",
    "\n",
    "- Impute\n",
    "- Drop any rows that are affected\n",
    "- Drop columns that are affected"
   ]
  },
  {
   "cell_type": "markdown",
   "metadata": {},
   "source": [
    "#### Dealing nulls in pd_count_points "
   ]
  },
  {
   "cell_type": "markdown",
   "metadata": {},
   "source": [
    "**Notes** \n",
    "\n",
    "Looking at the missing values in start_junction_road_name 59.87 and end_junction_road_name 59.87, we can conclude that base on our project objective and the dataset we have we can either:\n",
    "\n",
    "- Drop the rows with the missing values \n",
    "- Remove Rows with Missing Values: If start_junction_road_name and end_junction_road_name are essential, we can consider removing rows where both are missing, especially if it doesn’t significantly reduce the dataset.\n",
    "- Fill the missing values with the `road_name`, `latitude` or `longitude` values of the nearest road/count_point"
   ]
  },
  {
   "cell_type": "code",
   "execution_count": 22,
   "metadata": {},
   "outputs": [],
   "source": [
    "# Remove rows where both 'start_junction_road_name' and 'end_junction_road_name' are missing\n",
    "pd_count_points = pd_count_points.dropna(subset=['start_junction_road_name', 'end_junction_road_name'], how='all')\n"
   ]
  },
  {
   "cell_type": "code",
   "execution_count": 23,
   "metadata": {},
   "outputs": [
    {
     "data": {
      "text/plain": [
       "count_point_id              0\n",
       "region_id                   0\n",
       "region_name                 0\n",
       "local_authority_id          0\n",
       "local_authority_name        0\n",
       "road_name                   0\n",
       "road_type                   0\n",
       "start_junction_road_name    0\n",
       "end_junction_road_name      0\n",
       "easting                     0\n",
       "northing                    0\n",
       "latitude                    0\n",
       "longitude                   0\n",
       "link_length_km              0\n",
       "link_length_miles           0\n",
       "dtype: int64"
      ]
     },
     "execution_count": 23,
     "metadata": {},
     "output_type": "execute_result"
    }
   ],
   "source": [
    "pd_count_points.isnull().sum()"
   ]
  },
  {
   "cell_type": "markdown",
   "metadata": {},
   "source": [
    "**Observation**\n",
    "- We can observe that by removing both 'start_junction_road_name' and 'end_junction_road_name' are missing, the `link_length_km ` and `link_lenght_km` columns are also sorted. "
   ]
  },
  {
   "cell_type": "markdown",
   "metadata": {},
   "source": [
    "#### Dealing nulls in pd_raw_count "
   ]
  },
  {
   "cell_type": "code",
   "execution_count": 25,
   "metadata": {},
   "outputs": [
    {
     "data": {
      "text/plain": [
       "end_junction_road_name  start_junction_road_name\n",
       "False                   False                       1.0\n",
       "Name: proportion, dtype: float64"
      ]
     },
     "execution_count": 25,
     "metadata": {},
     "output_type": "execute_result"
    }
   ],
   "source": [
    "pd_count_points[['end_junction_road_name', 'start_junction_road_name']].isnull().value_counts(normalize=True)"
   ]
  },
  {
   "cell_type": "code",
   "execution_count": 28,
   "metadata": {},
   "outputs": [],
   "source": [
    "# Remove rows where both 'start_junction_road_name' and 'end_junction_road_name' are missing\n",
    "pd_raw_count = pd_raw_count.dropna(subset=['start_junction_road_name', 'end_junction_road_name'], how='all')"
   ]
  },
  {
   "cell_type": "code",
   "execution_count": 29,
   "metadata": {},
   "outputs": [
    {
     "data": {
      "text/plain": [
       "count_point_id                  0\n",
       "direction_of_travel             0\n",
       "year                            0\n",
       "count_date                      0\n",
       "hour                            0\n",
       "region_id                       0\n",
       "region_name                     0\n",
       "local_authority_id              0\n",
       "local_authority_name            0\n",
       "road_name                       0\n",
       "road_type                       0\n",
       "start_junction_road_name        0\n",
       "end_junction_road_name          0\n",
       "easting                         0\n",
       "northing                        0\n",
       "latitude                        0\n",
       "longitude                       0\n",
       "link_length_km                  0\n",
       "link_length_miles               0\n",
       "pedal_cycles                    0\n",
       "two_wheeled_motor_vehicles      0\n",
       "cars_and_taxis                  0\n",
       "buses_and_coaches               0\n",
       "lgvs                            0\n",
       "hgvs_2_rigid_axle               1\n",
       "hgvs_3_rigid_axle               0\n",
       "hgvs_4_or_more_rigid_axle       0\n",
       "hgvs_3_or_4_articulated_axle    0\n",
       "hgvs_5_articulated_axle         0\n",
       "hgvs_6_articulated_axle         0\n",
       "all_hgvs                        1\n",
       "all_motor_vehicles              1\n",
       "Month                           0\n",
       "Day_of_Week                     0\n",
       "Day                             0\n",
       "dtype: int64"
      ]
     },
     "execution_count": 29,
     "metadata": {},
     "output_type": "execute_result"
    }
   ],
   "source": [
    "pd_raw_count.isnull().sum()"
   ]
  },
  {
   "cell_type": "code",
   "execution_count": 30,
   "metadata": {},
   "outputs": [],
   "source": [
    "pd_raw_count = pd_raw_count.drop(['hgvs_2_rigid_axle', 'all_hgvs'], axis=1)"
   ]
  },
  {
   "cell_type": "code",
   "execution_count": 31,
   "metadata": {},
   "outputs": [
    {
     "data": {
      "text/plain": [
       "count_point_id                  0\n",
       "direction_of_travel             0\n",
       "year                            0\n",
       "count_date                      0\n",
       "hour                            0\n",
       "region_id                       0\n",
       "region_name                     0\n",
       "local_authority_id              0\n",
       "local_authority_name            0\n",
       "road_name                       0\n",
       "road_type                       0\n",
       "start_junction_road_name        0\n",
       "end_junction_road_name          0\n",
       "easting                         0\n",
       "northing                        0\n",
       "latitude                        0\n",
       "longitude                       0\n",
       "link_length_km                  0\n",
       "link_length_miles               0\n",
       "pedal_cycles                    0\n",
       "two_wheeled_motor_vehicles      0\n",
       "cars_and_taxis                  0\n",
       "buses_and_coaches               0\n",
       "lgvs                            0\n",
       "hgvs_3_rigid_axle               0\n",
       "hgvs_4_or_more_rigid_axle       0\n",
       "hgvs_3_or_4_articulated_axle    0\n",
       "hgvs_5_articulated_axle         0\n",
       "hgvs_6_articulated_axle         0\n",
       "all_motor_vehicles              1\n",
       "Month                           0\n",
       "Day_of_Week                     0\n",
       "Day                             0\n",
       "dtype: int64"
      ]
     },
     "execution_count": 31,
     "metadata": {},
     "output_type": "execute_result"
    }
   ],
   "source": [
    "pd_raw_count.isnull().sum()"
   ]
  },
  {
   "cell_type": "code",
   "execution_count": 32,
   "metadata": {},
   "outputs": [],
   "source": [
    "pd_raw_count = pd_raw_count.drop(['all_motor_vehicles'], axis=1)"
   ]
  },
  {
   "cell_type": "code",
   "execution_count": 33,
   "metadata": {},
   "outputs": [
    {
     "data": {
      "text/plain": [
       "count_point_id                  0\n",
       "direction_of_travel             0\n",
       "year                            0\n",
       "count_date                      0\n",
       "hour                            0\n",
       "region_id                       0\n",
       "region_name                     0\n",
       "local_authority_id              0\n",
       "local_authority_name            0\n",
       "road_name                       0\n",
       "road_type                       0\n",
       "start_junction_road_name        0\n",
       "end_junction_road_name          0\n",
       "easting                         0\n",
       "northing                        0\n",
       "latitude                        0\n",
       "longitude                       0\n",
       "link_length_km                  0\n",
       "link_length_miles               0\n",
       "pedal_cycles                    0\n",
       "two_wheeled_motor_vehicles      0\n",
       "cars_and_taxis                  0\n",
       "buses_and_coaches               0\n",
       "lgvs                            0\n",
       "hgvs_3_rigid_axle               0\n",
       "hgvs_4_or_more_rigid_axle       0\n",
       "hgvs_3_or_4_articulated_axle    0\n",
       "hgvs_5_articulated_axle         0\n",
       "hgvs_6_articulated_axle         0\n",
       "Month                           0\n",
       "Day_of_Week                     0\n",
       "Day                             0\n",
       "dtype: int64"
      ]
     },
     "execution_count": 33,
     "metadata": {},
     "output_type": "execute_result"
    }
   ],
   "source": [
    "pd_raw_count.isnull().sum()"
   ]
  },
  {
   "cell_type": "markdown",
   "metadata": {},
   "source": [
    "#### Save cleaned data to a new CSV"
   ]
  },
  {
   "cell_type": "code",
   "execution_count": 180,
   "metadata": {},
   "outputs": [],
   "source": [
    "pd_raw_count.to_csv('../data/pd_raw_count_cleaned.csv', index=False)"
   ]
  },
  {
   "cell_type": "code",
   "execution_count": 181,
   "metadata": {},
   "outputs": [],
   "source": [
    "pd_count_points.to_csv('../data/pd_count_points_cleaned.csv', index=False)"
   ]
  }
 ],
 "metadata": {
  "kernelspec": {
   "display_name": "capstone",
   "language": "python",
   "name": "python3"
  },
  "language_info": {
   "codemirror_mode": {
    "name": "ipython",
    "version": 3
   },
   "file_extension": ".py",
   "mimetype": "text/x-python",
   "name": "python",
   "nbconvert_exporter": "python",
   "pygments_lexer": "ipython3",
   "version": "3.8.19"
  },
  "orig_nbformat": 4
 },
 "nbformat": 4,
 "nbformat_minor": 2
}
