{
 "cells": [
  {
   "cell_type": "markdown",
   "metadata": {},
   "source": [
    "# Importing Libraries"
   ]
  },
  {
   "cell_type": "code",
   "execution_count": 1,
   "metadata": {},
   "outputs": [],
   "source": [
    "# import libraries\n",
    "\n",
    "import pandas as pd\n",
    "import numpy as np\n",
    "import seaborn as sns\n",
    "import matplotlib.pyplot as plt"
   ]
  },
  {
   "cell_type": "markdown",
   "metadata": {},
   "source": [
    "# Data Loading and Initial Inspection"
   ]
  },
  {
   "cell_type": "code",
   "execution_count": 2,
   "metadata": {},
   "outputs": [
    {
     "name": "stderr",
     "output_type": "stream",
     "text": [
      "/var/folders/_z/nz5spzqj2rl11n5lc_k1cwwc0000gn/T/ipykernel_8447/109602175.py:1: DtypeWarning: Columns (14,15) have mixed types. Specify dtype option on import or set low_memory=False.\n",
      "  pd_raw_count = pd.read_csv('../data/uk_data/dft_traffic_counts_raw_counts.csv')\n"
     ]
    }
   ],
   "source": [
    "pd_raw_count = pd.read_csv('../data/uk_data/dft_traffic_counts_raw_counts.csv')"
   ]
  },
  {
   "cell_type": "code",
   "execution_count": 3,
   "metadata": {},
   "outputs": [
    {
     "data": {
      "text/plain": [
       "(4960860, 35)"
      ]
     },
     "execution_count": 3,
     "metadata": {},
     "output_type": "execute_result"
    }
   ],
   "source": [
    "pd_raw_count.shape"
   ]
  },
  {
   "cell_type": "code",
   "execution_count": 4,
   "metadata": {},
   "outputs": [
    {
     "data": {
      "text/html": [
       "<div>\n",
       "<style scoped>\n",
       "    .dataframe tbody tr th:only-of-type {\n",
       "        vertical-align: middle;\n",
       "    }\n",
       "\n",
       "    .dataframe tbody tr th {\n",
       "        vertical-align: top;\n",
       "    }\n",
       "\n",
       "    .dataframe thead th {\n",
       "        text-align: right;\n",
       "    }\n",
       "</style>\n",
       "<table border=\"1\" class=\"dataframe\">\n",
       "  <thead>\n",
       "    <tr style=\"text-align: right;\">\n",
       "      <th></th>\n",
       "      <th>count_point_id</th>\n",
       "      <th>direction_of_travel</th>\n",
       "      <th>year</th>\n",
       "      <th>count_date</th>\n",
       "      <th>hour</th>\n",
       "      <th>region_id</th>\n",
       "      <th>region_name</th>\n",
       "      <th>region_ons_code</th>\n",
       "      <th>local_authority_id</th>\n",
       "      <th>local_authority_name</th>\n",
       "      <th>...</th>\n",
       "      <th>buses_and_coaches</th>\n",
       "      <th>LGVs</th>\n",
       "      <th>HGVs_2_rigid_axle</th>\n",
       "      <th>HGVs_3_rigid_axle</th>\n",
       "      <th>HGVs_4_or_more_rigid_axle</th>\n",
       "      <th>HGVs_3_or_4_articulated_axle</th>\n",
       "      <th>HGVs_5_articulated_axle</th>\n",
       "      <th>HGVs_6_articulated_axle</th>\n",
       "      <th>all_HGVs</th>\n",
       "      <th>all_motor_vehicles</th>\n",
       "    </tr>\n",
       "  </thead>\n",
       "  <tbody>\n",
       "    <tr>\n",
       "      <th>0</th>\n",
       "      <td>51</td>\n",
       "      <td>N</td>\n",
       "      <td>2004</td>\n",
       "      <td>2004-05-21</td>\n",
       "      <td>7</td>\n",
       "      <td>1</td>\n",
       "      <td>South West</td>\n",
       "      <td>E12000009</td>\n",
       "      <td>1</td>\n",
       "      <td>Isles of Scilly</td>\n",
       "      <td>...</td>\n",
       "      <td>1.0</td>\n",
       "      <td>13</td>\n",
       "      <td>0.0</td>\n",
       "      <td>0.0</td>\n",
       "      <td>0.0</td>\n",
       "      <td>0.0</td>\n",
       "      <td>0</td>\n",
       "      <td>0.0</td>\n",
       "      <td>0.0</td>\n",
       "      <td>19.0</td>\n",
       "    </tr>\n",
       "    <tr>\n",
       "      <th>1</th>\n",
       "      <td>51</td>\n",
       "      <td>N</td>\n",
       "      <td>2004</td>\n",
       "      <td>2004-05-21</td>\n",
       "      <td>8</td>\n",
       "      <td>1</td>\n",
       "      <td>South West</td>\n",
       "      <td>E12000009</td>\n",
       "      <td>1</td>\n",
       "      <td>Isles of Scilly</td>\n",
       "      <td>...</td>\n",
       "      <td>2.0</td>\n",
       "      <td>13</td>\n",
       "      <td>7.0</td>\n",
       "      <td>7.0</td>\n",
       "      <td>0.0</td>\n",
       "      <td>0.0</td>\n",
       "      <td>0</td>\n",
       "      <td>0.0</td>\n",
       "      <td>14.0</td>\n",
       "      <td>44.0</td>\n",
       "    </tr>\n",
       "    <tr>\n",
       "      <th>2</th>\n",
       "      <td>51</td>\n",
       "      <td>N</td>\n",
       "      <td>2004</td>\n",
       "      <td>2004-05-21</td>\n",
       "      <td>9</td>\n",
       "      <td>1</td>\n",
       "      <td>South West</td>\n",
       "      <td>E12000009</td>\n",
       "      <td>1</td>\n",
       "      <td>Isles of Scilly</td>\n",
       "      <td>...</td>\n",
       "      <td>5.0</td>\n",
       "      <td>17</td>\n",
       "      <td>5.0</td>\n",
       "      <td>0.0</td>\n",
       "      <td>0.0</td>\n",
       "      <td>0.0</td>\n",
       "      <td>0</td>\n",
       "      <td>0.0</td>\n",
       "      <td>5.0</td>\n",
       "      <td>45.0</td>\n",
       "    </tr>\n",
       "    <tr>\n",
       "      <th>3</th>\n",
       "      <td>51</td>\n",
       "      <td>N</td>\n",
       "      <td>2004</td>\n",
       "      <td>2004-05-21</td>\n",
       "      <td>10</td>\n",
       "      <td>1</td>\n",
       "      <td>South West</td>\n",
       "      <td>E12000009</td>\n",
       "      <td>1</td>\n",
       "      <td>Isles of Scilly</td>\n",
       "      <td>...</td>\n",
       "      <td>4.0</td>\n",
       "      <td>4</td>\n",
       "      <td>4.0</td>\n",
       "      <td>0.0</td>\n",
       "      <td>0.0</td>\n",
       "      <td>0.0</td>\n",
       "      <td>0</td>\n",
       "      <td>0.0</td>\n",
       "      <td>4.0</td>\n",
       "      <td>41.0</td>\n",
       "    </tr>\n",
       "    <tr>\n",
       "      <th>4</th>\n",
       "      <td>51</td>\n",
       "      <td>N</td>\n",
       "      <td>2004</td>\n",
       "      <td>2004-05-21</td>\n",
       "      <td>11</td>\n",
       "      <td>1</td>\n",
       "      <td>South West</td>\n",
       "      <td>E12000009</td>\n",
       "      <td>1</td>\n",
       "      <td>Isles of Scilly</td>\n",
       "      <td>...</td>\n",
       "      <td>3.0</td>\n",
       "      <td>14</td>\n",
       "      <td>6.0</td>\n",
       "      <td>0.0</td>\n",
       "      <td>0.0</td>\n",
       "      <td>0.0</td>\n",
       "      <td>0</td>\n",
       "      <td>0.0</td>\n",
       "      <td>6.0</td>\n",
       "      <td>41.0</td>\n",
       "    </tr>\n",
       "  </tbody>\n",
       "</table>\n",
       "<p>5 rows × 35 columns</p>\n",
       "</div>"
      ],
      "text/plain": [
       "   count_point_id direction_of_travel  year  count_date  hour  region_id  \\\n",
       "0              51                   N  2004  2004-05-21     7          1   \n",
       "1              51                   N  2004  2004-05-21     8          1   \n",
       "2              51                   N  2004  2004-05-21     9          1   \n",
       "3              51                   N  2004  2004-05-21    10          1   \n",
       "4              51                   N  2004  2004-05-21    11          1   \n",
       "\n",
       "  region_name region_ons_code  local_authority_id local_authority_name  ...  \\\n",
       "0  South West       E12000009                   1      Isles of Scilly  ...   \n",
       "1  South West       E12000009                   1      Isles of Scilly  ...   \n",
       "2  South West       E12000009                   1      Isles of Scilly  ...   \n",
       "3  South West       E12000009                   1      Isles of Scilly  ...   \n",
       "4  South West       E12000009                   1      Isles of Scilly  ...   \n",
       "\n",
       "  buses_and_coaches LGVs HGVs_2_rigid_axle HGVs_3_rigid_axle  \\\n",
       "0               1.0   13               0.0               0.0   \n",
       "1               2.0   13               7.0               7.0   \n",
       "2               5.0   17               5.0               0.0   \n",
       "3               4.0    4               4.0               0.0   \n",
       "4               3.0   14               6.0               0.0   \n",
       "\n",
       "  HGVs_4_or_more_rigid_axle HGVs_3_or_4_articulated_axle  \\\n",
       "0                       0.0                          0.0   \n",
       "1                       0.0                          0.0   \n",
       "2                       0.0                          0.0   \n",
       "3                       0.0                          0.0   \n",
       "4                       0.0                          0.0   \n",
       "\n",
       "   HGVs_5_articulated_axle  HGVs_6_articulated_axle  all_HGVs  \\\n",
       "0                        0                      0.0       0.0   \n",
       "1                        0                      0.0      14.0   \n",
       "2                        0                      0.0       5.0   \n",
       "3                        0                      0.0       4.0   \n",
       "4                        0                      0.0       6.0   \n",
       "\n",
       "   all_motor_vehicles  \n",
       "0                19.0  \n",
       "1                44.0  \n",
       "2                45.0  \n",
       "3                41.0  \n",
       "4                41.0  \n",
       "\n",
       "[5 rows x 35 columns]"
      ]
     },
     "execution_count": 4,
     "metadata": {},
     "output_type": "execute_result"
    }
   ],
   "source": [
    "pd_raw_count.head()"
   ]
  },
  {
   "cell_type": "code",
   "execution_count": 5,
   "metadata": {},
   "outputs": [
    {
     "data": {
      "text/plain": [
       "Index(['count_point_id', 'direction_of_travel', 'year', 'count_date', 'hour',\n",
       "       'region_id', 'region_name', 'region_ons_code', 'local_authority_id',\n",
       "       'local_authority_name', 'local_authority_code', 'road_name',\n",
       "       'road_category', 'road_type', 'start_junction_road_name',\n",
       "       'end_junction_road_name', 'easting', 'northing', 'latitude',\n",
       "       'longitude', 'link_length_km', 'link_length_miles', 'pedal_cycles',\n",
       "       'two_wheeled_motor_vehicles', 'cars_and_taxis', 'buses_and_coaches',\n",
       "       'LGVs', 'HGVs_2_rigid_axle', 'HGVs_3_rigid_axle',\n",
       "       'HGVs_4_or_more_rigid_axle', 'HGVs_3_or_4_articulated_axle',\n",
       "       'HGVs_5_articulated_axle', 'HGVs_6_articulated_axle', 'all_HGVs',\n",
       "       'all_motor_vehicles'],\n",
       "      dtype='object')"
      ]
     },
     "execution_count": 5,
     "metadata": {},
     "output_type": "execute_result"
    }
   ],
   "source": [
    "pd_raw_count.columns"
   ]
  },
  {
   "cell_type": "code",
   "execution_count": 6,
   "metadata": {},
   "outputs": [
    {
     "name": "stdout",
     "output_type": "stream",
     "text": [
      "<class 'pandas.core.frame.DataFrame'>\n",
      "RangeIndex: 4960860 entries, 0 to 4960859\n",
      "Data columns (total 35 columns):\n",
      " #   Column                        Dtype  \n",
      "---  ------                        -----  \n",
      " 0   count_point_id                int64  \n",
      " 1   direction_of_travel           object \n",
      " 2   year                          int64  \n",
      " 3   count_date                    object \n",
      " 4   hour                          int64  \n",
      " 5   region_id                     int64  \n",
      " 6   region_name                   object \n",
      " 7   region_ons_code               object \n",
      " 8   local_authority_id            int64  \n",
      " 9   local_authority_name          object \n",
      " 10  local_authority_code          object \n",
      " 11  road_name                     object \n",
      " 12  road_category                 object \n",
      " 13  road_type                     object \n",
      " 14  start_junction_road_name      object \n",
      " 15  end_junction_road_name        object \n",
      " 16  easting                       int64  \n",
      " 17  northing                      int64  \n",
      " 18  latitude                      float64\n",
      " 19  longitude                     float64\n",
      " 20  link_length_km                float64\n",
      " 21  link_length_miles             float64\n",
      " 22  pedal_cycles                  int64  \n",
      " 23  two_wheeled_motor_vehicles    int64  \n",
      " 24  cars_and_taxis                float64\n",
      " 25  buses_and_coaches             float64\n",
      " 26  LGVs                          int64  \n",
      " 27  HGVs_2_rigid_axle             float64\n",
      " 28  HGVs_3_rigid_axle             float64\n",
      " 29  HGVs_4_or_more_rigid_axle     float64\n",
      " 30  HGVs_3_or_4_articulated_axle  float64\n",
      " 31  HGVs_5_articulated_axle       int64  \n",
      " 32  HGVs_6_articulated_axle       float64\n",
      " 33  all_HGVs                      float64\n",
      " 34  all_motor_vehicles            float64\n",
      "dtypes: float64(13), int64(11), object(11)\n",
      "memory usage: 1.3+ GB\n"
     ]
    }
   ],
   "source": [
    "pd_raw_count.info()"
   ]
  },
  {
   "cell_type": "code",
   "execution_count": 7,
   "metadata": {},
   "outputs": [],
   "source": [
    "# create a copy of the raw count data where region name is East of England\n",
    "# pd_raw_count_east = pd_raw_count[pd_raw_count['region_name'] == 'East of England'].copy()"
   ]
  },
  {
   "cell_type": "code",
   "execution_count": 8,
   "metadata": {},
   "outputs": [],
   "source": [
    "# pd_raw_count_east.shape # size of the dataframe"
   ]
  },
  {
   "cell_type": "code",
   "execution_count": 9,
   "metadata": {},
   "outputs": [],
   "source": [
    "# pd_raw_count_east.info()"
   ]
  },
  {
   "cell_type": "code",
   "execution_count": 10,
   "metadata": {},
   "outputs": [],
   "source": [
    "# pd_raw_count_east['direction_of_travel'].value_counts()"
   ]
  },
  {
   "cell_type": "code",
   "execution_count": 11,
   "metadata": {},
   "outputs": [],
   "source": [
    "# pd_raw_count_east['year'].value_counts()"
   ]
  },
  {
   "cell_type": "code",
   "execution_count": 12,
   "metadata": {},
   "outputs": [],
   "source": [
    "# pd_raw_count_east['local_authority_name'].value_counts() # local autorities wihtin the east of england region"
   ]
  },
  {
   "cell_type": "code",
   "execution_count": 13,
   "metadata": {},
   "outputs": [
    {
     "data": {
      "text/plain": [
       "road_type\n",
       "Minor    2714664\n",
       "Major    2246196\n",
       "Name: count, dtype: int64"
      ]
     },
     "execution_count": 13,
     "metadata": {},
     "output_type": "execute_result"
    }
   ],
   "source": [
    "pd_raw_count['road_type'].value_counts()"
   ]
  },
  {
   "cell_type": "code",
   "execution_count": 14,
   "metadata": {},
   "outputs": [
    {
     "data": {
      "text/plain": [
       "year\n",
       "2008    347700\n",
       "2009    308472\n",
       "2019    301464\n",
       "2018    289788\n",
       "2003    222636\n",
       "2004    216852\n",
       "2006    212868\n",
       "2002    211200\n",
       "2007    206412\n",
       "2010    204336\n",
       "2005    201324\n",
       "2001    193344\n",
       "2012    188676\n",
       "2013    188400\n",
       "2011    187464\n",
       "2017    186444\n",
       "2000    181668\n",
       "2021    166968\n",
       "2016    166788\n",
       "2015    161916\n",
       "2014    157452\n",
       "2022    157320\n",
       "2020    151788\n",
       "2023    149580\n",
       "Name: count, dtype: int64"
      ]
     },
     "execution_count": 14,
     "metadata": {},
     "output_type": "execute_result"
    }
   ],
   "source": [
    "pd_raw_count['year'].value_counts()"
   ]
  },
  {
   "cell_type": "code",
   "execution_count": 15,
   "metadata": {},
   "outputs": [
    {
     "data": {
      "text/plain": [
       "region_name\n",
       "South East                  792132\n",
       "North West                  579684\n",
       "East of England             550056\n",
       "South West                  493632\n",
       "West Midlands               480876\n",
       "Yorkshire and the Humber    427968\n",
       "London                      403560\n",
       "East Midlands               398892\n",
       "Scotland                    306096\n",
       "Wales                       294432\n",
       "North East                  233532\n",
       "Name: count, dtype: int64"
      ]
     },
     "execution_count": 15,
     "metadata": {},
     "output_type": "execute_result"
    }
   ],
   "source": [
    "pd_raw_count['region_name'].value_counts()"
   ]
  },
  {
   "cell_type": "code",
   "execution_count": 16,
   "metadata": {},
   "outputs": [
    {
     "data": {
      "text/plain": [
       "road_name\n",
       "U        1469808\n",
       "C         673212\n",
       "A1         37320\n",
       "A38        34896\n",
       "A6         23040\n",
       "          ...   \n",
       "B406          12\n",
       "A3009         12\n",
       "B4160         12\n",
       "B4326         12\n",
       "B3201         12\n",
       "Name: count, Length: 3781, dtype: int64"
      ]
     },
     "execution_count": 16,
     "metadata": {},
     "output_type": "execute_result"
    }
   ],
   "source": [
    "pd_raw_count['road_name'].value_counts()"
   ]
  },
  {
   "cell_type": "markdown",
   "metadata": {},
   "source": [
    "# Data Formatting"
   ]
  },
  {
   "cell_type": "code",
   "execution_count": 17,
   "metadata": {},
   "outputs": [],
   "source": [
    "# conver `count_date` to datetime type\n",
    "pd_raw_count['count_date'] =  pd.to_datetime(pd_raw_count['count_date'])"
   ]
  },
  {
   "cell_type": "code",
   "execution_count": 18,
   "metadata": {},
   "outputs": [],
   "source": [
    "# Extract Date Components \n",
    "pd_raw_count['Month'] = pd_raw_count['count_date'].dt.month\n",
    "pd_raw_count['Day_of_Week'] = pd_raw_count['count_date'].dt.day_name()\n",
    "pd_raw_count['Day'] = pd_raw_count['count_date'].dt.day"
   ]
  },
  {
   "cell_type": "code",
   "execution_count": 19,
   "metadata": {},
   "outputs": [],
   "source": [
    "# Create a 'timestamp' column by combining 'count_date' and 'hour'\n",
    "pd_raw_count['timestamp'] = pd.to_datetime(pd_raw_count['count_date']) + pd.to_timedelta(pd_raw_count['hour'], unit='h')"
   ]
  },
  {
   "cell_type": "code",
   "execution_count": 20,
   "metadata": {},
   "outputs": [
    {
     "name": "stdout",
     "output_type": "stream",
     "text": [
      "\n",
      "Data types in pd_raw_count:\n",
      "count_point_id                           int64\n",
      "direction_of_travel                     object\n",
      "year                                     int64\n",
      "count_date                      datetime64[ns]\n",
      "hour                                     int64\n",
      "region_id                                int64\n",
      "region_name                             object\n",
      "region_ons_code                         object\n",
      "local_authority_id                       int64\n",
      "local_authority_name                    object\n",
      "local_authority_code                    object\n",
      "road_name                               object\n",
      "road_category                           object\n",
      "road_type                               object\n",
      "start_junction_road_name                object\n",
      "end_junction_road_name                  object\n",
      "easting                                  int64\n",
      "northing                                 int64\n",
      "latitude                               float64\n",
      "longitude                              float64\n",
      "link_length_km                         float64\n",
      "link_length_miles                      float64\n",
      "pedal_cycles                             int64\n",
      "two_wheeled_motor_vehicles               int64\n",
      "cars_and_taxis                         float64\n",
      "buses_and_coaches                      float64\n",
      "LGVs                                     int64\n",
      "HGVs_2_rigid_axle                      float64\n",
      "HGVs_3_rigid_axle                      float64\n",
      "HGVs_4_or_more_rigid_axle              float64\n",
      "HGVs_3_or_4_articulated_axle           float64\n",
      "HGVs_5_articulated_axle                  int64\n",
      "HGVs_6_articulated_axle                float64\n",
      "all_HGVs                               float64\n",
      "all_motor_vehicles                     float64\n",
      "Month                                    int32\n",
      "Day_of_Week                             object\n",
      "Day                                      int32\n",
      "timestamp                       datetime64[ns]\n",
      "dtype: object\n"
     ]
    }
   ],
   "source": [
    "# Check data types\n",
    "print(\"\\nData types in pd_raw_count:\")\n",
    "print(pd_raw_count.dtypes)"
   ]
  },
  {
   "cell_type": "code",
   "execution_count": 21,
   "metadata": {},
   "outputs": [
    {
     "data": {
      "text/html": [
       "<div>\n",
       "<style scoped>\n",
       "    .dataframe tbody tr th:only-of-type {\n",
       "        vertical-align: middle;\n",
       "    }\n",
       "\n",
       "    .dataframe tbody tr th {\n",
       "        vertical-align: top;\n",
       "    }\n",
       "\n",
       "    .dataframe thead th {\n",
       "        text-align: right;\n",
       "    }\n",
       "</style>\n",
       "<table border=\"1\" class=\"dataframe\">\n",
       "  <thead>\n",
       "    <tr style=\"text-align: right;\">\n",
       "      <th></th>\n",
       "      <th>count_point_id</th>\n",
       "      <th>direction_of_travel</th>\n",
       "      <th>year</th>\n",
       "      <th>count_date</th>\n",
       "      <th>hour</th>\n",
       "      <th>region_id</th>\n",
       "      <th>region_name</th>\n",
       "      <th>region_ons_code</th>\n",
       "      <th>local_authority_id</th>\n",
       "      <th>local_authority_name</th>\n",
       "      <th>...</th>\n",
       "      <th>HGVs_4_or_more_rigid_axle</th>\n",
       "      <th>HGVs_3_or_4_articulated_axle</th>\n",
       "      <th>HGVs_5_articulated_axle</th>\n",
       "      <th>HGVs_6_articulated_axle</th>\n",
       "      <th>all_HGVs</th>\n",
       "      <th>all_motor_vehicles</th>\n",
       "      <th>Month</th>\n",
       "      <th>Day_of_Week</th>\n",
       "      <th>Day</th>\n",
       "      <th>timestamp</th>\n",
       "    </tr>\n",
       "  </thead>\n",
       "  <tbody>\n",
       "    <tr>\n",
       "      <th>0</th>\n",
       "      <td>51</td>\n",
       "      <td>N</td>\n",
       "      <td>2004</td>\n",
       "      <td>2004-05-21</td>\n",
       "      <td>7</td>\n",
       "      <td>1</td>\n",
       "      <td>South West</td>\n",
       "      <td>E12000009</td>\n",
       "      <td>1</td>\n",
       "      <td>Isles of Scilly</td>\n",
       "      <td>...</td>\n",
       "      <td>0.0</td>\n",
       "      <td>0.0</td>\n",
       "      <td>0</td>\n",
       "      <td>0.0</td>\n",
       "      <td>0.0</td>\n",
       "      <td>19.0</td>\n",
       "      <td>5</td>\n",
       "      <td>Friday</td>\n",
       "      <td>21</td>\n",
       "      <td>2004-05-21 07:00:00</td>\n",
       "    </tr>\n",
       "    <tr>\n",
       "      <th>1</th>\n",
       "      <td>51</td>\n",
       "      <td>N</td>\n",
       "      <td>2004</td>\n",
       "      <td>2004-05-21</td>\n",
       "      <td>8</td>\n",
       "      <td>1</td>\n",
       "      <td>South West</td>\n",
       "      <td>E12000009</td>\n",
       "      <td>1</td>\n",
       "      <td>Isles of Scilly</td>\n",
       "      <td>...</td>\n",
       "      <td>0.0</td>\n",
       "      <td>0.0</td>\n",
       "      <td>0</td>\n",
       "      <td>0.0</td>\n",
       "      <td>14.0</td>\n",
       "      <td>44.0</td>\n",
       "      <td>5</td>\n",
       "      <td>Friday</td>\n",
       "      <td>21</td>\n",
       "      <td>2004-05-21 08:00:00</td>\n",
       "    </tr>\n",
       "    <tr>\n",
       "      <th>2</th>\n",
       "      <td>51</td>\n",
       "      <td>N</td>\n",
       "      <td>2004</td>\n",
       "      <td>2004-05-21</td>\n",
       "      <td>9</td>\n",
       "      <td>1</td>\n",
       "      <td>South West</td>\n",
       "      <td>E12000009</td>\n",
       "      <td>1</td>\n",
       "      <td>Isles of Scilly</td>\n",
       "      <td>...</td>\n",
       "      <td>0.0</td>\n",
       "      <td>0.0</td>\n",
       "      <td>0</td>\n",
       "      <td>0.0</td>\n",
       "      <td>5.0</td>\n",
       "      <td>45.0</td>\n",
       "      <td>5</td>\n",
       "      <td>Friday</td>\n",
       "      <td>21</td>\n",
       "      <td>2004-05-21 09:00:00</td>\n",
       "    </tr>\n",
       "    <tr>\n",
       "      <th>3</th>\n",
       "      <td>51</td>\n",
       "      <td>N</td>\n",
       "      <td>2004</td>\n",
       "      <td>2004-05-21</td>\n",
       "      <td>10</td>\n",
       "      <td>1</td>\n",
       "      <td>South West</td>\n",
       "      <td>E12000009</td>\n",
       "      <td>1</td>\n",
       "      <td>Isles of Scilly</td>\n",
       "      <td>...</td>\n",
       "      <td>0.0</td>\n",
       "      <td>0.0</td>\n",
       "      <td>0</td>\n",
       "      <td>0.0</td>\n",
       "      <td>4.0</td>\n",
       "      <td>41.0</td>\n",
       "      <td>5</td>\n",
       "      <td>Friday</td>\n",
       "      <td>21</td>\n",
       "      <td>2004-05-21 10:00:00</td>\n",
       "    </tr>\n",
       "    <tr>\n",
       "      <th>4</th>\n",
       "      <td>51</td>\n",
       "      <td>N</td>\n",
       "      <td>2004</td>\n",
       "      <td>2004-05-21</td>\n",
       "      <td>11</td>\n",
       "      <td>1</td>\n",
       "      <td>South West</td>\n",
       "      <td>E12000009</td>\n",
       "      <td>1</td>\n",
       "      <td>Isles of Scilly</td>\n",
       "      <td>...</td>\n",
       "      <td>0.0</td>\n",
       "      <td>0.0</td>\n",
       "      <td>0</td>\n",
       "      <td>0.0</td>\n",
       "      <td>6.0</td>\n",
       "      <td>41.0</td>\n",
       "      <td>5</td>\n",
       "      <td>Friday</td>\n",
       "      <td>21</td>\n",
       "      <td>2004-05-21 11:00:00</td>\n",
       "    </tr>\n",
       "  </tbody>\n",
       "</table>\n",
       "<p>5 rows × 39 columns</p>\n",
       "</div>"
      ],
      "text/plain": [
       "   count_point_id direction_of_travel  year count_date  hour  region_id  \\\n",
       "0              51                   N  2004 2004-05-21     7          1   \n",
       "1              51                   N  2004 2004-05-21     8          1   \n",
       "2              51                   N  2004 2004-05-21     9          1   \n",
       "3              51                   N  2004 2004-05-21    10          1   \n",
       "4              51                   N  2004 2004-05-21    11          1   \n",
       "\n",
       "  region_name region_ons_code  local_authority_id local_authority_name  ...  \\\n",
       "0  South West       E12000009                   1      Isles of Scilly  ...   \n",
       "1  South West       E12000009                   1      Isles of Scilly  ...   \n",
       "2  South West       E12000009                   1      Isles of Scilly  ...   \n",
       "3  South West       E12000009                   1      Isles of Scilly  ...   \n",
       "4  South West       E12000009                   1      Isles of Scilly  ...   \n",
       "\n",
       "  HGVs_4_or_more_rigid_axle HGVs_3_or_4_articulated_axle  \\\n",
       "0                       0.0                          0.0   \n",
       "1                       0.0                          0.0   \n",
       "2                       0.0                          0.0   \n",
       "3                       0.0                          0.0   \n",
       "4                       0.0                          0.0   \n",
       "\n",
       "  HGVs_5_articulated_axle HGVs_6_articulated_axle all_HGVs all_motor_vehicles  \\\n",
       "0                       0                     0.0      0.0               19.0   \n",
       "1                       0                     0.0     14.0               44.0   \n",
       "2                       0                     0.0      5.0               45.0   \n",
       "3                       0                     0.0      4.0               41.0   \n",
       "4                       0                     0.0      6.0               41.0   \n",
       "\n",
       "   Month  Day_of_Week  Day           timestamp  \n",
       "0      5       Friday   21 2004-05-21 07:00:00  \n",
       "1      5       Friday   21 2004-05-21 08:00:00  \n",
       "2      5       Friday   21 2004-05-21 09:00:00  \n",
       "3      5       Friday   21 2004-05-21 10:00:00  \n",
       "4      5       Friday   21 2004-05-21 11:00:00  \n",
       "\n",
       "[5 rows x 39 columns]"
      ]
     },
     "execution_count": 21,
     "metadata": {},
     "output_type": "execute_result"
    }
   ],
   "source": [
    "pd_raw_count.head()"
   ]
  },
  {
   "cell_type": "markdown",
   "metadata": {},
   "source": [
    "# Data Cleaning"
   ]
  },
  {
   "cell_type": "code",
   "execution_count": 22,
   "metadata": {},
   "outputs": [
    {
     "name": "stdout",
     "output_type": "stream",
     "text": [
      "False    4960860\n",
      "Name: count, dtype: int64\n"
     ]
    }
   ],
   "source": [
    "duplicates = pd_raw_count.duplicated().value_counts()\n",
    "print(duplicates) "
   ]
  },
  {
   "cell_type": "code",
   "execution_count": 23,
   "metadata": {},
   "outputs": [
    {
     "name": "stdout",
     "output_type": "stream",
     "text": [
      "\n",
      "Missing values in pd_raw_count:\n",
      "count_point_id                   0.00\n",
      "direction_of_travel              0.00\n",
      "year                             0.00\n",
      "count_date                       0.00\n",
      "hour                             0.00\n",
      "region_id                        0.00\n",
      "region_name                      0.00\n",
      "region_ons_code                  0.00\n",
      "local_authority_id               0.00\n",
      "local_authority_name             0.00\n",
      "local_authority_code             0.00\n",
      "road_name                        0.00\n",
      "road_category                    0.00\n",
      "road_type                        0.00\n",
      "start_junction_road_name        54.77\n",
      "end_junction_road_name          54.77\n",
      "easting                          0.00\n",
      "northing                         0.00\n",
      "latitude                         0.00\n",
      "longitude                        0.00\n",
      "link_length_km                  54.72\n",
      "link_length_miles               54.72\n",
      "pedal_cycles                     0.00\n",
      "two_wheeled_motor_vehicles       0.00\n",
      "cars_and_taxis                   0.00\n",
      "buses_and_coaches                0.00\n",
      "LGVs                             0.00\n",
      "HGVs_2_rigid_axle                0.00\n",
      "HGVs_3_rigid_axle                0.00\n",
      "HGVs_4_or_more_rigid_axle        0.00\n",
      "HGVs_3_or_4_articulated_axle     0.00\n",
      "HGVs_5_articulated_axle          0.00\n",
      "HGVs_6_articulated_axle          0.00\n",
      "all_HGVs                         0.00\n",
      "all_motor_vehicles               0.00\n",
      "Month                            0.00\n",
      "Day_of_Week                      0.00\n",
      "Day                              0.00\n",
      "timestamp                        0.00\n",
      "dtype: float64\n"
     ]
    }
   ],
   "source": [
    "print(\"\\nMissing values in pd_raw_count:\")\n",
    "print((pd_raw_count.isna().sum() * 100 / pd_raw_count.shape[0]).round(2))"
   ]
  },
  {
   "cell_type": "markdown",
   "metadata": {},
   "source": [
    "#### Filter rows with missing values"
   ]
  },
  {
   "cell_type": "code",
   "execution_count": 24,
   "metadata": {},
   "outputs": [
    {
     "name": "stdout",
     "output_type": "stream",
     "text": [
      "        road_name start_junction_road_name end_junction_road_name\n",
      "110772       A174                      NaN                    NaN\n",
      "110773       A174                      NaN                    NaN\n",
      "110774       A174                      NaN                    NaN\n",
      "110775       A174                      NaN                    NaN\n",
      "110776       A174                      NaN                    NaN\n",
      "...           ...                      ...                    ...\n",
      "4960855     B4640                      NaN                    NaN\n",
      "4960856     B4640                      NaN                    NaN\n",
      "4960857     B4640                      NaN                    NaN\n",
      "4960858     B4640                      NaN                    NaN\n",
      "4960859     B4640                      NaN                    NaN\n",
      "\n",
      "[2717232 rows x 3 columns]\n"
     ]
    }
   ],
   "source": [
    "# Filter rows where either start_junction_road_name or end_junction_road_name has missing values\n",
    "missing_roads = pd_raw_count[(pd_raw_count['start_junction_road_name'].isna()) | (pd_raw_count['end_junction_road_name'].isna())]\n",
    "\n",
    "# Display the rows with missing values\n",
    "print(missing_roads[['road_name', 'start_junction_road_name', 'end_junction_road_name']])"
   ]
  },
  {
   "cell_type": "markdown",
   "metadata": {},
   "source": [
    "#### List unique roads with missing junction names"
   ]
  },
  {
   "cell_type": "code",
   "execution_count": 27,
   "metadata": {},
   "outputs": [
    {
     "name": "stdout",
     "output_type": "stream",
     "text": [
      "['A174' 'A5038' 'A30' ... 'B317' 'B5380' 'B310']\n"
     ]
    }
   ],
   "source": [
    "# Get the unique road names where there are missing values\n",
    "unique_roads_with_missing_values = pd_raw_count[(pd_raw_count['start_junction_road_name'].isna()) | (pd_raw_count['end_junction_road_name'].isna())]['road_name'].unique()\n",
    "\n",
    "# Display the unique road names\n",
    "print(unique_roads_with_missing_values)"
   ]
  },
  {
   "cell_type": "code",
   "execution_count": 116,
   "metadata": {},
   "outputs": [
    {
     "data": {
      "text/plain": [
       "((2246196, 39),\n",
       " link_length_km       0\n",
       " link_length_miles    0\n",
       " dtype: int64)"
      ]
     },
     "execution_count": 116,
     "metadata": {},
     "output_type": "execute_result"
    }
   ],
   "source": [
    "# Drop the rows where 'link_length_km' and 'link_length_miles' have missing values\n",
    "pd_raw_count_cleaned = pd_raw_count.dropna(subset=['link_length_km', 'link_length_miles'])\n",
    "\n",
    "# Verify that there are no more missing values in these columns\n",
    "missing_values_after_dropping = pd_raw_count_cleaned[['link_length_km', 'link_length_miles']].isna().sum()\n",
    "\n",
    "# Display the remaining missing values (if any) and the shape of the cleaned dataset\n",
    "(pd_raw_count_cleaned.shape, missing_values_after_dropping)"
   ]
  },
  {
   "cell_type": "code",
   "execution_count": 29,
   "metadata": {},
   "outputs": [
    {
     "data": {
      "text/plain": [
       "(4960860, 39)"
      ]
     },
     "execution_count": 29,
     "metadata": {},
     "output_type": "execute_result"
    }
   ],
   "source": [
    "pd_raw_count.shape"
   ]
  },
  {
   "cell_type": "code",
   "execution_count": 30,
   "metadata": {},
   "outputs": [],
   "source": [
    "columns_to_drop = [\n",
    "    'year', 'region_id', 'local_authority_id', 'road_category', 'region_ons_code', 'road_name', 'local_authority_code',\n",
    "    'easting', 'northing', 'start_junction_road_name', 'end_junction_road_name', \n",
    "    'link_length_km', 'link_length_miles', 'pedal_cycles', \n",
    "    'HGVs_2_rigid_axle', 'HGVs_3_rigid_axle', 'HGVs_4_or_more_rigid_axle', \n",
    "    'HGVs_3_or_4_articulated_axle', 'HGVs_5_articulated_axle', 'HGVs_6_articulated_axle', \n",
    "    'all_HGVs', 'buses_and_coaches', 'cars_and_taxis', 'two_wheeled_motor_vehicles', \n",
    "    'LGVs'\n",
    "]\n",
    "\n",
    "# east_england_data = pd_raw_count.drop(columns=columns_to_drop)\n",
    "\n",
    "pd_raw_count.drop(columns=columns_to_drop, inplace=True)\n"
   ]
  },
  {
   "cell_type": "code",
   "execution_count": 31,
   "metadata": {},
   "outputs": [
    {
     "data": {
      "text/html": [
       "<div>\n",
       "<style scoped>\n",
       "    .dataframe tbody tr th:only-of-type {\n",
       "        vertical-align: middle;\n",
       "    }\n",
       "\n",
       "    .dataframe tbody tr th {\n",
       "        vertical-align: top;\n",
       "    }\n",
       "\n",
       "    .dataframe thead th {\n",
       "        text-align: right;\n",
       "    }\n",
       "</style>\n",
       "<table border=\"1\" class=\"dataframe\">\n",
       "  <thead>\n",
       "    <tr style=\"text-align: right;\">\n",
       "      <th></th>\n",
       "      <th>count_point_id</th>\n",
       "      <th>direction_of_travel</th>\n",
       "      <th>count_date</th>\n",
       "      <th>hour</th>\n",
       "      <th>region_name</th>\n",
       "      <th>local_authority_name</th>\n",
       "      <th>road_type</th>\n",
       "      <th>latitude</th>\n",
       "      <th>longitude</th>\n",
       "      <th>all_motor_vehicles</th>\n",
       "      <th>Month</th>\n",
       "      <th>Day_of_Week</th>\n",
       "      <th>Day</th>\n",
       "      <th>timestamp</th>\n",
       "    </tr>\n",
       "  </thead>\n",
       "  <tbody>\n",
       "    <tr>\n",
       "      <th>2394322</th>\n",
       "      <td>803590</td>\n",
       "      <td>W</td>\n",
       "      <td>2020-05-18</td>\n",
       "      <td>17</td>\n",
       "      <td>South East</td>\n",
       "      <td>Kent</td>\n",
       "      <td>Minor</td>\n",
       "      <td>51.421859</td>\n",
       "      <td>0.378582</td>\n",
       "      <td>54.0</td>\n",
       "      <td>5</td>\n",
       "      <td>Monday</td>\n",
       "      <td>18</td>\n",
       "      <td>2020-05-18 17:00:00</td>\n",
       "    </tr>\n",
       "    <tr>\n",
       "      <th>3412710</th>\n",
       "      <td>941777</td>\n",
       "      <td>N</td>\n",
       "      <td>2000-05-08</td>\n",
       "      <td>13</td>\n",
       "      <td>North West</td>\n",
       "      <td>Manchester</td>\n",
       "      <td>Minor</td>\n",
       "      <td>53.475684</td>\n",
       "      <td>-2.176465</td>\n",
       "      <td>22.0</td>\n",
       "      <td>5</td>\n",
       "      <td>Monday</td>\n",
       "      <td>8</td>\n",
       "      <td>2000-05-08 13:00:00</td>\n",
       "    </tr>\n",
       "    <tr>\n",
       "      <th>1399526</th>\n",
       "      <td>48469</td>\n",
       "      <td>E</td>\n",
       "      <td>2009-09-29</td>\n",
       "      <td>9</td>\n",
       "      <td>North West</td>\n",
       "      <td>Cumbria</td>\n",
       "      <td>Major</td>\n",
       "      <td>54.331973</td>\n",
       "      <td>-2.739183</td>\n",
       "      <td>664.0</td>\n",
       "      <td>9</td>\n",
       "      <td>Tuesday</td>\n",
       "      <td>29</td>\n",
       "      <td>2009-09-29 09:00:00</td>\n",
       "    </tr>\n",
       "    <tr>\n",
       "      <th>691304</th>\n",
       "      <td>26777</td>\n",
       "      <td>W</td>\n",
       "      <td>2002-09-20</td>\n",
       "      <td>15</td>\n",
       "      <td>London</td>\n",
       "      <td>Lambeth</td>\n",
       "      <td>Major</td>\n",
       "      <td>51.482733</td>\n",
       "      <td>-0.114822</td>\n",
       "      <td>588.0</td>\n",
       "      <td>9</td>\n",
       "      <td>Friday</td>\n",
       "      <td>20</td>\n",
       "      <td>2002-09-20 15:00:00</td>\n",
       "    </tr>\n",
       "    <tr>\n",
       "      <th>3136410</th>\n",
       "      <td>931662</td>\n",
       "      <td>W</td>\n",
       "      <td>2006-06-19</td>\n",
       "      <td>13</td>\n",
       "      <td>East Midlands</td>\n",
       "      <td>Lincolnshire</td>\n",
       "      <td>Minor</td>\n",
       "      <td>52.659694</td>\n",
       "      <td>-0.493026</td>\n",
       "      <td>96.0</td>\n",
       "      <td>6</td>\n",
       "      <td>Monday</td>\n",
       "      <td>19</td>\n",
       "      <td>2006-06-19 13:00:00</td>\n",
       "    </tr>\n",
       "  </tbody>\n",
       "</table>\n",
       "</div>"
      ],
      "text/plain": [
       "         count_point_id direction_of_travel count_date  hour    region_name  \\\n",
       "2394322          803590                   W 2020-05-18    17     South East   \n",
       "3412710          941777                   N 2000-05-08    13     North West   \n",
       "1399526           48469                   E 2009-09-29     9     North West   \n",
       "691304            26777                   W 2002-09-20    15         London   \n",
       "3136410          931662                   W 2006-06-19    13  East Midlands   \n",
       "\n",
       "        local_authority_name road_type   latitude  longitude  \\\n",
       "2394322                 Kent     Minor  51.421859   0.378582   \n",
       "3412710           Manchester     Minor  53.475684  -2.176465   \n",
       "1399526              Cumbria     Major  54.331973  -2.739183   \n",
       "691304               Lambeth     Major  51.482733  -0.114822   \n",
       "3136410         Lincolnshire     Minor  52.659694  -0.493026   \n",
       "\n",
       "         all_motor_vehicles  Month Day_of_Week  Day           timestamp  \n",
       "2394322                54.0      5      Monday   18 2020-05-18 17:00:00  \n",
       "3412710                22.0      5      Monday    8 2000-05-08 13:00:00  \n",
       "1399526               664.0      9     Tuesday   29 2009-09-29 09:00:00  \n",
       "691304                588.0      9      Friday   20 2002-09-20 15:00:00  \n",
       "3136410                96.0      6      Monday   19 2006-06-19 13:00:00  "
      ]
     },
     "execution_count": 31,
     "metadata": {},
     "output_type": "execute_result"
    }
   ],
   "source": [
    "pd_raw_count.sample(5)"
   ]
  },
  {
   "cell_type": "code",
   "execution_count": 35,
   "metadata": {},
   "outputs": [
    {
     "data": {
      "text/plain": [
       "(4960860, 14)"
      ]
     },
     "execution_count": 35,
     "metadata": {},
     "output_type": "execute_result"
    }
   ],
   "source": [
    "pd_raw_count.shape"
   ]
  },
  {
   "cell_type": "code",
   "execution_count": 33,
   "metadata": {},
   "outputs": [
    {
     "data": {
      "text/html": [
       "<div>\n",
       "<style scoped>\n",
       "    .dataframe tbody tr th:only-of-type {\n",
       "        vertical-align: middle;\n",
       "    }\n",
       "\n",
       "    .dataframe tbody tr th {\n",
       "        vertical-align: top;\n",
       "    }\n",
       "\n",
       "    .dataframe thead th {\n",
       "        text-align: right;\n",
       "    }\n",
       "</style>\n",
       "<table border=\"1\" class=\"dataframe\">\n",
       "  <thead>\n",
       "    <tr style=\"text-align: right;\">\n",
       "      <th></th>\n",
       "      <th>timestamp</th>\n",
       "      <th>count_point_id</th>\n",
       "      <th>direction_of_travel</th>\n",
       "      <th>road_type</th>\n",
       "      <th>latitude</th>\n",
       "      <th>longitude</th>\n",
       "      <th>all_motor_vehicles</th>\n",
       "    </tr>\n",
       "  </thead>\n",
       "  <tbody>\n",
       "    <tr>\n",
       "      <th>918264</th>\n",
       "      <td>2000-03-17 07:00:00</td>\n",
       "      <td>36132</td>\n",
       "      <td>W</td>\n",
       "      <td>Major</td>\n",
       "      <td>51.427798</td>\n",
       "      <td>-2.532140</td>\n",
       "      <td>1850.0</td>\n",
       "    </tr>\n",
       "    <tr>\n",
       "      <th>658908</th>\n",
       "      <td>2000-03-17 07:00:00</td>\n",
       "      <td>26434</td>\n",
       "      <td>E</td>\n",
       "      <td>Major</td>\n",
       "      <td>51.535507</td>\n",
       "      <td>-0.343345</td>\n",
       "      <td>5459.0</td>\n",
       "    </tr>\n",
       "    <tr>\n",
       "      <th>1719552</th>\n",
       "      <td>2000-03-17 07:00:00</td>\n",
       "      <td>60046</td>\n",
       "      <td>S</td>\n",
       "      <td>Major</td>\n",
       "      <td>53.832745</td>\n",
       "      <td>-2.221801</td>\n",
       "      <td>334.0</td>\n",
       "    </tr>\n",
       "    <tr>\n",
       "      <th>1196748</th>\n",
       "      <td>2000-03-17 07:00:00</td>\n",
       "      <td>46072</td>\n",
       "      <td>S</td>\n",
       "      <td>Major</td>\n",
       "      <td>53.563702</td>\n",
       "      <td>-2.153642</td>\n",
       "      <td>2597.0</td>\n",
       "    </tr>\n",
       "    <tr>\n",
       "      <th>4506000</th>\n",
       "      <td>2000-03-17 07:00:00</td>\n",
       "      <td>952136</td>\n",
       "      <td>W</td>\n",
       "      <td>Minor</td>\n",
       "      <td>52.108388</td>\n",
       "      <td>-1.989427</td>\n",
       "      <td>43.0</td>\n",
       "    </tr>\n",
       "  </tbody>\n",
       "</table>\n",
       "</div>"
      ],
      "text/plain": [
       "                  timestamp  count_point_id direction_of_travel road_type  \\\n",
       "918264  2000-03-17 07:00:00           36132                   W     Major   \n",
       "658908  2000-03-17 07:00:00           26434                   E     Major   \n",
       "1719552 2000-03-17 07:00:00           60046                   S     Major   \n",
       "1196748 2000-03-17 07:00:00           46072                   S     Major   \n",
       "4506000 2000-03-17 07:00:00          952136                   W     Minor   \n",
       "\n",
       "          latitude  longitude  all_motor_vehicles  \n",
       "918264   51.427798  -2.532140              1850.0  \n",
       "658908   51.535507  -0.343345              5459.0  \n",
       "1719552  53.832745  -2.221801               334.0  \n",
       "1196748  53.563702  -2.153642              2597.0  \n",
       "4506000  52.108388  -1.989427                43.0  "
      ]
     },
     "execution_count": 33,
     "metadata": {},
     "output_type": "execute_result"
    }
   ],
   "source": [
    "pd_raw_count[['timestamp','count_point_id','direction_of_travel','road_type', 'latitude', 'longitude', 'all_motor_vehicles']].sort_values(by=['timestamp']).head()"
   ]
  },
  {
   "cell_type": "code",
   "execution_count": 36,
   "metadata": {},
   "outputs": [
    {
     "name": "stdout",
     "output_type": "stream",
     "text": [
      "\n",
      "Missing values in pd_raw_count:\n",
      "count_point_id          0.0\n",
      "direction_of_travel     0.0\n",
      "count_date              0.0\n",
      "hour                    0.0\n",
      "region_name             0.0\n",
      "local_authority_name    0.0\n",
      "road_type               0.0\n",
      "latitude                0.0\n",
      "longitude               0.0\n",
      "all_motor_vehicles      0.0\n",
      "Month                   0.0\n",
      "Day_of_Week             0.0\n",
      "Day                     0.0\n",
      "timestamp               0.0\n",
      "dtype: float64\n"
     ]
    }
   ],
   "source": [
    "print(\"\\nMissing values in pd_raw_count:\")\n",
    "print((pd_raw_count.isna().sum() * 100 / pd_raw_count.shape[0]).round(2))"
   ]
  },
  {
   "cell_type": "code",
   "execution_count": 37,
   "metadata": {},
   "outputs": [
    {
     "name": "stdout",
     "output_type": "stream",
     "text": [
      "False    4960860\n",
      "Name: count, dtype: int64\n"
     ]
    }
   ],
   "source": [
    "duplicates = pd_raw_count.duplicated().value_counts()\n",
    "print(duplicates) "
   ]
  },
  {
   "cell_type": "code",
   "execution_count": 38,
   "metadata": {},
   "outputs": [
    {
     "name": "stdout",
     "output_type": "stream",
     "text": [
      "<class 'pandas.core.frame.DataFrame'>\n",
      "RangeIndex: 4960860 entries, 0 to 4960859\n",
      "Data columns (total 14 columns):\n",
      " #   Column                Dtype         \n",
      "---  ------                -----         \n",
      " 0   count_point_id        int64         \n",
      " 1   direction_of_travel   object        \n",
      " 2   count_date            datetime64[ns]\n",
      " 3   hour                  int64         \n",
      " 4   region_name           object        \n",
      " 5   local_authority_name  object        \n",
      " 6   road_type             object        \n",
      " 7   latitude              float64       \n",
      " 8   longitude             float64       \n",
      " 9   all_motor_vehicles    float64       \n",
      " 10  Month                 int32         \n",
      " 11  Day_of_Week           object        \n",
      " 12  Day                   int32         \n",
      " 13  timestamp             datetime64[ns]\n",
      "dtypes: datetime64[ns](2), float64(3), int32(2), int64(2), object(5)\n",
      "memory usage: 492.0+ MB\n"
     ]
    }
   ],
   "source": [
    "pd_raw_count.info()"
   ]
  },
  {
   "cell_type": "code",
   "execution_count": 39,
   "metadata": {},
   "outputs": [],
   "source": [
    "# Save the DataFrame to a CSV file, ensuring the format is kept\n",
    "pd_raw_count.to_csv('../data/pd_raw_count_revised_cleaned.csv', index=False)"
   ]
  }
 ],
 "metadata": {
  "kernelspec": {
   "display_name": "capstone",
   "language": "python",
   "name": "python3"
  },
  "language_info": {
   "codemirror_mode": {
    "name": "ipython",
    "version": 3
   },
   "file_extension": ".py",
   "mimetype": "text/x-python",
   "name": "python",
   "nbconvert_exporter": "python",
   "pygments_lexer": "ipython3",
   "version": "3.8.18"
  }
 },
 "nbformat": 4,
 "nbformat_minor": 2
}
