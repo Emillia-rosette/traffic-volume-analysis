{
 "cells": [
  {
   "cell_type": "markdown",
   "metadata": {},
   "source": [
    "# Importing Libraries"
   ]
  },
  {
   "cell_type": "code",
   "execution_count": 2,
   "metadata": {},
   "outputs": [],
   "source": [
    "# import libraries\n",
    "\n",
    "import pandas as pd\n",
    "import numpy as np\n",
    "import seaborn as sns\n",
    "import matplotlib.pyplot as plt"
   ]
  },
  {
   "cell_type": "markdown",
   "metadata": {},
   "source": [
    "# Data Loading and Initial Inspection"
   ]
  },
  {
   "cell_type": "code",
   "execution_count": 25,
   "metadata": {},
   "outputs": [
    {
     "name": "stderr",
     "output_type": "stream",
     "text": [
      "/var/folders/_z/nz5spzqj2rl11n5lc_k1cwwc0000gn/T/ipykernel_65996/109602175.py:1: DtypeWarning: Columns (14,15) have mixed types. Specify dtype option on import or set low_memory=False.\n",
      "  pd_raw_count = pd.read_csv('../data/uk_data/dft_traffic_counts_raw_counts.csv')\n"
     ]
    }
   ],
   "source": [
    "pd_raw_count = pd.read_csv('../data/uk_data/dft_traffic_counts_raw_counts.csv')"
   ]
  },
  {
   "cell_type": "code",
   "execution_count": 27,
   "metadata": {},
   "outputs": [
    {
     "data": {
      "text/plain": [
       "(4960860, 35)"
      ]
     },
     "execution_count": 27,
     "metadata": {},
     "output_type": "execute_result"
    }
   ],
   "source": [
    "pd_raw_count.shape"
   ]
  },
  {
   "cell_type": "code",
   "execution_count": 28,
   "metadata": {},
   "outputs": [
    {
     "data": {
      "text/html": [
       "<div>\n",
       "<style scoped>\n",
       "    .dataframe tbody tr th:only-of-type {\n",
       "        vertical-align: middle;\n",
       "    }\n",
       "\n",
       "    .dataframe tbody tr th {\n",
       "        vertical-align: top;\n",
       "    }\n",
       "\n",
       "    .dataframe thead th {\n",
       "        text-align: right;\n",
       "    }\n",
       "</style>\n",
       "<table border=\"1\" class=\"dataframe\">\n",
       "  <thead>\n",
       "    <tr style=\"text-align: right;\">\n",
       "      <th></th>\n",
       "      <th>count_point_id</th>\n",
       "      <th>direction_of_travel</th>\n",
       "      <th>year</th>\n",
       "      <th>count_date</th>\n",
       "      <th>hour</th>\n",
       "      <th>region_id</th>\n",
       "      <th>region_name</th>\n",
       "      <th>region_ons_code</th>\n",
       "      <th>local_authority_id</th>\n",
       "      <th>local_authority_name</th>\n",
       "      <th>...</th>\n",
       "      <th>buses_and_coaches</th>\n",
       "      <th>LGVs</th>\n",
       "      <th>HGVs_2_rigid_axle</th>\n",
       "      <th>HGVs_3_rigid_axle</th>\n",
       "      <th>HGVs_4_or_more_rigid_axle</th>\n",
       "      <th>HGVs_3_or_4_articulated_axle</th>\n",
       "      <th>HGVs_5_articulated_axle</th>\n",
       "      <th>HGVs_6_articulated_axle</th>\n",
       "      <th>all_HGVs</th>\n",
       "      <th>all_motor_vehicles</th>\n",
       "    </tr>\n",
       "  </thead>\n",
       "  <tbody>\n",
       "    <tr>\n",
       "      <th>0</th>\n",
       "      <td>51</td>\n",
       "      <td>N</td>\n",
       "      <td>2004</td>\n",
       "      <td>2004-05-21</td>\n",
       "      <td>7</td>\n",
       "      <td>1</td>\n",
       "      <td>South West</td>\n",
       "      <td>E12000009</td>\n",
       "      <td>1</td>\n",
       "      <td>Isles of Scilly</td>\n",
       "      <td>...</td>\n",
       "      <td>1.0</td>\n",
       "      <td>13</td>\n",
       "      <td>0.0</td>\n",
       "      <td>0.0</td>\n",
       "      <td>0.0</td>\n",
       "      <td>0.0</td>\n",
       "      <td>0</td>\n",
       "      <td>0.0</td>\n",
       "      <td>0.0</td>\n",
       "      <td>19.0</td>\n",
       "    </tr>\n",
       "    <tr>\n",
       "      <th>1</th>\n",
       "      <td>51</td>\n",
       "      <td>N</td>\n",
       "      <td>2004</td>\n",
       "      <td>2004-05-21</td>\n",
       "      <td>8</td>\n",
       "      <td>1</td>\n",
       "      <td>South West</td>\n",
       "      <td>E12000009</td>\n",
       "      <td>1</td>\n",
       "      <td>Isles of Scilly</td>\n",
       "      <td>...</td>\n",
       "      <td>2.0</td>\n",
       "      <td>13</td>\n",
       "      <td>7.0</td>\n",
       "      <td>7.0</td>\n",
       "      <td>0.0</td>\n",
       "      <td>0.0</td>\n",
       "      <td>0</td>\n",
       "      <td>0.0</td>\n",
       "      <td>14.0</td>\n",
       "      <td>44.0</td>\n",
       "    </tr>\n",
       "    <tr>\n",
       "      <th>2</th>\n",
       "      <td>51</td>\n",
       "      <td>N</td>\n",
       "      <td>2004</td>\n",
       "      <td>2004-05-21</td>\n",
       "      <td>9</td>\n",
       "      <td>1</td>\n",
       "      <td>South West</td>\n",
       "      <td>E12000009</td>\n",
       "      <td>1</td>\n",
       "      <td>Isles of Scilly</td>\n",
       "      <td>...</td>\n",
       "      <td>5.0</td>\n",
       "      <td>17</td>\n",
       "      <td>5.0</td>\n",
       "      <td>0.0</td>\n",
       "      <td>0.0</td>\n",
       "      <td>0.0</td>\n",
       "      <td>0</td>\n",
       "      <td>0.0</td>\n",
       "      <td>5.0</td>\n",
       "      <td>45.0</td>\n",
       "    </tr>\n",
       "    <tr>\n",
       "      <th>3</th>\n",
       "      <td>51</td>\n",
       "      <td>N</td>\n",
       "      <td>2004</td>\n",
       "      <td>2004-05-21</td>\n",
       "      <td>10</td>\n",
       "      <td>1</td>\n",
       "      <td>South West</td>\n",
       "      <td>E12000009</td>\n",
       "      <td>1</td>\n",
       "      <td>Isles of Scilly</td>\n",
       "      <td>...</td>\n",
       "      <td>4.0</td>\n",
       "      <td>4</td>\n",
       "      <td>4.0</td>\n",
       "      <td>0.0</td>\n",
       "      <td>0.0</td>\n",
       "      <td>0.0</td>\n",
       "      <td>0</td>\n",
       "      <td>0.0</td>\n",
       "      <td>4.0</td>\n",
       "      <td>41.0</td>\n",
       "    </tr>\n",
       "    <tr>\n",
       "      <th>4</th>\n",
       "      <td>51</td>\n",
       "      <td>N</td>\n",
       "      <td>2004</td>\n",
       "      <td>2004-05-21</td>\n",
       "      <td>11</td>\n",
       "      <td>1</td>\n",
       "      <td>South West</td>\n",
       "      <td>E12000009</td>\n",
       "      <td>1</td>\n",
       "      <td>Isles of Scilly</td>\n",
       "      <td>...</td>\n",
       "      <td>3.0</td>\n",
       "      <td>14</td>\n",
       "      <td>6.0</td>\n",
       "      <td>0.0</td>\n",
       "      <td>0.0</td>\n",
       "      <td>0.0</td>\n",
       "      <td>0</td>\n",
       "      <td>0.0</td>\n",
       "      <td>6.0</td>\n",
       "      <td>41.0</td>\n",
       "    </tr>\n",
       "  </tbody>\n",
       "</table>\n",
       "<p>5 rows × 35 columns</p>\n",
       "</div>"
      ],
      "text/plain": [
       "   count_point_id direction_of_travel  year  count_date  hour  region_id  \\\n",
       "0              51                   N  2004  2004-05-21     7          1   \n",
       "1              51                   N  2004  2004-05-21     8          1   \n",
       "2              51                   N  2004  2004-05-21     9          1   \n",
       "3              51                   N  2004  2004-05-21    10          1   \n",
       "4              51                   N  2004  2004-05-21    11          1   \n",
       "\n",
       "  region_name region_ons_code  local_authority_id local_authority_name  ...  \\\n",
       "0  South West       E12000009                   1      Isles of Scilly  ...   \n",
       "1  South West       E12000009                   1      Isles of Scilly  ...   \n",
       "2  South West       E12000009                   1      Isles of Scilly  ...   \n",
       "3  South West       E12000009                   1      Isles of Scilly  ...   \n",
       "4  South West       E12000009                   1      Isles of Scilly  ...   \n",
       "\n",
       "  buses_and_coaches LGVs HGVs_2_rigid_axle HGVs_3_rigid_axle  \\\n",
       "0               1.0   13               0.0               0.0   \n",
       "1               2.0   13               7.0               7.0   \n",
       "2               5.0   17               5.0               0.0   \n",
       "3               4.0    4               4.0               0.0   \n",
       "4               3.0   14               6.0               0.0   \n",
       "\n",
       "  HGVs_4_or_more_rigid_axle HGVs_3_or_4_articulated_axle  \\\n",
       "0                       0.0                          0.0   \n",
       "1                       0.0                          0.0   \n",
       "2                       0.0                          0.0   \n",
       "3                       0.0                          0.0   \n",
       "4                       0.0                          0.0   \n",
       "\n",
       "   HGVs_5_articulated_axle  HGVs_6_articulated_axle  all_HGVs  \\\n",
       "0                        0                      0.0       0.0   \n",
       "1                        0                      0.0      14.0   \n",
       "2                        0                      0.0       5.0   \n",
       "3                        0                      0.0       4.0   \n",
       "4                        0                      0.0       6.0   \n",
       "\n",
       "   all_motor_vehicles  \n",
       "0                19.0  \n",
       "1                44.0  \n",
       "2                45.0  \n",
       "3                41.0  \n",
       "4                41.0  \n",
       "\n",
       "[5 rows x 35 columns]"
      ]
     },
     "execution_count": 28,
     "metadata": {},
     "output_type": "execute_result"
    }
   ],
   "source": [
    "pd_raw_count.head()"
   ]
  },
  {
   "cell_type": "code",
   "execution_count": 29,
   "metadata": {},
   "outputs": [
    {
     "name": "stdout",
     "output_type": "stream",
     "text": [
      "<class 'pandas.core.frame.DataFrame'>\n",
      "RangeIndex: 4960860 entries, 0 to 4960859\n",
      "Data columns (total 35 columns):\n",
      " #   Column                        Dtype  \n",
      "---  ------                        -----  \n",
      " 0   count_point_id                int64  \n",
      " 1   direction_of_travel           object \n",
      " 2   year                          int64  \n",
      " 3   count_date                    object \n",
      " 4   hour                          int64  \n",
      " 5   region_id                     int64  \n",
      " 6   region_name                   object \n",
      " 7   region_ons_code               object \n",
      " 8   local_authority_id            int64  \n",
      " 9   local_authority_name          object \n",
      " 10  local_authority_code          object \n",
      " 11  road_name                     object \n",
      " 12  road_category                 object \n",
      " 13  road_type                     object \n",
      " 14  start_junction_road_name      object \n",
      " 15  end_junction_road_name        object \n",
      " 16  easting                       int64  \n",
      " 17  northing                      int64  \n",
      " 18  latitude                      float64\n",
      " 19  longitude                     float64\n",
      " 20  link_length_km                float64\n",
      " 21  link_length_miles             float64\n",
      " 22  pedal_cycles                  int64  \n",
      " 23  two_wheeled_motor_vehicles    int64  \n",
      " 24  cars_and_taxis                float64\n",
      " 25  buses_and_coaches             float64\n",
      " 26  LGVs                          int64  \n",
      " 27  HGVs_2_rigid_axle             float64\n",
      " 28  HGVs_3_rigid_axle             float64\n",
      " 29  HGVs_4_or_more_rigid_axle     float64\n",
      " 30  HGVs_3_or_4_articulated_axle  float64\n",
      " 31  HGVs_5_articulated_axle       int64  \n",
      " 32  HGVs_6_articulated_axle       float64\n",
      " 33  all_HGVs                      float64\n",
      " 34  all_motor_vehicles            float64\n",
      "dtypes: float64(13), int64(11), object(11)\n",
      "memory usage: 1.3+ GB\n"
     ]
    }
   ],
   "source": [
    "pd_raw_count.info()"
   ]
  },
  {
   "cell_type": "code",
   "execution_count": 30,
   "metadata": {},
   "outputs": [],
   "source": [
    "# create a copy of the raw count data where region name is East of England\n",
    "pd_raw_count_east = pd_raw_count[pd_raw_count['region_name'] == 'East of England'].copy()"
   ]
  },
  {
   "cell_type": "code",
   "execution_count": 39,
   "metadata": {},
   "outputs": [
    {
     "data": {
      "text/plain": [
       "(550056, 35)"
      ]
     },
     "execution_count": 39,
     "metadata": {},
     "output_type": "execute_result"
    }
   ],
   "source": [
    "pd_raw_count_east.shape # size of the dataframe"
   ]
  },
  {
   "cell_type": "code",
   "execution_count": 40,
   "metadata": {},
   "outputs": [
    {
     "name": "stdout",
     "output_type": "stream",
     "text": [
      "<class 'pandas.core.frame.DataFrame'>\n",
      "Index: 550056 entries, 30144 to 4960547\n",
      "Data columns (total 35 columns):\n",
      " #   Column                        Non-Null Count   Dtype  \n",
      "---  ------                        --------------   -----  \n",
      " 0   count_point_id                550056 non-null  int64  \n",
      " 1   direction_of_travel           550056 non-null  object \n",
      " 2   year                          550056 non-null  int64  \n",
      " 3   count_date                    550056 non-null  object \n",
      " 4   hour                          550056 non-null  int64  \n",
      " 5   region_id                     550056 non-null  int64  \n",
      " 6   region_name                   550056 non-null  object \n",
      " 7   region_ons_code               550056 non-null  object \n",
      " 8   local_authority_id            550056 non-null  int64  \n",
      " 9   local_authority_name          550056 non-null  object \n",
      " 10  local_authority_code          550056 non-null  object \n",
      " 11  road_name                     550056 non-null  object \n",
      " 12  road_category                 550056 non-null  object \n",
      " 13  road_type                     550056 non-null  object \n",
      " 14  start_junction_road_name      220716 non-null  object \n",
      " 15  end_junction_road_name        220716 non-null  object \n",
      " 16  easting                       550056 non-null  int64  \n",
      " 17  northing                      550056 non-null  int64  \n",
      " 18  latitude                      550056 non-null  float64\n",
      " 19  longitude                     550056 non-null  float64\n",
      " 20  link_length_km                220944 non-null  float64\n",
      " 21  link_length_miles             220944 non-null  float64\n",
      " 22  pedal_cycles                  550056 non-null  int64  \n",
      " 23  two_wheeled_motor_vehicles    550056 non-null  int64  \n",
      " 24  cars_and_taxis                550056 non-null  float64\n",
      " 25  buses_and_coaches             550056 non-null  float64\n",
      " 26  LGVs                          550056 non-null  int64  \n",
      " 27  HGVs_2_rigid_axle             550054 non-null  float64\n",
      " 28  HGVs_3_rigid_axle             550056 non-null  float64\n",
      " 29  HGVs_4_or_more_rigid_axle     550056 non-null  float64\n",
      " 30  HGVs_3_or_4_articulated_axle  550056 non-null  float64\n",
      " 31  HGVs_5_articulated_axle       550056 non-null  int64  \n",
      " 32  HGVs_6_articulated_axle       550056 non-null  float64\n",
      " 33  all_HGVs                      550054 non-null  float64\n",
      " 34  all_motor_vehicles            550054 non-null  float64\n",
      "dtypes: float64(13), int64(11), object(11)\n",
      "memory usage: 151.1+ MB\n"
     ]
    }
   ],
   "source": [
    "pd_raw_count_east.info()"
   ]
  },
  {
   "cell_type": "code",
   "execution_count": 41,
   "metadata": {},
   "outputs": [
    {
     "data": {
      "text/plain": [
       "direction_of_travel\n",
       "N    145584\n",
       "S    145332\n",
       "E    129684\n",
       "W    129372\n",
       "s        48\n",
       "w        24\n",
       "C        12\n",
       "Name: count, dtype: int64"
      ]
     },
     "execution_count": 41,
     "metadata": {},
     "output_type": "execute_result"
    }
   ],
   "source": [
    "pd_raw_count_east['direction_of_travel'].value_counts()"
   ]
  },
  {
   "cell_type": "code",
   "execution_count": 42,
   "metadata": {},
   "outputs": [
    {
     "data": {
      "text/plain": [
       "year\n",
       "2008    40404\n",
       "2019    35052\n",
       "2009    34272\n",
       "2018    33552\n",
       "2006    22992\n",
       "2004    22848\n",
       "2003    22776\n",
       "2010    22332\n",
       "2002    21408\n",
       "2017    21336\n",
       "2012    21144\n",
       "2007    21108\n",
       "2001    20952\n",
       "2011    20568\n",
       "2005    20472\n",
       "2013    20196\n",
       "2000    19548\n",
       "2021    19452\n",
       "2022    19440\n",
       "2015    19080\n",
       "2014    18708\n",
       "2016    18708\n",
       "2020    17592\n",
       "2023    16116\n",
       "Name: count, dtype: int64"
      ]
     },
     "execution_count": 42,
     "metadata": {},
     "output_type": "execute_result"
    }
   ],
   "source": [
    "pd_raw_count_east['year'].value_counts()"
   ]
  },
  {
   "cell_type": "code",
   "execution_count": 43,
   "metadata": {},
   "outputs": [
    {
     "data": {
      "text/plain": [
       "local_authority_name\n",
       "Essex                   134436\n",
       "Hertfordshire           104760\n",
       "Norfolk                  94752\n",
       "Cambridgeshire           62088\n",
       "Suffolk                  61572\n",
       "Peterborough             22416\n",
       "Thurrock                 16224\n",
       "Bedfordshire             14844\n",
       "Central Bedfordshire     12276\n",
       "Luton                     9828\n",
       "Southend-on-Sea           8676\n",
       "Bedford                   8184\n",
       "Name: count, dtype: int64"
      ]
     },
     "execution_count": 43,
     "metadata": {},
     "output_type": "execute_result"
    }
   ],
   "source": [
    "pd_raw_count_east['local_authority_name'].value_counts() # local autorities wihtin the east of england region"
   ]
  },
  {
   "cell_type": "code",
   "execution_count": 44,
   "metadata": {},
   "outputs": [
    {
     "data": {
      "text/plain": [
       "road_type\n",
       "Minor    329112\n",
       "Major    220944\n",
       "Name: count, dtype: int64"
      ]
     },
     "execution_count": 44,
     "metadata": {},
     "output_type": "execute_result"
    }
   ],
   "source": [
    "pd_raw_count_east['road_type'].value_counts()"
   ]
  },
  {
   "cell_type": "markdown",
   "metadata": {},
   "source": [
    "# Data Formatting"
   ]
  },
  {
   "cell_type": "code",
   "execution_count": 45,
   "metadata": {},
   "outputs": [],
   "source": [
    "# conver `count_date` to datetime type\n",
    "pd_raw_count_east['count_date'] =  pd.to_datetime(pd_raw_count_east['count_date'])"
   ]
  },
  {
   "cell_type": "code",
   "execution_count": 46,
   "metadata": {},
   "outputs": [],
   "source": [
    "# Extract Date Components \n",
    "pd_raw_count_east['Month'] = pd_raw_count_east['count_date'].dt.month\n",
    "pd_raw_count_east['Day_of_Week'] = pd_raw_count_east['count_date'].dt.day_name()\n",
    "pd_raw_count_east['Day'] = pd_raw_count_east['count_date'].dt.day"
   ]
  },
  {
   "cell_type": "code",
   "execution_count": 47,
   "metadata": {},
   "outputs": [],
   "source": [
    "# Create a 'timestamp' column by combining 'count_date' and 'hour'\n",
    "pd_raw_count_east['timestamp'] = pd.to_datetime(pd_raw_count_east['count_date']) + pd.to_timedelta(pd_raw_count_east['hour'], unit='h')"
   ]
  },
  {
   "cell_type": "code",
   "execution_count": 48,
   "metadata": {},
   "outputs": [
    {
     "name": "stdout",
     "output_type": "stream",
     "text": [
      "\n",
      "Data types in pd_raw_count:\n",
      "count_point_id                           int64\n",
      "direction_of_travel                     object\n",
      "year                                     int64\n",
      "count_date                      datetime64[ns]\n",
      "hour                                     int64\n",
      "region_id                                int64\n",
      "region_name                             object\n",
      "region_ons_code                         object\n",
      "local_authority_id                       int64\n",
      "local_authority_name                    object\n",
      "local_authority_code                    object\n",
      "road_name                               object\n",
      "road_category                           object\n",
      "road_type                               object\n",
      "start_junction_road_name                object\n",
      "end_junction_road_name                  object\n",
      "easting                                  int64\n",
      "northing                                 int64\n",
      "latitude                               float64\n",
      "longitude                              float64\n",
      "link_length_km                         float64\n",
      "link_length_miles                      float64\n",
      "pedal_cycles                             int64\n",
      "two_wheeled_motor_vehicles               int64\n",
      "cars_and_taxis                         float64\n",
      "buses_and_coaches                      float64\n",
      "LGVs                                     int64\n",
      "HGVs_2_rigid_axle                      float64\n",
      "HGVs_3_rigid_axle                      float64\n",
      "HGVs_4_or_more_rigid_axle              float64\n",
      "HGVs_3_or_4_articulated_axle           float64\n",
      "HGVs_5_articulated_axle                  int64\n",
      "HGVs_6_articulated_axle                float64\n",
      "all_HGVs                               float64\n",
      "all_motor_vehicles                     float64\n",
      "Month                                    int32\n",
      "Day_of_Week                             object\n",
      "Day                                      int32\n",
      "timestamp                       datetime64[ns]\n",
      "dtype: object\n"
     ]
    }
   ],
   "source": [
    "# Check data types\n",
    "print(\"\\nData types in pd_raw_count:\")\n",
    "print(pd_raw_count_east.dtypes)"
   ]
  },
  {
   "cell_type": "code",
   "execution_count": 50,
   "metadata": {},
   "outputs": [
    {
     "data": {
      "text/html": [
       "<div>\n",
       "<style scoped>\n",
       "    .dataframe tbody tr th:only-of-type {\n",
       "        vertical-align: middle;\n",
       "    }\n",
       "\n",
       "    .dataframe tbody tr th {\n",
       "        vertical-align: top;\n",
       "    }\n",
       "\n",
       "    .dataframe thead th {\n",
       "        text-align: right;\n",
       "    }\n",
       "</style>\n",
       "<table border=\"1\" class=\"dataframe\">\n",
       "  <thead>\n",
       "    <tr style=\"text-align: right;\">\n",
       "      <th></th>\n",
       "      <th>count_point_id</th>\n",
       "      <th>direction_of_travel</th>\n",
       "      <th>year</th>\n",
       "      <th>count_date</th>\n",
       "      <th>hour</th>\n",
       "      <th>region_id</th>\n",
       "      <th>region_name</th>\n",
       "      <th>region_ons_code</th>\n",
       "      <th>local_authority_id</th>\n",
       "      <th>local_authority_name</th>\n",
       "      <th>...</th>\n",
       "      <th>HGVs_4_or_more_rigid_axle</th>\n",
       "      <th>HGVs_3_or_4_articulated_axle</th>\n",
       "      <th>HGVs_5_articulated_axle</th>\n",
       "      <th>HGVs_6_articulated_axle</th>\n",
       "      <th>all_HGVs</th>\n",
       "      <th>all_motor_vehicles</th>\n",
       "      <th>Month</th>\n",
       "      <th>Day_of_Week</th>\n",
       "      <th>Day</th>\n",
       "      <th>timestamp</th>\n",
       "    </tr>\n",
       "  </thead>\n",
       "  <tbody>\n",
       "    <tr>\n",
       "      <th>30144</th>\n",
       "      <td>6003</td>\n",
       "      <td>N</td>\n",
       "      <td>2000</td>\n",
       "      <td>2000-03-31</td>\n",
       "      <td>7</td>\n",
       "      <td>7</td>\n",
       "      <td>East of England</td>\n",
       "      <td>E12000006</td>\n",
       "      <td>208</td>\n",
       "      <td>Bedfordshire</td>\n",
       "      <td>...</td>\n",
       "      <td>36.0</td>\n",
       "      <td>63.0</td>\n",
       "      <td>223</td>\n",
       "      <td>145.0</td>\n",
       "      <td>678.0</td>\n",
       "      <td>4006.0</td>\n",
       "      <td>3</td>\n",
       "      <td>Friday</td>\n",
       "      <td>31</td>\n",
       "      <td>2000-03-31 07:00:00</td>\n",
       "    </tr>\n",
       "    <tr>\n",
       "      <th>30145</th>\n",
       "      <td>6003</td>\n",
       "      <td>N</td>\n",
       "      <td>2000</td>\n",
       "      <td>2000-03-31</td>\n",
       "      <td>8</td>\n",
       "      <td>7</td>\n",
       "      <td>East of England</td>\n",
       "      <td>E12000006</td>\n",
       "      <td>208</td>\n",
       "      <td>Bedfordshire</td>\n",
       "      <td>...</td>\n",
       "      <td>11.0</td>\n",
       "      <td>60.0</td>\n",
       "      <td>180</td>\n",
       "      <td>119.0</td>\n",
       "      <td>590.0</td>\n",
       "      <td>4142.0</td>\n",
       "      <td>3</td>\n",
       "      <td>Friday</td>\n",
       "      <td>31</td>\n",
       "      <td>2000-03-31 08:00:00</td>\n",
       "    </tr>\n",
       "    <tr>\n",
       "      <th>30146</th>\n",
       "      <td>6003</td>\n",
       "      <td>N</td>\n",
       "      <td>2000</td>\n",
       "      <td>2000-03-31</td>\n",
       "      <td>9</td>\n",
       "      <td>7</td>\n",
       "      <td>East of England</td>\n",
       "      <td>E12000006</td>\n",
       "      <td>208</td>\n",
       "      <td>Bedfordshire</td>\n",
       "      <td>...</td>\n",
       "      <td>17.0</td>\n",
       "      <td>85.0</td>\n",
       "      <td>212</td>\n",
       "      <td>117.0</td>\n",
       "      <td>681.0</td>\n",
       "      <td>3325.0</td>\n",
       "      <td>3</td>\n",
       "      <td>Friday</td>\n",
       "      <td>31</td>\n",
       "      <td>2000-03-31 09:00:00</td>\n",
       "    </tr>\n",
       "    <tr>\n",
       "      <th>30147</th>\n",
       "      <td>6003</td>\n",
       "      <td>N</td>\n",
       "      <td>2000</td>\n",
       "      <td>2000-03-31</td>\n",
       "      <td>10</td>\n",
       "      <td>7</td>\n",
       "      <td>East of England</td>\n",
       "      <td>E12000006</td>\n",
       "      <td>208</td>\n",
       "      <td>Bedfordshire</td>\n",
       "      <td>...</td>\n",
       "      <td>22.0</td>\n",
       "      <td>80.0</td>\n",
       "      <td>262</td>\n",
       "      <td>157.0</td>\n",
       "      <td>749.0</td>\n",
       "      <td>3500.0</td>\n",
       "      <td>3</td>\n",
       "      <td>Friday</td>\n",
       "      <td>31</td>\n",
       "      <td>2000-03-31 10:00:00</td>\n",
       "    </tr>\n",
       "    <tr>\n",
       "      <th>30148</th>\n",
       "      <td>6003</td>\n",
       "      <td>N</td>\n",
       "      <td>2000</td>\n",
       "      <td>2000-03-31</td>\n",
       "      <td>11</td>\n",
       "      <td>7</td>\n",
       "      <td>East of England</td>\n",
       "      <td>E12000006</td>\n",
       "      <td>208</td>\n",
       "      <td>Bedfordshire</td>\n",
       "      <td>...</td>\n",
       "      <td>17.0</td>\n",
       "      <td>77.0</td>\n",
       "      <td>218</td>\n",
       "      <td>172.0</td>\n",
       "      <td>728.0</td>\n",
       "      <td>3693.0</td>\n",
       "      <td>3</td>\n",
       "      <td>Friday</td>\n",
       "      <td>31</td>\n",
       "      <td>2000-03-31 11:00:00</td>\n",
       "    </tr>\n",
       "  </tbody>\n",
       "</table>\n",
       "<p>5 rows × 39 columns</p>\n",
       "</div>"
      ],
      "text/plain": [
       "       count_point_id direction_of_travel  year count_date  hour  region_id  \\\n",
       "30144            6003                   N  2000 2000-03-31     7          7   \n",
       "30145            6003                   N  2000 2000-03-31     8          7   \n",
       "30146            6003                   N  2000 2000-03-31     9          7   \n",
       "30147            6003                   N  2000 2000-03-31    10          7   \n",
       "30148            6003                   N  2000 2000-03-31    11          7   \n",
       "\n",
       "           region_name region_ons_code  local_authority_id  \\\n",
       "30144  East of England       E12000006                 208   \n",
       "30145  East of England       E12000006                 208   \n",
       "30146  East of England       E12000006                 208   \n",
       "30147  East of England       E12000006                 208   \n",
       "30148  East of England       E12000006                 208   \n",
       "\n",
       "      local_authority_name  ... HGVs_4_or_more_rigid_axle  \\\n",
       "30144         Bedfordshire  ...                      36.0   \n",
       "30145         Bedfordshire  ...                      11.0   \n",
       "30146         Bedfordshire  ...                      17.0   \n",
       "30147         Bedfordshire  ...                      22.0   \n",
       "30148         Bedfordshire  ...                      17.0   \n",
       "\n",
       "      HGVs_3_or_4_articulated_axle HGVs_5_articulated_axle  \\\n",
       "30144                         63.0                     223   \n",
       "30145                         60.0                     180   \n",
       "30146                         85.0                     212   \n",
       "30147                         80.0                     262   \n",
       "30148                         77.0                     218   \n",
       "\n",
       "      HGVs_6_articulated_axle all_HGVs all_motor_vehicles  Month  Day_of_Week  \\\n",
       "30144                   145.0    678.0             4006.0      3       Friday   \n",
       "30145                   119.0    590.0             4142.0      3       Friday   \n",
       "30146                   117.0    681.0             3325.0      3       Friday   \n",
       "30147                   157.0    749.0             3500.0      3       Friday   \n",
       "30148                   172.0    728.0             3693.0      3       Friday   \n",
       "\n",
       "       Day           timestamp  \n",
       "30144   31 2000-03-31 07:00:00  \n",
       "30145   31 2000-03-31 08:00:00  \n",
       "30146   31 2000-03-31 09:00:00  \n",
       "30147   31 2000-03-31 10:00:00  \n",
       "30148   31 2000-03-31 11:00:00  \n",
       "\n",
       "[5 rows x 39 columns]"
      ]
     },
     "execution_count": 50,
     "metadata": {},
     "output_type": "execute_result"
    }
   ],
   "source": [
    "pd_raw_count_east.head()"
   ]
  },
  {
   "cell_type": "markdown",
   "metadata": {},
   "source": [
    "# Data Cleaning"
   ]
  },
  {
   "cell_type": "code",
   "execution_count": 51,
   "metadata": {},
   "outputs": [
    {
     "name": "stdout",
     "output_type": "stream",
     "text": [
      "False    550056\n",
      "Name: count, dtype: int64\n"
     ]
    }
   ],
   "source": [
    "duplicates = pd_raw_count_east.duplicated().value_counts()\n",
    "print(duplicates) "
   ]
  },
  {
   "cell_type": "code",
   "execution_count": 52,
   "metadata": {},
   "outputs": [
    {
     "name": "stdout",
     "output_type": "stream",
     "text": [
      "\n",
      "Missing values in pd_raw_count:\n",
      "count_point_id                  0.00\n",
      "direction_of_travel             0.00\n",
      "year                            0.00\n",
      "count_date                      0.00\n",
      "hour                            0.00\n",
      "region_id                       0.00\n",
      "region_name                     0.00\n",
      "region_ons_code                 0.00\n",
      "local_authority_id              0.00\n",
      "local_authority_name            0.00\n",
      "local_authority_code            0.00\n",
      "road_name                       0.00\n",
      "road_category                   0.00\n",
      "road_type                       0.00\n",
      "start_junction_road_name        6.64\n",
      "end_junction_road_name          6.64\n",
      "easting                         0.00\n",
      "northing                        0.00\n",
      "latitude                        0.00\n",
      "longitude                       0.00\n",
      "link_length_km                  6.63\n",
      "link_length_miles               6.63\n",
      "pedal_cycles                    0.00\n",
      "two_wheeled_motor_vehicles      0.00\n",
      "cars_and_taxis                  0.00\n",
      "buses_and_coaches               0.00\n",
      "LGVs                            0.00\n",
      "HGVs_2_rigid_axle               0.00\n",
      "HGVs_3_rigid_axle               0.00\n",
      "HGVs_4_or_more_rigid_axle       0.00\n",
      "HGVs_3_or_4_articulated_axle    0.00\n",
      "HGVs_5_articulated_axle         0.00\n",
      "HGVs_6_articulated_axle         0.00\n",
      "all_HGVs                        0.00\n",
      "all_motor_vehicles              0.00\n",
      "Month                           0.00\n",
      "Day_of_Week                     0.00\n",
      "Day                             0.00\n",
      "timestamp                       0.00\n",
      "dtype: float64\n"
     ]
    }
   ],
   "source": [
    "print(\"\\nMissing values in pd_raw_count:\")\n",
    "print((pd_raw_count_east.isna().sum() * 100 / pd_raw_count.shape[0]).round(2))"
   ]
  },
  {
   "cell_type": "code",
   "execution_count": 53,
   "metadata": {},
   "outputs": [
    {
     "data": {
      "text/plain": [
       "Index(['count_point_id', 'direction_of_travel', 'year', 'count_date', 'hour',\n",
       "       'region_id', 'region_name', 'region_ons_code', 'local_authority_id',\n",
       "       'local_authority_name', 'local_authority_code', 'road_name',\n",
       "       'road_category', 'road_type', 'start_junction_road_name',\n",
       "       'end_junction_road_name', 'easting', 'northing', 'latitude',\n",
       "       'longitude', 'link_length_km', 'link_length_miles', 'pedal_cycles',\n",
       "       'two_wheeled_motor_vehicles', 'cars_and_taxis', 'buses_and_coaches',\n",
       "       'LGVs', 'HGVs_2_rigid_axle', 'HGVs_3_rigid_axle',\n",
       "       'HGVs_4_or_more_rigid_axle', 'HGVs_3_or_4_articulated_axle',\n",
       "       'HGVs_5_articulated_axle', 'HGVs_6_articulated_axle', 'all_HGVs',\n",
       "       'all_motor_vehicles', 'Month', 'Day_of_Week', 'Day', 'timestamp'],\n",
       "      dtype='object')"
      ]
     },
     "execution_count": 53,
     "metadata": {},
     "output_type": "execute_result"
    }
   ],
   "source": [
    "pd_raw_count_east.columns"
   ]
  },
  {
   "cell_type": "code",
   "execution_count": 54,
   "metadata": {},
   "outputs": [],
   "source": [
    "columns_to_drop = [\n",
    "    'year', 'region_id', 'region_name', 'local_authority_id', 'road_category', 'region_ons_code', 'road_name', 'local_authority_code',\n",
    "    'easting', 'northing', 'start_junction_road_name', 'end_junction_road_name', \n",
    "    'link_length_km', 'link_length_miles', 'pedal_cycles', \n",
    "    'HGVs_2_rigid_axle', 'HGVs_3_rigid_axle', 'HGVs_4_or_more_rigid_axle', \n",
    "    'HGVs_3_or_4_articulated_axle', 'HGVs_5_articulated_axle', 'HGVs_6_articulated_axle', \n",
    "    'all_HGVs', 'buses_and_coaches', 'cars_and_taxis', 'two_wheeled_motor_vehicles', \n",
    "    'LGVs'\n",
    "]\n",
    "\n",
    "east_england_data = pd_raw_count_east.drop(columns=columns_to_drop)"
   ]
  },
  {
   "cell_type": "code",
   "execution_count": 55,
   "metadata": {},
   "outputs": [
    {
     "data": {
      "text/html": [
       "<div>\n",
       "<style scoped>\n",
       "    .dataframe tbody tr th:only-of-type {\n",
       "        vertical-align: middle;\n",
       "    }\n",
       "\n",
       "    .dataframe tbody tr th {\n",
       "        vertical-align: top;\n",
       "    }\n",
       "\n",
       "    .dataframe thead th {\n",
       "        text-align: right;\n",
       "    }\n",
       "</style>\n",
       "<table border=\"1\" class=\"dataframe\">\n",
       "  <thead>\n",
       "    <tr style=\"text-align: right;\">\n",
       "      <th></th>\n",
       "      <th>count_point_id</th>\n",
       "      <th>direction_of_travel</th>\n",
       "      <th>count_date</th>\n",
       "      <th>hour</th>\n",
       "      <th>local_authority_name</th>\n",
       "      <th>road_type</th>\n",
       "      <th>latitude</th>\n",
       "      <th>longitude</th>\n",
       "      <th>all_motor_vehicles</th>\n",
       "      <th>Month</th>\n",
       "      <th>Day_of_Week</th>\n",
       "      <th>Day</th>\n",
       "      <th>timestamp</th>\n",
       "    </tr>\n",
       "  </thead>\n",
       "  <tbody>\n",
       "    <tr>\n",
       "      <th>923059</th>\n",
       "      <td>36183</td>\n",
       "      <td>N</td>\n",
       "      <td>2001-06-13</td>\n",
       "      <td>14</td>\n",
       "      <td>Hertfordshire</td>\n",
       "      <td>Major</td>\n",
       "      <td>51.772047</td>\n",
       "      <td>-0.023505</td>\n",
       "      <td>1291.0</td>\n",
       "      <td>6</td>\n",
       "      <td>Wednesday</td>\n",
       "      <td>13</td>\n",
       "      <td>2001-06-13 14:00:00</td>\n",
       "    </tr>\n",
       "    <tr>\n",
       "      <th>2003367</th>\n",
       "      <td>80674</td>\n",
       "      <td>N</td>\n",
       "      <td>2007-09-17</td>\n",
       "      <td>10</td>\n",
       "      <td>Bedfordshire</td>\n",
       "      <td>Major</td>\n",
       "      <td>52.004719</td>\n",
       "      <td>-0.495076</td>\n",
       "      <td>283.0</td>\n",
       "      <td>9</td>\n",
       "      <td>Monday</td>\n",
       "      <td>17</td>\n",
       "      <td>2007-09-17 10:00:00</td>\n",
       "    </tr>\n",
       "    <tr>\n",
       "      <th>2856038</th>\n",
       "      <td>919306</td>\n",
       "      <td>E</td>\n",
       "      <td>2004-03-17</td>\n",
       "      <td>9</td>\n",
       "      <td>Norfolk</td>\n",
       "      <td>Minor</td>\n",
       "      <td>52.518621</td>\n",
       "      <td>1.556734</td>\n",
       "      <td>132.0</td>\n",
       "      <td>3</td>\n",
       "      <td>Wednesday</td>\n",
       "      <td>17</td>\n",
       "      <td>2004-03-17 09:00:00</td>\n",
       "    </tr>\n",
       "    <tr>\n",
       "      <th>4754269</th>\n",
       "      <td>990008</td>\n",
       "      <td>S</td>\n",
       "      <td>2009-03-16</td>\n",
       "      <td>8</td>\n",
       "      <td>Suffolk</td>\n",
       "      <td>Minor</td>\n",
       "      <td>52.032433</td>\n",
       "      <td>1.184272</td>\n",
       "      <td>120.0</td>\n",
       "      <td>3</td>\n",
       "      <td>Monday</td>\n",
       "      <td>16</td>\n",
       "      <td>2009-03-16 08:00:00</td>\n",
       "    </tr>\n",
       "    <tr>\n",
       "      <th>2607115</th>\n",
       "      <td>807848</td>\n",
       "      <td>W</td>\n",
       "      <td>2021-05-10</td>\n",
       "      <td>14</td>\n",
       "      <td>Essex</td>\n",
       "      <td>Minor</td>\n",
       "      <td>51.797611</td>\n",
       "      <td>1.182979</td>\n",
       "      <td>362.0</td>\n",
       "      <td>5</td>\n",
       "      <td>Monday</td>\n",
       "      <td>10</td>\n",
       "      <td>2021-05-10 14:00:00</td>\n",
       "    </tr>\n",
       "  </tbody>\n",
       "</table>\n",
       "</div>"
      ],
      "text/plain": [
       "         count_point_id direction_of_travel count_date  hour  \\\n",
       "923059            36183                   N 2001-06-13    14   \n",
       "2003367           80674                   N 2007-09-17    10   \n",
       "2856038          919306                   E 2004-03-17     9   \n",
       "4754269          990008                   S 2009-03-16     8   \n",
       "2607115          807848                   W 2021-05-10    14   \n",
       "\n",
       "        local_authority_name road_type   latitude  longitude  \\\n",
       "923059         Hertfordshire     Major  51.772047  -0.023505   \n",
       "2003367         Bedfordshire     Major  52.004719  -0.495076   \n",
       "2856038              Norfolk     Minor  52.518621   1.556734   \n",
       "4754269              Suffolk     Minor  52.032433   1.184272   \n",
       "2607115                Essex     Minor  51.797611   1.182979   \n",
       "\n",
       "         all_motor_vehicles  Month Day_of_Week  Day           timestamp  \n",
       "923059               1291.0      6   Wednesday   13 2001-06-13 14:00:00  \n",
       "2003367               283.0      9      Monday   17 2007-09-17 10:00:00  \n",
       "2856038               132.0      3   Wednesday   17 2004-03-17 09:00:00  \n",
       "4754269               120.0      3      Monday   16 2009-03-16 08:00:00  \n",
       "2607115               362.0      5      Monday   10 2021-05-10 14:00:00  "
      ]
     },
     "execution_count": 55,
     "metadata": {},
     "output_type": "execute_result"
    }
   ],
   "source": [
    "east_england_data.sample(5)"
   ]
  },
  {
   "cell_type": "code",
   "execution_count": 65,
   "metadata": {},
   "outputs": [
    {
     "data": {
      "text/html": [
       "<div>\n",
       "<style scoped>\n",
       "    .dataframe tbody tr th:only-of-type {\n",
       "        vertical-align: middle;\n",
       "    }\n",
       "\n",
       "    .dataframe tbody tr th {\n",
       "        vertical-align: top;\n",
       "    }\n",
       "\n",
       "    .dataframe thead th {\n",
       "        text-align: right;\n",
       "    }\n",
       "</style>\n",
       "<table border=\"1\" class=\"dataframe\">\n",
       "  <thead>\n",
       "    <tr style=\"text-align: right;\">\n",
       "      <th></th>\n",
       "      <th>timestamp</th>\n",
       "      <th>count_point_id</th>\n",
       "      <th>direction_of_travel</th>\n",
       "      <th>road_type</th>\n",
       "      <th>latitude</th>\n",
       "      <th>longitude</th>\n",
       "      <th>all_motor_vehicles</th>\n",
       "    </tr>\n",
       "  </thead>\n",
       "  <tbody>\n",
       "    <tr>\n",
       "      <th>1747236</th>\n",
       "      <td>2000-03-17 07:00:00</td>\n",
       "      <td>70302</td>\n",
       "      <td>N</td>\n",
       "      <td>Major</td>\n",
       "      <td>52.739871</td>\n",
       "      <td>0.396288</td>\n",
       "      <td>471.0</td>\n",
       "    </tr>\n",
       "    <tr>\n",
       "      <th>4626136</th>\n",
       "      <td>2000-03-17 07:00:00</td>\n",
       "      <td>966366</td>\n",
       "      <td>W</td>\n",
       "      <td>Minor</td>\n",
       "      <td>51.870714</td>\n",
       "      <td>0.680708</td>\n",
       "      <td>150.0</td>\n",
       "    </tr>\n",
       "    <tr>\n",
       "      <th>399564</th>\n",
       "      <td>2000-03-17 07:00:00</td>\n",
       "      <td>16662</td>\n",
       "      <td>N</td>\n",
       "      <td>Major</td>\n",
       "      <td>52.016685</td>\n",
       "      <td>1.134320</td>\n",
       "      <td>512.0</td>\n",
       "    </tr>\n",
       "    <tr>\n",
       "      <th>4626124</th>\n",
       "      <td>2000-03-17 07:00:00</td>\n",
       "      <td>966366</td>\n",
       "      <td>E</td>\n",
       "      <td>Minor</td>\n",
       "      <td>51.870714</td>\n",
       "      <td>0.680708</td>\n",
       "      <td>78.0</td>\n",
       "    </tr>\n",
       "    <tr>\n",
       "      <th>923352</th>\n",
       "      <td>2000-03-17 07:00:00</td>\n",
       "      <td>36184</td>\n",
       "      <td>S</td>\n",
       "      <td>Major</td>\n",
       "      <td>51.700444</td>\n",
       "      <td>-0.043559</td>\n",
       "      <td>2066.0</td>\n",
       "    </tr>\n",
       "  </tbody>\n",
       "</table>\n",
       "</div>"
      ],
      "text/plain": [
       "                  timestamp  count_point_id direction_of_travel road_type  \\\n",
       "1747236 2000-03-17 07:00:00           70302                   N     Major   \n",
       "4626136 2000-03-17 07:00:00          966366                   W     Minor   \n",
       "399564  2000-03-17 07:00:00           16662                   N     Major   \n",
       "4626124 2000-03-17 07:00:00          966366                   E     Minor   \n",
       "923352  2000-03-17 07:00:00           36184                   S     Major   \n",
       "\n",
       "          latitude  longitude  all_motor_vehicles  \n",
       "1747236  52.739871   0.396288               471.0  \n",
       "4626136  51.870714   0.680708               150.0  \n",
       "399564   52.016685   1.134320               512.0  \n",
       "4626124  51.870714   0.680708                78.0  \n",
       "923352   51.700444  -0.043559              2066.0  "
      ]
     },
     "execution_count": 65,
     "metadata": {},
     "output_type": "execute_result"
    }
   ],
   "source": [
    "east_england_data[['timestamp','count_point_id','direction_of_travel','road_type', 'latitude', 'longitude', 'all_motor_vehicles']].sort_values(by=['timestamp']).head()"
   ]
  },
  {
   "cell_type": "code",
   "execution_count": 56,
   "metadata": {},
   "outputs": [
    {
     "name": "stdout",
     "output_type": "stream",
     "text": [
      "\n",
      "Missing values in pd_raw_count:\n",
      "count_point_id          0.0\n",
      "direction_of_travel     0.0\n",
      "count_date              0.0\n",
      "hour                    0.0\n",
      "local_authority_name    0.0\n",
      "road_type               0.0\n",
      "latitude                0.0\n",
      "longitude               0.0\n",
      "all_motor_vehicles      0.0\n",
      "Month                   0.0\n",
      "Day_of_Week             0.0\n",
      "Day                     0.0\n",
      "timestamp               0.0\n",
      "dtype: float64\n"
     ]
    }
   ],
   "source": [
    "print(\"\\nMissing values in pd_raw_count:\")\n",
    "print((east_england_data.isna().sum() * 100 / east_england_data.shape[0]).round(2))"
   ]
  },
  {
   "cell_type": "code",
   "execution_count": 57,
   "metadata": {},
   "outputs": [
    {
     "name": "stdout",
     "output_type": "stream",
     "text": [
      "False    550056\n",
      "Name: count, dtype: int64\n"
     ]
    }
   ],
   "source": [
    "duplicates = east_england_data.duplicated().value_counts()\n",
    "print(duplicates) "
   ]
  },
  {
   "cell_type": "code",
   "execution_count": 58,
   "metadata": {},
   "outputs": [
    {
     "data": {
      "text/plain": [
       "(550056, 13)"
      ]
     },
     "execution_count": 58,
     "metadata": {},
     "output_type": "execute_result"
    }
   ],
   "source": [
    "east_england_data.shape"
   ]
  },
  {
   "cell_type": "code",
   "execution_count": 59,
   "metadata": {},
   "outputs": [
    {
     "name": "stdout",
     "output_type": "stream",
     "text": [
      "<class 'pandas.core.frame.DataFrame'>\n",
      "Index: 550056 entries, 30144 to 4960547\n",
      "Data columns (total 13 columns):\n",
      " #   Column                Non-Null Count   Dtype         \n",
      "---  ------                --------------   -----         \n",
      " 0   count_point_id        550056 non-null  int64         \n",
      " 1   direction_of_travel   550056 non-null  object        \n",
      " 2   count_date            550056 non-null  datetime64[ns]\n",
      " 3   hour                  550056 non-null  int64         \n",
      " 4   local_authority_name  550056 non-null  object        \n",
      " 5   road_type             550056 non-null  object        \n",
      " 6   latitude              550056 non-null  float64       \n",
      " 7   longitude             550056 non-null  float64       \n",
      " 8   all_motor_vehicles    550054 non-null  float64       \n",
      " 9   Month                 550056 non-null  int32         \n",
      " 10  Day_of_Week           550056 non-null  object        \n",
      " 11  Day                   550056 non-null  int32         \n",
      " 12  timestamp             550056 non-null  datetime64[ns]\n",
      "dtypes: datetime64[ns](2), float64(3), int32(2), int64(2), object(4)\n",
      "memory usage: 54.6+ MB\n"
     ]
    }
   ],
   "source": [
    "east_england_data.info()"
   ]
  },
  {
   "cell_type": "code",
   "execution_count": 60,
   "metadata": {},
   "outputs": [],
   "source": [
    "# Save the DataFrame to a CSV file, ensuring the format is kept\n",
    "east_england_data.to_csv('../data/east_england_data_revised_cleaned.csv', index=False)"
   ]
  }
 ],
 "metadata": {
  "kernelspec": {
   "display_name": "capstone",
   "language": "python",
   "name": "python3"
  },
  "language_info": {
   "codemirror_mode": {
    "name": "ipython",
    "version": 3
   },
   "file_extension": ".py",
   "mimetype": "text/x-python",
   "name": "python",
   "nbconvert_exporter": "python",
   "pygments_lexer": "ipython3",
   "version": "3.8.18"
  }
 },
 "nbformat": 4,
 "nbformat_minor": 2
}
