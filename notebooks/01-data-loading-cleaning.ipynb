{
 "cells": [
  {
   "cell_type": "markdown",
   "metadata": {},
   "source": [
    "## Data Loading"
   ]
  },
  {
   "cell_type": "code",
   "execution_count": 32,
   "metadata": {},
   "outputs": [],
   "source": [
    "# import libraries\n",
    "\n",
    "import pandas as pd\n",
    "import numpy as np\n",
    "import seaborn as sns\n",
    "import matplotlib.pyplot as plt"
   ]
  },
  {
   "cell_type": "markdown",
   "metadata": {},
   "source": [
    "## Load Data"
   ]
  },
  {
   "cell_type": "code",
   "execution_count": 33,
   "metadata": {},
   "outputs": [],
   "source": [
    "# Local authority traffic figures give the total volume (vehicle miles) of traffic across each local authority for the whole year.\n",
    "pd_local_points = pd.read_csv('../data/uk_data/local_authority_traffic.csv')"
   ]
  },
  {
   "cell_type": "code",
   "execution_count": 59,
   "metadata": {},
   "outputs": [
    {
     "data": {
      "text/plain": [
       "Index(['local_authority_id', 'local_authority_name', 'local_authority_code',\n",
       "       'year', 'link_length_km', 'link_length_miles', 'cars_and_taxis',\n",
       "       'all_motor_vehicles'],\n",
       "      dtype='object')"
      ]
     },
     "execution_count": 59,
     "metadata": {},
     "output_type": "execute_result"
    }
   ],
   "source": [
    "pd_local_points.columns"
   ]
  },
  {
   "cell_type": "code",
   "execution_count": 34,
   "metadata": {},
   "outputs": [
    {
     "name": "stderr",
     "output_type": "stream",
     "text": [
      "/var/folders/_z/nz5spzqj2rl11n5lc_k1cwwc0000gn/T/ipykernel_78483/2200544698.py:2: DtypeWarning: Columns (14,15) have mixed types. Specify dtype option on import or set low_memory=False.\n",
      "  pd_raw_count = pd.read_csv('../data/uk_data/dft_traffic_counts_raw_counts.csv')\n"
     ]
    }
   ],
   "source": [
    "# Vehicle counts recorded on major and minor roads\n",
    "pd_raw_count = pd.read_csv('../data/uk_data/dft_traffic_counts_raw_counts.csv')"
   ]
  },
  {
   "cell_type": "code",
   "execution_count": 58,
   "metadata": {},
   "outputs": [
    {
     "data": {
      "text/plain": [
       "Index(['count_point_id', 'direction_of_travel', 'year', 'count_date', 'hour',\n",
       "       'region_id', 'region_name', 'region_ons_code', 'local_authority_id',\n",
       "       'local_authority_name', 'local_authority_code', 'road_name',\n",
       "       'road_category', 'road_type', 'start_junction_road_name',\n",
       "       'end_junction_road_name', 'easting', 'northing', 'latitude',\n",
       "       'longitude', 'link_length_km', 'link_length_miles', 'pedal_cycles',\n",
       "       'two_wheeled_motor_vehicles', 'cars_and_taxis', 'buses_and_coaches',\n",
       "       'LGVs', 'HGVs_2_rigid_axle', 'HGVs_3_rigid_axle',\n",
       "       'HGVs_4_or_more_rigid_axle', 'HGVs_3_or_4_articulated_axle',\n",
       "       'HGVs_5_articulated_axle', 'HGVs_6_articulated_axle', 'all_HGVs',\n",
       "       'all_motor_vehicles', 'Month', 'Day_of_Week', 'Day'],\n",
       "      dtype='object')"
      ]
     },
     "execution_count": 58,
     "metadata": {},
     "output_type": "execute_result"
    }
   ],
   "source": [
    "pd_raw_count.columns"
   ]
  },
  {
   "cell_type": "markdown",
   "metadata": {},
   "source": [
    "## Initial Data Inspection"
   ]
  },
  {
   "cell_type": "markdown",
   "metadata": {},
   "source": [
    "#### Basic Inspection of local autorities data"
   ]
  },
  {
   "cell_type": "code",
   "execution_count": 35,
   "metadata": {},
   "outputs": [
    {
     "data": {
      "text/html": [
       "<div>\n",
       "<style scoped>\n",
       "    .dataframe tbody tr th:only-of-type {\n",
       "        vertical-align: middle;\n",
       "    }\n",
       "\n",
       "    .dataframe tbody tr th {\n",
       "        vertical-align: top;\n",
       "    }\n",
       "\n",
       "    .dataframe thead th {\n",
       "        text-align: right;\n",
       "    }\n",
       "</style>\n",
       "<table border=\"1\" class=\"dataframe\">\n",
       "  <thead>\n",
       "    <tr style=\"text-align: right;\">\n",
       "      <th></th>\n",
       "      <th>local_authority_id</th>\n",
       "      <th>local_authority_name</th>\n",
       "      <th>local_authority_code</th>\n",
       "      <th>year</th>\n",
       "      <th>link_length_km</th>\n",
       "      <th>link_length_miles</th>\n",
       "      <th>cars_and_taxis</th>\n",
       "      <th>all_motor_vehicles</th>\n",
       "    </tr>\n",
       "  </thead>\n",
       "  <tbody>\n",
       "    <tr>\n",
       "      <th>0</th>\n",
       "      <td>1</td>\n",
       "      <td>Isles of Scilly</td>\n",
       "      <td>E06000053</td>\n",
       "      <td>1993</td>\n",
       "      <td>36.01</td>\n",
       "      <td>22.38</td>\n",
       "      <td>9.000000e+05</td>\n",
       "      <td>1.400000e+06</td>\n",
       "    </tr>\n",
       "    <tr>\n",
       "      <th>1</th>\n",
       "      <td>2</td>\n",
       "      <td>Nottinghamshire</td>\n",
       "      <td>E10000024</td>\n",
       "      <td>1993</td>\n",
       "      <td>4650.69</td>\n",
       "      <td>2889.80</td>\n",
       "      <td>2.702600e+09</td>\n",
       "      <td>3.368900e+09</td>\n",
       "    </tr>\n",
       "    <tr>\n",
       "      <th>2</th>\n",
       "      <td>3</td>\n",
       "      <td>Glasgow City</td>\n",
       "      <td>S12000049</td>\n",
       "      <td>1993</td>\n",
       "      <td>1768.54</td>\n",
       "      <td>1098.92</td>\n",
       "      <td>1.381200e+09</td>\n",
       "      <td>1.662600e+09</td>\n",
       "    </tr>\n",
       "    <tr>\n",
       "      <th>3</th>\n",
       "      <td>4</td>\n",
       "      <td>North Lanarkshire</td>\n",
       "      <td>S12000050</td>\n",
       "      <td>1993</td>\n",
       "      <td>1606.71</td>\n",
       "      <td>998.36</td>\n",
       "      <td>1.253500e+09</td>\n",
       "      <td>1.547600e+09</td>\n",
       "    </tr>\n",
       "    <tr>\n",
       "      <th>4</th>\n",
       "      <td>5</td>\n",
       "      <td>Somerset</td>\n",
       "      <td>E06000066</td>\n",
       "      <td>1993</td>\n",
       "      <td>6630.33</td>\n",
       "      <td>4119.90</td>\n",
       "      <td>2.410300e+09</td>\n",
       "      <td>2.958200e+09</td>\n",
       "    </tr>\n",
       "  </tbody>\n",
       "</table>\n",
       "</div>"
      ],
      "text/plain": [
       "   local_authority_id local_authority_name local_authority_code  year  \\\n",
       "0                   1      Isles of Scilly            E06000053  1993   \n",
       "1                   2      Nottinghamshire            E10000024  1993   \n",
       "2                   3         Glasgow City            S12000049  1993   \n",
       "3                   4    North Lanarkshire            S12000050  1993   \n",
       "4                   5             Somerset            E06000066  1993   \n",
       "\n",
       "   link_length_km  link_length_miles  cars_and_taxis  all_motor_vehicles  \n",
       "0           36.01              22.38    9.000000e+05        1.400000e+06  \n",
       "1         4650.69            2889.80    2.702600e+09        3.368900e+09  \n",
       "2         1768.54            1098.92    1.381200e+09        1.662600e+09  \n",
       "3         1606.71             998.36    1.253500e+09        1.547600e+09  \n",
       "4         6630.33            4119.90    2.410300e+09        2.958200e+09  "
      ]
     },
     "execution_count": 35,
     "metadata": {},
     "output_type": "execute_result"
    }
   ],
   "source": [
    "pd_local_points.head()"
   ]
  },
  {
   "cell_type": "code",
   "execution_count": 36,
   "metadata": {},
   "outputs": [
    {
     "name": "stdout",
     "output_type": "stream",
     "text": [
      "The shape is:\n",
      "(6353, 8)\n"
     ]
    }
   ],
   "source": [
    "print(f\"The shape is:\\n{pd_local_points.shape}\")"
   ]
  },
  {
   "cell_type": "markdown",
   "metadata": {},
   "source": [
    "#### Basic Inspection of raw_count dataset"
   ]
  },
  {
   "cell_type": "code",
   "execution_count": 37,
   "metadata": {},
   "outputs": [
    {
     "data": {
      "text/html": [
       "<div>\n",
       "<style scoped>\n",
       "    .dataframe tbody tr th:only-of-type {\n",
       "        vertical-align: middle;\n",
       "    }\n",
       "\n",
       "    .dataframe tbody tr th {\n",
       "        vertical-align: top;\n",
       "    }\n",
       "\n",
       "    .dataframe thead th {\n",
       "        text-align: right;\n",
       "    }\n",
       "</style>\n",
       "<table border=\"1\" class=\"dataframe\">\n",
       "  <thead>\n",
       "    <tr style=\"text-align: right;\">\n",
       "      <th></th>\n",
       "      <th>count_point_id</th>\n",
       "      <th>direction_of_travel</th>\n",
       "      <th>year</th>\n",
       "      <th>count_date</th>\n",
       "      <th>hour</th>\n",
       "      <th>region_id</th>\n",
       "      <th>region_name</th>\n",
       "      <th>region_ons_code</th>\n",
       "      <th>local_authority_id</th>\n",
       "      <th>local_authority_name</th>\n",
       "      <th>...</th>\n",
       "      <th>buses_and_coaches</th>\n",
       "      <th>LGVs</th>\n",
       "      <th>HGVs_2_rigid_axle</th>\n",
       "      <th>HGVs_3_rigid_axle</th>\n",
       "      <th>HGVs_4_or_more_rigid_axle</th>\n",
       "      <th>HGVs_3_or_4_articulated_axle</th>\n",
       "      <th>HGVs_5_articulated_axle</th>\n",
       "      <th>HGVs_6_articulated_axle</th>\n",
       "      <th>all_HGVs</th>\n",
       "      <th>all_motor_vehicles</th>\n",
       "    </tr>\n",
       "  </thead>\n",
       "  <tbody>\n",
       "    <tr>\n",
       "      <th>0</th>\n",
       "      <td>51</td>\n",
       "      <td>N</td>\n",
       "      <td>2004</td>\n",
       "      <td>2004-05-21</td>\n",
       "      <td>7</td>\n",
       "      <td>1</td>\n",
       "      <td>South West</td>\n",
       "      <td>E12000009</td>\n",
       "      <td>1</td>\n",
       "      <td>Isles of Scilly</td>\n",
       "      <td>...</td>\n",
       "      <td>1.0</td>\n",
       "      <td>13</td>\n",
       "      <td>0.0</td>\n",
       "      <td>0.0</td>\n",
       "      <td>0.0</td>\n",
       "      <td>0.0</td>\n",
       "      <td>0</td>\n",
       "      <td>0.0</td>\n",
       "      <td>0.0</td>\n",
       "      <td>19.0</td>\n",
       "    </tr>\n",
       "    <tr>\n",
       "      <th>1</th>\n",
       "      <td>51</td>\n",
       "      <td>N</td>\n",
       "      <td>2004</td>\n",
       "      <td>2004-05-21</td>\n",
       "      <td>8</td>\n",
       "      <td>1</td>\n",
       "      <td>South West</td>\n",
       "      <td>E12000009</td>\n",
       "      <td>1</td>\n",
       "      <td>Isles of Scilly</td>\n",
       "      <td>...</td>\n",
       "      <td>2.0</td>\n",
       "      <td>13</td>\n",
       "      <td>7.0</td>\n",
       "      <td>7.0</td>\n",
       "      <td>0.0</td>\n",
       "      <td>0.0</td>\n",
       "      <td>0</td>\n",
       "      <td>0.0</td>\n",
       "      <td>14.0</td>\n",
       "      <td>44.0</td>\n",
       "    </tr>\n",
       "    <tr>\n",
       "      <th>2</th>\n",
       "      <td>51</td>\n",
       "      <td>N</td>\n",
       "      <td>2004</td>\n",
       "      <td>2004-05-21</td>\n",
       "      <td>9</td>\n",
       "      <td>1</td>\n",
       "      <td>South West</td>\n",
       "      <td>E12000009</td>\n",
       "      <td>1</td>\n",
       "      <td>Isles of Scilly</td>\n",
       "      <td>...</td>\n",
       "      <td>5.0</td>\n",
       "      <td>17</td>\n",
       "      <td>5.0</td>\n",
       "      <td>0.0</td>\n",
       "      <td>0.0</td>\n",
       "      <td>0.0</td>\n",
       "      <td>0</td>\n",
       "      <td>0.0</td>\n",
       "      <td>5.0</td>\n",
       "      <td>45.0</td>\n",
       "    </tr>\n",
       "    <tr>\n",
       "      <th>3</th>\n",
       "      <td>51</td>\n",
       "      <td>N</td>\n",
       "      <td>2004</td>\n",
       "      <td>2004-05-21</td>\n",
       "      <td>10</td>\n",
       "      <td>1</td>\n",
       "      <td>South West</td>\n",
       "      <td>E12000009</td>\n",
       "      <td>1</td>\n",
       "      <td>Isles of Scilly</td>\n",
       "      <td>...</td>\n",
       "      <td>4.0</td>\n",
       "      <td>4</td>\n",
       "      <td>4.0</td>\n",
       "      <td>0.0</td>\n",
       "      <td>0.0</td>\n",
       "      <td>0.0</td>\n",
       "      <td>0</td>\n",
       "      <td>0.0</td>\n",
       "      <td>4.0</td>\n",
       "      <td>41.0</td>\n",
       "    </tr>\n",
       "    <tr>\n",
       "      <th>4</th>\n",
       "      <td>51</td>\n",
       "      <td>N</td>\n",
       "      <td>2004</td>\n",
       "      <td>2004-05-21</td>\n",
       "      <td>11</td>\n",
       "      <td>1</td>\n",
       "      <td>South West</td>\n",
       "      <td>E12000009</td>\n",
       "      <td>1</td>\n",
       "      <td>Isles of Scilly</td>\n",
       "      <td>...</td>\n",
       "      <td>3.0</td>\n",
       "      <td>14</td>\n",
       "      <td>6.0</td>\n",
       "      <td>0.0</td>\n",
       "      <td>0.0</td>\n",
       "      <td>0.0</td>\n",
       "      <td>0</td>\n",
       "      <td>0.0</td>\n",
       "      <td>6.0</td>\n",
       "      <td>41.0</td>\n",
       "    </tr>\n",
       "  </tbody>\n",
       "</table>\n",
       "<p>5 rows × 35 columns</p>\n",
       "</div>"
      ],
      "text/plain": [
       "   count_point_id direction_of_travel  year  count_date  hour  region_id  \\\n",
       "0              51                   N  2004  2004-05-21     7          1   \n",
       "1              51                   N  2004  2004-05-21     8          1   \n",
       "2              51                   N  2004  2004-05-21     9          1   \n",
       "3              51                   N  2004  2004-05-21    10          1   \n",
       "4              51                   N  2004  2004-05-21    11          1   \n",
       "\n",
       "  region_name region_ons_code  local_authority_id local_authority_name  ...  \\\n",
       "0  South West       E12000009                   1      Isles of Scilly  ...   \n",
       "1  South West       E12000009                   1      Isles of Scilly  ...   \n",
       "2  South West       E12000009                   1      Isles of Scilly  ...   \n",
       "3  South West       E12000009                   1      Isles of Scilly  ...   \n",
       "4  South West       E12000009                   1      Isles of Scilly  ...   \n",
       "\n",
       "  buses_and_coaches LGVs HGVs_2_rigid_axle HGVs_3_rigid_axle  \\\n",
       "0               1.0   13               0.0               0.0   \n",
       "1               2.0   13               7.0               7.0   \n",
       "2               5.0   17               5.0               0.0   \n",
       "3               4.0    4               4.0               0.0   \n",
       "4               3.0   14               6.0               0.0   \n",
       "\n",
       "  HGVs_4_or_more_rigid_axle HGVs_3_or_4_articulated_axle  \\\n",
       "0                       0.0                          0.0   \n",
       "1                       0.0                          0.0   \n",
       "2                       0.0                          0.0   \n",
       "3                       0.0                          0.0   \n",
       "4                       0.0                          0.0   \n",
       "\n",
       "   HGVs_5_articulated_axle  HGVs_6_articulated_axle  all_HGVs  \\\n",
       "0                        0                      0.0       0.0   \n",
       "1                        0                      0.0      14.0   \n",
       "2                        0                      0.0       5.0   \n",
       "3                        0                      0.0       4.0   \n",
       "4                        0                      0.0       6.0   \n",
       "\n",
       "   all_motor_vehicles  \n",
       "0                19.0  \n",
       "1                44.0  \n",
       "2                45.0  \n",
       "3                41.0  \n",
       "4                41.0  \n",
       "\n",
       "[5 rows x 35 columns]"
      ]
     },
     "execution_count": 37,
     "metadata": {},
     "output_type": "execute_result"
    }
   ],
   "source": [
    "pd_raw_count.head()"
   ]
  },
  {
   "cell_type": "code",
   "execution_count": 38,
   "metadata": {},
   "outputs": [
    {
     "name": "stdout",
     "output_type": "stream",
     "text": [
      "The shape is :\n",
      "(4960860, 35)\n"
     ]
    }
   ],
   "source": [
    "print(f\"The shape is :\\n{pd_raw_count.shape}\")"
   ]
  },
  {
   "cell_type": "code",
   "execution_count": 39,
   "metadata": {},
   "outputs": [
    {
     "name": "stdout",
     "output_type": "stream",
     "text": [
      "<class 'pandas.core.frame.DataFrame'>\n",
      "RangeIndex: 6353 entries, 0 to 6352\n",
      "Data columns (total 8 columns):\n",
      " #   Column                Non-Null Count  Dtype  \n",
      "---  ------                --------------  -----  \n",
      " 0   local_authority_id    6353 non-null   int64  \n",
      " 1   local_authority_name  6353 non-null   object \n",
      " 2   local_authority_code  6353 non-null   object \n",
      " 3   year                  6353 non-null   int64  \n",
      " 4   link_length_km        6353 non-null   float64\n",
      " 5   link_length_miles     6353 non-null   float64\n",
      " 6   cars_and_taxis        6353 non-null   float64\n",
      " 7   all_motor_vehicles    6353 non-null   float64\n",
      "dtypes: float64(4), int64(2), object(2)\n",
      "memory usage: 397.2+ KB\n",
      "None\n"
     ]
    }
   ],
   "source": [
    "print(pd_local_points.info())"
   ]
  },
  {
   "cell_type": "code",
   "execution_count": 40,
   "metadata": {},
   "outputs": [
    {
     "name": "stdout",
     "output_type": "stream",
     "text": [
      "<class 'pandas.core.frame.DataFrame'>\n",
      "RangeIndex: 4960860 entries, 0 to 4960859\n",
      "Data columns (total 35 columns):\n",
      " #   Column                        Dtype  \n",
      "---  ------                        -----  \n",
      " 0   count_point_id                int64  \n",
      " 1   direction_of_travel           object \n",
      " 2   year                          int64  \n",
      " 3   count_date                    object \n",
      " 4   hour                          int64  \n",
      " 5   region_id                     int64  \n",
      " 6   region_name                   object \n",
      " 7   region_ons_code               object \n",
      " 8   local_authority_id            int64  \n",
      " 9   local_authority_name          object \n",
      " 10  local_authority_code          object \n",
      " 11  road_name                     object \n",
      " 12  road_category                 object \n",
      " 13  road_type                     object \n",
      " 14  start_junction_road_name      object \n",
      " 15  end_junction_road_name        object \n",
      " 16  easting                       int64  \n",
      " 17  northing                      int64  \n",
      " 18  latitude                      float64\n",
      " 19  longitude                     float64\n",
      " 20  link_length_km                float64\n",
      " 21  link_length_miles             float64\n",
      " 22  pedal_cycles                  int64  \n",
      " 23  two_wheeled_motor_vehicles    int64  \n",
      " 24  cars_and_taxis                float64\n",
      " 25  buses_and_coaches             float64\n",
      " 26  LGVs                          int64  \n",
      " 27  HGVs_2_rigid_axle             float64\n",
      " 28  HGVs_3_rigid_axle             float64\n",
      " 29  HGVs_4_or_more_rigid_axle     float64\n",
      " 30  HGVs_3_or_4_articulated_axle  float64\n",
      " 31  HGVs_5_articulated_axle       int64  \n",
      " 32  HGVs_6_articulated_axle       float64\n",
      " 33  all_HGVs                      float64\n",
      " 34  all_motor_vehicles            float64\n",
      "dtypes: float64(13), int64(11), object(11)\n",
      "memory usage: 1.3+ GB\n",
      "None\n"
     ]
    }
   ],
   "source": [
    "print(pd_raw_count.info())"
   ]
  },
  {
   "cell_type": "markdown",
   "metadata": {},
   "source": [
    "## Data Quality checks"
   ]
  },
  {
   "cell_type": "code",
   "execution_count": 41,
   "metadata": {},
   "outputs": [
    {
     "name": "stdout",
     "output_type": "stream",
     "text": [
      "\n",
      "Unique local_authority_id in pd_local_points: 214\n",
      "Total rows in pd_count_pd_local_pointspoints: 6353\n"
     ]
    }
   ],
   "source": [
    "print(\"\\nUnique local_authority_id in pd_local_points:\", pd_local_points['local_authority_id'].nunique())\n",
    "print(\"Total rows in pd_count_pd_local_pointspoints:\", len(pd_local_points))"
   ]
  },
  {
   "cell_type": "markdown",
   "metadata": {},
   "source": [
    "### Data Formatting"
   ]
  },
  {
   "cell_type": "code",
   "execution_count": 42,
   "metadata": {},
   "outputs": [
    {
     "name": "stdout",
     "output_type": "stream",
     "text": [
      "\n",
      "Data types in pd_local_points:\n",
      "local_authority_id        int64\n",
      "local_authority_name     object\n",
      "local_authority_code     object\n",
      "year                      int64\n",
      "link_length_km          float64\n",
      "link_length_miles       float64\n",
      "cars_and_taxis          float64\n",
      "all_motor_vehicles      float64\n",
      "dtype: object\n"
     ]
    }
   ],
   "source": [
    "# Check data types\n",
    "print(\"\\nData types in pd_local_points:\")\n",
    "print(pd_local_points.dtypes)"
   ]
  },
  {
   "cell_type": "code",
   "execution_count": 43,
   "metadata": {},
   "outputs": [],
   "source": [
    "# conver `count_date` to datetime type\n",
    "pd_raw_count['count_date'] =  pd.to_datetime(pd_raw_count['count_date'])"
   ]
  },
  {
   "cell_type": "code",
   "execution_count": 44,
   "metadata": {},
   "outputs": [
    {
     "name": "stdout",
     "output_type": "stream",
     "text": [
      "\n",
      "Data types in pd_raw_count:\n",
      "count_point_id                           int64\n",
      "direction_of_travel                     object\n",
      "year                                     int64\n",
      "count_date                      datetime64[ns]\n",
      "hour                                     int64\n",
      "region_id                                int64\n",
      "region_name                             object\n",
      "region_ons_code                         object\n",
      "local_authority_id                       int64\n",
      "local_authority_name                    object\n",
      "local_authority_code                    object\n",
      "road_name                               object\n",
      "road_category                           object\n",
      "road_type                               object\n",
      "start_junction_road_name                object\n",
      "end_junction_road_name                  object\n",
      "easting                                  int64\n",
      "northing                                 int64\n",
      "latitude                               float64\n",
      "longitude                              float64\n",
      "link_length_km                         float64\n",
      "link_length_miles                      float64\n",
      "pedal_cycles                             int64\n",
      "two_wheeled_motor_vehicles               int64\n",
      "cars_and_taxis                         float64\n",
      "buses_and_coaches                      float64\n",
      "LGVs                                     int64\n",
      "HGVs_2_rigid_axle                      float64\n",
      "HGVs_3_rigid_axle                      float64\n",
      "HGVs_4_or_more_rigid_axle              float64\n",
      "HGVs_3_or_4_articulated_axle           float64\n",
      "HGVs_5_articulated_axle                  int64\n",
      "HGVs_6_articulated_axle                float64\n",
      "all_HGVs                               float64\n",
      "all_motor_vehicles                     float64\n",
      "dtype: object\n"
     ]
    }
   ],
   "source": [
    "# Check data types\n",
    "print(\"\\nData types in pd_raw_count:\")\n",
    "print(pd_raw_count.dtypes)"
   ]
  },
  {
   "cell_type": "code",
   "execution_count": 45,
   "metadata": {},
   "outputs": [],
   "source": [
    "# Extract Date Components \n",
    "pd_raw_count['Month'] = pd_raw_count['count_date'].dt.month\n",
    "pd_raw_count['Day_of_Week'] = pd_raw_count['count_date'].dt.day_name()\n",
    "pd_raw_count['Day'] = pd_raw_count['count_date'].dt.day"
   ]
  },
  {
   "cell_type": "markdown",
   "metadata": {},
   "source": [
    "### Check Data Duplicates"
   ]
  },
  {
   "cell_type": "markdown",
   "metadata": {},
   "source": [
    "**Notes**:\n",
    "\n",
    "- No duplicates found in either dataset as data already aggrated"
   ]
  },
  {
   "cell_type": "code",
   "execution_count": 46,
   "metadata": {},
   "outputs": [
    {
     "data": {
      "text/plain": [
       "False    6353\n",
       "Name: count, dtype: int64"
      ]
     },
     "execution_count": 46,
     "metadata": {},
     "output_type": "execute_result"
    }
   ],
   "source": [
    "pd_local_points.duplicated().value_counts()"
   ]
  },
  {
   "cell_type": "code",
   "execution_count": 47,
   "metadata": {},
   "outputs": [
    {
     "data": {
      "text/plain": [
       "False    4960860\n",
       "Name: count, dtype: int64"
      ]
     },
     "execution_count": 47,
     "metadata": {},
     "output_type": "execute_result"
    }
   ],
   "source": [
    "pd_raw_count.duplicated().value_counts()"
   ]
  },
  {
   "cell_type": "markdown",
   "metadata": {},
   "source": [
    "### Check for Nulls"
   ]
  },
  {
   "cell_type": "code",
   "execution_count": 48,
   "metadata": {},
   "outputs": [
    {
     "name": "stdout",
     "output_type": "stream",
     "text": [
      "Missing values in pd_local_points:\n",
      "local_authority_id      0.0\n",
      "local_authority_name    0.0\n",
      "local_authority_code    0.0\n",
      "year                    0.0\n",
      "link_length_km          0.0\n",
      "link_length_miles       0.0\n",
      "cars_and_taxis          0.0\n",
      "all_motor_vehicles      0.0\n",
      "dtype: float64\n"
     ]
    }
   ],
   "source": [
    "# Checking for missing values \n",
    "print(\"Missing values in pd_local_points:\")\n",
    "print((pd_local_points.isna().sum() * 100 / pd_local_points.shape[0]).round(2))"
   ]
  },
  {
   "cell_type": "code",
   "execution_count": 49,
   "metadata": {},
   "outputs": [
    {
     "name": "stdout",
     "output_type": "stream",
     "text": [
      "\n",
      "Missing values in pd_raw_count:\n",
      "count_point_id                   0.00\n",
      "direction_of_travel              0.00\n",
      "year                             0.00\n",
      "count_date                       0.00\n",
      "hour                             0.00\n",
      "region_id                        0.00\n",
      "region_name                      0.00\n",
      "region_ons_code                  0.00\n",
      "local_authority_id               0.00\n",
      "local_authority_name             0.00\n",
      "local_authority_code             0.00\n",
      "road_name                        0.00\n",
      "road_category                    0.00\n",
      "road_type                        0.00\n",
      "start_junction_road_name        54.77\n",
      "end_junction_road_name          54.77\n",
      "easting                          0.00\n",
      "northing                         0.00\n",
      "latitude                         0.00\n",
      "longitude                        0.00\n",
      "link_length_km                  54.72\n",
      "link_length_miles               54.72\n",
      "pedal_cycles                     0.00\n",
      "two_wheeled_motor_vehicles       0.00\n",
      "cars_and_taxis                   0.00\n",
      "buses_and_coaches                0.00\n",
      "LGVs                             0.00\n",
      "HGVs_2_rigid_axle                0.00\n",
      "HGVs_3_rigid_axle                0.00\n",
      "HGVs_4_or_more_rigid_axle        0.00\n",
      "HGVs_3_or_4_articulated_axle     0.00\n",
      "HGVs_5_articulated_axle          0.00\n",
      "HGVs_6_articulated_axle          0.00\n",
      "all_HGVs                         0.00\n",
      "all_motor_vehicles               0.00\n",
      "Month                            0.00\n",
      "Day_of_Week                      0.00\n",
      "Day                              0.00\n",
      "dtype: float64\n"
     ]
    }
   ],
   "source": [
    "print(\"\\nMissing values in pd_raw_count:\")\n",
    "print((pd_raw_count.isna().sum() * 100 / pd_raw_count.shape[0]).round(2))"
   ]
  },
  {
   "cell_type": "markdown",
   "metadata": {},
   "source": [
    "**Missing Values Options**\n",
    "\n",
    "- Impute\n",
    "- Drop any rows that are affected\n",
    "- Drop columns that are affected"
   ]
  },
  {
   "cell_type": "markdown",
   "metadata": {},
   "source": [
    "#### Dealing Nulls"
   ]
  },
  {
   "cell_type": "markdown",
   "metadata": {},
   "source": [
    "**Notes** \n",
    "\n",
    "Looking at the missing values in start_junction_road_name 59.87 and end_junction_road_name 59.87, we can conclude that base on our project objective and the dataset we have we can either:\n",
    "\n",
    "- Drop the rows with the missing values \n",
    "- Remove Rows with Missing Values: If start_junction_road_name and end_junction_road_name are essential, we can consider removing rows where both are missing, especially if it doesn’t significantly reduce the dataset.\n",
    "- Fill the missing values with the `road_name`, `latitude` or `longitude` values of the nearest road/count_point"
   ]
  },
  {
   "cell_type": "code",
   "execution_count": 50,
   "metadata": {},
   "outputs": [],
   "source": [
    "# Remove rows where both 'start_junction_road_name' and 'end_junction_road_name' are missing\n",
    "pd_raw_count_nulls = pd_raw_count.drop(columns=['start_junction_road_name', 'end_junction_road_name', 'link_length_km', 'link_length_miles'])\n"
   ]
  },
  {
   "cell_type": "code",
   "execution_count": 51,
   "metadata": {},
   "outputs": [
    {
     "data": {
      "text/plain": [
       "[count_point_id                  False\n",
       " direction_of_travel             False\n",
       " year                            False\n",
       " count_date                      False\n",
       " hour                            False\n",
       " region_id                       False\n",
       " region_name                     False\n",
       " region_ons_code                 False\n",
       " local_authority_id              False\n",
       " local_authority_name            False\n",
       " local_authority_code            False\n",
       " road_name                       False\n",
       " road_category                   False\n",
       " road_type                       False\n",
       " easting                         False\n",
       " northing                        False\n",
       " latitude                        False\n",
       " longitude                       False\n",
       " pedal_cycles                    False\n",
       " two_wheeled_motor_vehicles      False\n",
       " cars_and_taxis                   True\n",
       " buses_and_coaches                True\n",
       " LGVs                            False\n",
       " HGVs_2_rigid_axle                True\n",
       " HGVs_3_rigid_axle                True\n",
       " HGVs_4_or_more_rigid_axle        True\n",
       " HGVs_3_or_4_articulated_axle     True\n",
       " HGVs_5_articulated_axle         False\n",
       " HGVs_6_articulated_axle          True\n",
       " all_HGVs                         True\n",
       " all_motor_vehicles               True\n",
       " Month                           False\n",
       " Day_of_Week                     False\n",
       " Day                             False\n",
       " dtype: bool]"
      ]
     },
     "execution_count": 51,
     "metadata": {},
     "output_type": "execute_result"
    }
   ],
   "source": [
    "[pd_raw_count_nulls.isna().sum() > 0]"
   ]
  },
  {
   "cell_type": "code",
   "execution_count": 52,
   "metadata": {},
   "outputs": [
    {
     "name": "stdout",
     "output_type": "stream",
     "text": [
      "count_point_id                  0.0\n",
      "direction_of_travel             0.0\n",
      "year                            0.0\n",
      "count_date                      0.0\n",
      "hour                            0.0\n",
      "region_id                       0.0\n",
      "region_name                     0.0\n",
      "region_ons_code                 0.0\n",
      "local_authority_id              0.0\n",
      "local_authority_name            0.0\n",
      "local_authority_code            0.0\n",
      "road_name                       0.0\n",
      "road_category                   0.0\n",
      "road_type                       0.0\n",
      "easting                         0.0\n",
      "northing                        0.0\n",
      "latitude                        0.0\n",
      "longitude                       0.0\n",
      "pedal_cycles                    0.0\n",
      "two_wheeled_motor_vehicles      0.0\n",
      "cars_and_taxis                  0.0\n",
      "buses_and_coaches               0.0\n",
      "LGVs                            0.0\n",
      "HGVs_2_rigid_axle               0.0\n",
      "HGVs_3_rigid_axle               0.0\n",
      "HGVs_4_or_more_rigid_axle       0.0\n",
      "HGVs_3_or_4_articulated_axle    0.0\n",
      "HGVs_5_articulated_axle         0.0\n",
      "HGVs_6_articulated_axle         0.0\n",
      "all_HGVs                        0.0\n",
      "all_motor_vehicles              0.0\n",
      "Month                           0.0\n",
      "Day_of_Week                     0.0\n",
      "Day                             0.0\n",
      "dtype: float64\n"
     ]
    }
   ],
   "source": [
    "print((pd_raw_count_nulls.isna().sum() * 100 / pd_raw_count.shape[0]).round(2))"
   ]
  },
  {
   "cell_type": "markdown",
   "metadata": {},
   "source": [
    "#### Dealing With Nulls "
   ]
  },
  {
   "cell_type": "code",
   "execution_count": 53,
   "metadata": {},
   "outputs": [
    {
     "data": {
      "text/html": [
       "<div>\n",
       "<style scoped>\n",
       "    .dataframe tbody tr th:only-of-type {\n",
       "        vertical-align: middle;\n",
       "    }\n",
       "\n",
       "    .dataframe tbody tr th {\n",
       "        vertical-align: top;\n",
       "    }\n",
       "\n",
       "    .dataframe thead th {\n",
       "        text-align: right;\n",
       "    }\n",
       "</style>\n",
       "<table border=\"1\" class=\"dataframe\">\n",
       "  <thead>\n",
       "    <tr style=\"text-align: right;\">\n",
       "      <th></th>\n",
       "      <th>count_point_id</th>\n",
       "      <th>direction_of_travel</th>\n",
       "      <th>year</th>\n",
       "      <th>count_date</th>\n",
       "      <th>hour</th>\n",
       "      <th>region_id</th>\n",
       "      <th>region_name</th>\n",
       "      <th>region_ons_code</th>\n",
       "      <th>local_authority_id</th>\n",
       "      <th>local_authority_name</th>\n",
       "      <th>...</th>\n",
       "      <th>HGVs_3_rigid_axle</th>\n",
       "      <th>HGVs_4_or_more_rigid_axle</th>\n",
       "      <th>HGVs_3_or_4_articulated_axle</th>\n",
       "      <th>HGVs_5_articulated_axle</th>\n",
       "      <th>HGVs_6_articulated_axle</th>\n",
       "      <th>all_HGVs</th>\n",
       "      <th>all_motor_vehicles</th>\n",
       "      <th>Month</th>\n",
       "      <th>Day_of_Week</th>\n",
       "      <th>Day</th>\n",
       "    </tr>\n",
       "  </thead>\n",
       "  <tbody>\n",
       "    <tr>\n",
       "      <th>0</th>\n",
       "      <td>51</td>\n",
       "      <td>N</td>\n",
       "      <td>2004</td>\n",
       "      <td>2004-05-21</td>\n",
       "      <td>7</td>\n",
       "      <td>1</td>\n",
       "      <td>South West</td>\n",
       "      <td>E12000009</td>\n",
       "      <td>1</td>\n",
       "      <td>Isles of Scilly</td>\n",
       "      <td>...</td>\n",
       "      <td>0.0</td>\n",
       "      <td>0.0</td>\n",
       "      <td>0.0</td>\n",
       "      <td>0</td>\n",
       "      <td>0.0</td>\n",
       "      <td>0.0</td>\n",
       "      <td>19.0</td>\n",
       "      <td>5</td>\n",
       "      <td>Friday</td>\n",
       "      <td>21</td>\n",
       "    </tr>\n",
       "    <tr>\n",
       "      <th>1</th>\n",
       "      <td>51</td>\n",
       "      <td>N</td>\n",
       "      <td>2004</td>\n",
       "      <td>2004-05-21</td>\n",
       "      <td>8</td>\n",
       "      <td>1</td>\n",
       "      <td>South West</td>\n",
       "      <td>E12000009</td>\n",
       "      <td>1</td>\n",
       "      <td>Isles of Scilly</td>\n",
       "      <td>...</td>\n",
       "      <td>7.0</td>\n",
       "      <td>0.0</td>\n",
       "      <td>0.0</td>\n",
       "      <td>0</td>\n",
       "      <td>0.0</td>\n",
       "      <td>14.0</td>\n",
       "      <td>44.0</td>\n",
       "      <td>5</td>\n",
       "      <td>Friday</td>\n",
       "      <td>21</td>\n",
       "    </tr>\n",
       "    <tr>\n",
       "      <th>2</th>\n",
       "      <td>51</td>\n",
       "      <td>N</td>\n",
       "      <td>2004</td>\n",
       "      <td>2004-05-21</td>\n",
       "      <td>9</td>\n",
       "      <td>1</td>\n",
       "      <td>South West</td>\n",
       "      <td>E12000009</td>\n",
       "      <td>1</td>\n",
       "      <td>Isles of Scilly</td>\n",
       "      <td>...</td>\n",
       "      <td>0.0</td>\n",
       "      <td>0.0</td>\n",
       "      <td>0.0</td>\n",
       "      <td>0</td>\n",
       "      <td>0.0</td>\n",
       "      <td>5.0</td>\n",
       "      <td>45.0</td>\n",
       "      <td>5</td>\n",
       "      <td>Friday</td>\n",
       "      <td>21</td>\n",
       "    </tr>\n",
       "    <tr>\n",
       "      <th>3</th>\n",
       "      <td>51</td>\n",
       "      <td>N</td>\n",
       "      <td>2004</td>\n",
       "      <td>2004-05-21</td>\n",
       "      <td>10</td>\n",
       "      <td>1</td>\n",
       "      <td>South West</td>\n",
       "      <td>E12000009</td>\n",
       "      <td>1</td>\n",
       "      <td>Isles of Scilly</td>\n",
       "      <td>...</td>\n",
       "      <td>0.0</td>\n",
       "      <td>0.0</td>\n",
       "      <td>0.0</td>\n",
       "      <td>0</td>\n",
       "      <td>0.0</td>\n",
       "      <td>4.0</td>\n",
       "      <td>41.0</td>\n",
       "      <td>5</td>\n",
       "      <td>Friday</td>\n",
       "      <td>21</td>\n",
       "    </tr>\n",
       "    <tr>\n",
       "      <th>4</th>\n",
       "      <td>51</td>\n",
       "      <td>N</td>\n",
       "      <td>2004</td>\n",
       "      <td>2004-05-21</td>\n",
       "      <td>11</td>\n",
       "      <td>1</td>\n",
       "      <td>South West</td>\n",
       "      <td>E12000009</td>\n",
       "      <td>1</td>\n",
       "      <td>Isles of Scilly</td>\n",
       "      <td>...</td>\n",
       "      <td>0.0</td>\n",
       "      <td>0.0</td>\n",
       "      <td>0.0</td>\n",
       "      <td>0</td>\n",
       "      <td>0.0</td>\n",
       "      <td>6.0</td>\n",
       "      <td>41.0</td>\n",
       "      <td>5</td>\n",
       "      <td>Friday</td>\n",
       "      <td>21</td>\n",
       "    </tr>\n",
       "  </tbody>\n",
       "</table>\n",
       "<p>5 rows × 34 columns</p>\n",
       "</div>"
      ],
      "text/plain": [
       "   count_point_id direction_of_travel  year count_date  hour  region_id  \\\n",
       "0              51                   N  2004 2004-05-21     7          1   \n",
       "1              51                   N  2004 2004-05-21     8          1   \n",
       "2              51                   N  2004 2004-05-21     9          1   \n",
       "3              51                   N  2004 2004-05-21    10          1   \n",
       "4              51                   N  2004 2004-05-21    11          1   \n",
       "\n",
       "  region_name region_ons_code  local_authority_id local_authority_name  ...  \\\n",
       "0  South West       E12000009                   1      Isles of Scilly  ...   \n",
       "1  South West       E12000009                   1      Isles of Scilly  ...   \n",
       "2  South West       E12000009                   1      Isles of Scilly  ...   \n",
       "3  South West       E12000009                   1      Isles of Scilly  ...   \n",
       "4  South West       E12000009                   1      Isles of Scilly  ...   \n",
       "\n",
       "  HGVs_3_rigid_axle HGVs_4_or_more_rigid_axle HGVs_3_or_4_articulated_axle  \\\n",
       "0               0.0                       0.0                          0.0   \n",
       "1               7.0                       0.0                          0.0   \n",
       "2               0.0                       0.0                          0.0   \n",
       "3               0.0                       0.0                          0.0   \n",
       "4               0.0                       0.0                          0.0   \n",
       "\n",
       "  HGVs_5_articulated_axle  HGVs_6_articulated_axle  all_HGVs  \\\n",
       "0                       0                      0.0       0.0   \n",
       "1                       0                      0.0      14.0   \n",
       "2                       0                      0.0       5.0   \n",
       "3                       0                      0.0       4.0   \n",
       "4                       0                      0.0       6.0   \n",
       "\n",
       "   all_motor_vehicles  Month  Day_of_Week  Day  \n",
       "0                19.0      5       Friday   21  \n",
       "1                44.0      5       Friday   21  \n",
       "2                45.0      5       Friday   21  \n",
       "3                41.0      5       Friday   21  \n",
       "4                41.0      5       Friday   21  \n",
       "\n",
       "[5 rows x 34 columns]"
      ]
     },
     "execution_count": 53,
     "metadata": {},
     "output_type": "execute_result"
    }
   ],
   "source": [
    "pd_raw_count_nulls.head()"
   ]
  },
  {
   "cell_type": "code",
   "execution_count": 54,
   "metadata": {},
   "outputs": [
    {
     "data": {
      "text/plain": [
       "count_point_id                   0\n",
       "direction_of_travel              0\n",
       "year                             0\n",
       "count_date                       0\n",
       "hour                             0\n",
       "region_id                        0\n",
       "region_name                      0\n",
       "region_ons_code                  0\n",
       "local_authority_id               0\n",
       "local_authority_name             0\n",
       "local_authority_code             0\n",
       "road_name                        0\n",
       "road_category                    0\n",
       "road_type                        0\n",
       "easting                          0\n",
       "northing                         0\n",
       "latitude                         0\n",
       "longitude                        0\n",
       "pedal_cycles                     0\n",
       "two_wheeled_motor_vehicles       0\n",
       "cars_and_taxis                   1\n",
       "buses_and_coaches                5\n",
       "LGVs                             0\n",
       "HGVs_2_rigid_axle                4\n",
       "HGVs_3_rigid_axle                1\n",
       "HGVs_4_or_more_rigid_axle        2\n",
       "HGVs_3_or_4_articulated_axle     1\n",
       "HGVs_5_articulated_axle          0\n",
       "HGVs_6_articulated_axle          1\n",
       "all_HGVs                         9\n",
       "all_motor_vehicles              15\n",
       "Month                            0\n",
       "Day_of_Week                      0\n",
       "Day                              0\n",
       "dtype: int64"
      ]
     },
     "execution_count": 54,
     "metadata": {},
     "output_type": "execute_result"
    }
   ],
   "source": [
    "pd_raw_count_nulls.isna().sum()"
   ]
  },
  {
   "cell_type": "code",
   "execution_count": 55,
   "metadata": {},
   "outputs": [
    {
     "data": {
      "text/plain": [
       "count_point_id                   0\n",
       "direction_of_travel              0\n",
       "year                             0\n",
       "count_date                       0\n",
       "hour                             0\n",
       "region_id                        0\n",
       "region_name                      0\n",
       "region_ons_code                  0\n",
       "local_authority_id               0\n",
       "local_authority_name             0\n",
       "local_authority_code             0\n",
       "road_name                        0\n",
       "road_category                    0\n",
       "road_type                        0\n",
       "easting                          0\n",
       "northing                         0\n",
       "latitude                         0\n",
       "longitude                        0\n",
       "pedal_cycles                     0\n",
       "two_wheeled_motor_vehicles       0\n",
       "cars_and_taxis                   1\n",
       "buses_and_coaches                5\n",
       "LGVs                             0\n",
       "HGVs_2_rigid_axle                4\n",
       "HGVs_3_rigid_axle                1\n",
       "HGVs_4_or_more_rigid_axle        2\n",
       "HGVs_3_or_4_articulated_axle     1\n",
       "HGVs_5_articulated_axle          0\n",
       "HGVs_6_articulated_axle          1\n",
       "all_HGVs                         9\n",
       "all_motor_vehicles              15\n",
       "Month                            0\n",
       "Day_of_Week                      0\n",
       "Day                              0\n",
       "dtype: int64"
      ]
     },
     "execution_count": 55,
     "metadata": {},
     "output_type": "execute_result"
    }
   ],
   "source": [
    "pd_raw_count_nulls.isnull().sum()"
   ]
  },
  {
   "cell_type": "markdown",
   "metadata": {},
   "source": [
    "#### Save cleaned data to a new CSV"
   ]
  },
  {
   "cell_type": "code",
   "execution_count": 56,
   "metadata": {},
   "outputs": [
    {
     "data": {
      "text/plain": [
       "(4960860, 34)"
      ]
     },
     "execution_count": 56,
     "metadata": {},
     "output_type": "execute_result"
    }
   ],
   "source": [
    "pd_raw_count_nulls.shape"
   ]
  },
  {
   "cell_type": "code",
   "execution_count": 57,
   "metadata": {},
   "outputs": [
    {
     "data": {
      "text/plain": [
       "(6353, 8)"
      ]
     },
     "execution_count": 57,
     "metadata": {},
     "output_type": "execute_result"
    }
   ],
   "source": [
    "pd_local_points.shape"
   ]
  },
  {
   "cell_type": "code",
   "execution_count": 31,
   "metadata": {},
   "outputs": [],
   "source": [
    "pd_raw_count_nulls.to_csv('../data/pd_raw_count_cleaned.csv', index=False)"
   ]
  },
  {
   "cell_type": "code",
   "execution_count": 32,
   "metadata": {},
   "outputs": [],
   "source": [
    "pd_local_points.to_csv('../data/pd_count_points_cleaned.csv', index=False)"
   ]
  }
 ],
 "metadata": {
  "kernelspec": {
   "display_name": "capstone",
   "language": "python",
   "name": "python3"
  },
  "language_info": {
   "codemirror_mode": {
    "name": "ipython",
    "version": 3
   },
   "file_extension": ".py",
   "mimetype": "text/x-python",
   "name": "python",
   "nbconvert_exporter": "python",
   "pygments_lexer": "ipython3",
   "version": "3.8.19"
  },
  "orig_nbformat": 4
 },
 "nbformat": 4,
 "nbformat_minor": 2
}
