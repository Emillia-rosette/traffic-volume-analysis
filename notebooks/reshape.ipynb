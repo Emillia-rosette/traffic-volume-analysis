{
 "cells": [
  {
   "cell_type": "code",
   "execution_count": 1,
   "metadata": {},
   "outputs": [
    {
     "name": "stderr",
     "output_type": "stream",
     "text": [
      "/var/folders/_z/nz5spzqj2rl11n5lc_k1cwwc0000gn/T/ipykernel_52426/63308400.py:4: DtypeWarning: Columns (14,15) have mixed types. Specify dtype option on import or set low_memory=False.\n",
      "  df = pd.read_csv('/Users/emillianlandu/capstone-Emillia-rosette/data/all_uk.csv')\n"
     ]
    }
   ],
   "source": [
    "import pandas as pd\n",
    "\n",
    "# Load the data\n",
    "df = pd.read_csv('/Users/emillianlandu/capstone-Emillia-rosette/data/all_uk.csv')\n",
    "\n",
    "# Convert count_date to datetime\n",
    "df['count_date'] = pd.to_datetime(df['count_date'])\n",
    "\n",
    "# Aggregate traffic volume by day, region, and road type\n",
    "aggregated_df = df.groupby(['count_date', 'local_authority_name', 'road_type']).agg({\n",
    "    'all_motor_vehicles': 'sum',  # Sum of traffic volume per group\n",
    "    'pedal_cycles': 'sum',\n",
    "    'cars_and_taxis': 'sum',\n",
    "    'buses_and_coaches': 'sum'\n",
    "}).reset_index()\n",
    "\n",
    "# Save the aggregated version\n",
    "aggregated_df.to_csv('../data/aggregated_traffic_data.csv', index=False)\n"
   ]
  }
 ],
 "metadata": {
  "kernelspec": {
   "display_name": "capstone",
   "language": "python",
   "name": "python3"
  },
  "language_info": {
   "codemirror_mode": {
    "name": "ipython",
    "version": 3
   },
   "file_extension": ".py",
   "mimetype": "text/x-python",
   "name": "python",
   "nbconvert_exporter": "python",
   "pygments_lexer": "ipython3",
   "version": "3.8.18"
  }
 },
 "nbformat": 4,
 "nbformat_minor": 2
}
