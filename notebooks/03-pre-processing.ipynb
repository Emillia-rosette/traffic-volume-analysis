{
 "cells": [
  {
   "cell_type": "code",
   "execution_count": null,
   "metadata": {},
   "outputs": [],
   "source": []
  },
  {
   "cell_type": "code",
   "execution_count": 2,
   "metadata": {},
   "outputs": [],
   "source": [
    "import pandas as pd\n",
    "import numpy as np\n",
    "import seaborn as sns\n",
    "import matplotlib.pyplot as plt\n",
    "import matplotlib.ticker as ticker"
   ]
  },
  {
   "cell_type": "code",
   "execution_count": 3,
   "metadata": {},
   "outputs": [],
   "source": [
    "processed_data = pd.read_csv(\"../data/monthly_data.csv\")"
   ]
  },
  {
   "cell_type": "code",
   "execution_count": 4,
   "metadata": {},
   "outputs": [],
   "source": [
    "\n",
    "processed_data['timestamp'] = pd.to_datetime(processed_data['timestamp'])"
   ]
  },
  {
   "cell_type": "code",
   "execution_count": 5,
   "metadata": {},
   "outputs": [
    {
     "data": {
      "text/plain": [
       "<bound method NDFrame.head of      timestamp  all_motor_vehicles\n",
       "0   2000-03-01           1630674.0\n",
       "1   2000-04-01           1816143.0\n",
       "2   2000-05-01           3735104.0\n",
       "3   2000-06-01           3469829.0\n",
       "4   2000-07-01           1868494.0\n",
       "..         ...                 ...\n",
       "280 2023-07-01            896011.0\n",
       "281 2023-08-01                 0.0\n",
       "282 2023-09-01            796538.0\n",
       "283 2023-10-01            611725.0\n",
       "284 2023-11-01             29809.0\n",
       "\n",
       "[285 rows x 2 columns]>"
      ]
     },
     "execution_count": 5,
     "metadata": {},
     "output_type": "execute_result"
    }
   ],
   "source": [
    "processed_data.head"
   ]
  },
  {
   "cell_type": "code",
   "execution_count": 6,
   "metadata": {},
   "outputs": [
    {
     "data": {
      "text/plain": [
       "Index(['timestamp', 'all_motor_vehicles'], dtype='object')"
      ]
     },
     "execution_count": 6,
     "metadata": {},
     "output_type": "execute_result"
    }
   ],
   "source": [
    "processed_data.columns"
   ]
  },
  {
   "cell_type": "code",
   "execution_count": 7,
   "metadata": {},
   "outputs": [
    {
     "data": {
      "text/html": [
       "<div>\n",
       "<style scoped>\n",
       "    .dataframe tbody tr th:only-of-type {\n",
       "        vertical-align: middle;\n",
       "    }\n",
       "\n",
       "    .dataframe tbody tr th {\n",
       "        vertical-align: top;\n",
       "    }\n",
       "\n",
       "    .dataframe thead th {\n",
       "        text-align: right;\n",
       "    }\n",
       "</style>\n",
       "<table border=\"1\" class=\"dataframe\">\n",
       "  <thead>\n",
       "    <tr style=\"text-align: right;\">\n",
       "      <th></th>\n",
       "      <th>timestamp</th>\n",
       "      <th>all_motor_vehicles</th>\n",
       "    </tr>\n",
       "  </thead>\n",
       "  <tbody>\n",
       "    <tr>\n",
       "      <th>56</th>\n",
       "      <td>2004-11-01</td>\n",
       "      <td>0.0</td>\n",
       "    </tr>\n",
       "    <tr>\n",
       "      <th>41</th>\n",
       "      <td>2003-08-01</td>\n",
       "      <td>0.0</td>\n",
       "    </tr>\n",
       "    <tr>\n",
       "      <th>113</th>\n",
       "      <td>2009-08-01</td>\n",
       "      <td>0.0</td>\n",
       "    </tr>\n",
       "    <tr>\n",
       "      <th>65</th>\n",
       "      <td>2005-08-01</td>\n",
       "      <td>0.0</td>\n",
       "    </tr>\n",
       "    <tr>\n",
       "      <th>201</th>\n",
       "      <td>2016-12-01</td>\n",
       "      <td>0.0</td>\n",
       "    </tr>\n",
       "  </tbody>\n",
       "</table>\n",
       "</div>"
      ],
      "text/plain": [
       "     timestamp  all_motor_vehicles\n",
       "56  2004-11-01                 0.0\n",
       "41  2003-08-01                 0.0\n",
       "113 2009-08-01                 0.0\n",
       "65  2005-08-01                 0.0\n",
       "201 2016-12-01                 0.0"
      ]
     },
     "execution_count": 7,
     "metadata": {},
     "output_type": "execute_result"
    }
   ],
   "source": [
    "monthly_data_zeros = processed_data.loc[processed_data[\"all_motor_vehicles\"] == 0]\n",
    "monthly_data_zeros.sample(5)"
   ]
  },
  {
   "cell_type": "code",
   "execution_count": 8,
   "metadata": {},
   "outputs": [
    {
     "name": "stdout",
     "output_type": "stream",
     "text": [
      "Total records with zero motor vehicles: 109\n"
     ]
    }
   ],
   "source": [
    "zero_counts = processed_data[\"all_motor_vehicles\"].value_counts().get(0, 0)\n",
    "print(f\"Total records with zero motor vehicles: {zero_counts}\")"
   ]
  },
  {
   "cell_type": "code",
   "execution_count": 9,
   "metadata": {},
   "outputs": [
    {
     "name": "stdout",
     "output_type": "stream",
     "text": [
      "Percentage of records with zero motor vehicles: 38.25%\n"
     ]
    }
   ],
   "source": [
    "total_records = len(processed_data)\n",
    "zero_proportion = zero_counts / total_records * 100\n",
    "print(f\"Percentage of records with zero motor vehicles: {zero_proportion:.2f}%\")"
   ]
  },
  {
   "cell_type": "code",
   "execution_count": 10,
   "metadata": {},
   "outputs": [
    {
     "data": {
      "text/plain": [
       "0     2000-03-01\n",
       "1     2000-04-01\n",
       "2     2000-05-01\n",
       "3     2000-06-01\n",
       "4     2000-07-01\n",
       "         ...    \n",
       "280   2023-07-01\n",
       "281   2023-08-01\n",
       "282   2023-09-01\n",
       "283   2023-10-01\n",
       "284   2023-11-01\n",
       "Name: timestamp, Length: 285, dtype: datetime64[ns]"
      ]
     },
     "execution_count": 10,
     "metadata": {},
     "output_type": "execute_result"
    }
   ],
   "source": [
    "processed_data['timestamp']"
   ]
  },
  {
   "cell_type": "code",
   "execution_count": 11,
   "metadata": {},
   "outputs": [
    {
     "name": "stdout",
     "output_type": "stream",
     "text": [
      "year\n",
      "2000    3\n",
      "2001    5\n",
      "2002    5\n",
      "2003    5\n",
      "2004    4\n",
      "2005    5\n",
      "2006    5\n",
      "2007    5\n",
      "2008    5\n",
      "2009    5\n",
      "2010    5\n",
      "2011    4\n",
      "2012    5\n",
      "2013    5\n",
      "2014    6\n",
      "2015    5\n",
      "2016    4\n",
      "2017    4\n",
      "2018    4\n",
      "2019    4\n",
      "2020    5\n",
      "2021    4\n",
      "2022    4\n",
      "2023    3\n",
      "dtype: int64\n"
     ]
    }
   ],
   "source": [
    "processed_data['year'] = processed_data['timestamp'].dt.year\n",
    "zeros_by_year = processed_data[processed_data['all_motor_vehicles'] == 0].groupby('year').size()\n",
    "print(zeros_by_year)"
   ]
  },
  {
   "cell_type": "code",
   "execution_count": 16,
   "metadata": {},
   "outputs": [
    {
     "name": "stdout",
     "output_type": "stream",
     "text": [
      "month\n",
      "1     23\n",
      "2     23\n",
      "3      2\n",
      "8     23\n",
      "11    15\n",
      "12    23\n",
      "dtype: int64\n"
     ]
    }
   ],
   "source": [
    "processed_data['month'] = processed_data['timestamp'].dt.month\n",
    "zeros_by_year = processed_data[processed_data['all_motor_vehicles'] == 0].groupby('month').size()\n",
    "print(zeros_by_year)"
   ]
  },
  {
   "cell_type": "code",
   "execution_count": 12,
   "metadata": {},
   "outputs": [],
   "source": [
    "processed_data['year'] = processed_data['timestamp'].dt.year"
   ]
  },
  {
   "cell_type": "code",
   "execution_count": 13,
   "metadata": {},
   "outputs": [
    {
     "name": "stdout",
     "output_type": "stream",
     "text": [
      "year\n",
      "2000    3\n",
      "2001    5\n",
      "2002    5\n",
      "2003    5\n",
      "2004    4\n",
      "2005    5\n",
      "2006    5\n",
      "2007    5\n",
      "2008    5\n",
      "2009    5\n",
      "2010    5\n",
      "2011    4\n",
      "2012    5\n",
      "2013    5\n",
      "2014    6\n",
      "2015    5\n",
      "2016    4\n",
      "2017    4\n",
      "2018    4\n",
      "2019    4\n",
      "2020    5\n",
      "2021    4\n",
      "2022    4\n",
      "2023    3\n",
      "dtype: int64\n"
     ]
    }
   ],
   "source": [
    "zeros_by_year = processed_data[processed_data['all_motor_vehicles'] == 0].groupby('year').size()\n",
    "print(zeros_by_year)"
   ]
  },
  {
   "cell_type": "code",
   "execution_count": 14,
   "metadata": {},
   "outputs": [
    {
     "data": {
      "text/html": [
       "<div>\n",
       "<style scoped>\n",
       "    .dataframe tbody tr th:only-of-type {\n",
       "        vertical-align: middle;\n",
       "    }\n",
       "\n",
       "    .dataframe tbody tr th {\n",
       "        vertical-align: top;\n",
       "    }\n",
       "\n",
       "    .dataframe thead th {\n",
       "        text-align: right;\n",
       "    }\n",
       "</style>\n",
       "<table border=\"1\" class=\"dataframe\">\n",
       "  <thead>\n",
       "    <tr style=\"text-align: right;\">\n",
       "      <th></th>\n",
       "      <th>timestamp</th>\n",
       "      <th>all_motor_vehicles</th>\n",
       "      <th>year</th>\n",
       "    </tr>\n",
       "  </thead>\n",
       "  <tbody>\n",
       "    <tr>\n",
       "      <th>0</th>\n",
       "      <td>2000-03-01</td>\n",
       "      <td>1630674.0</td>\n",
       "      <td>2000</td>\n",
       "    </tr>\n",
       "    <tr>\n",
       "      <th>1</th>\n",
       "      <td>2000-04-01</td>\n",
       "      <td>1816143.0</td>\n",
       "      <td>2000</td>\n",
       "    </tr>\n",
       "    <tr>\n",
       "      <th>2</th>\n",
       "      <td>2000-05-01</td>\n",
       "      <td>3735104.0</td>\n",
       "      <td>2000</td>\n",
       "    </tr>\n",
       "    <tr>\n",
       "      <th>3</th>\n",
       "      <td>2000-06-01</td>\n",
       "      <td>3469829.0</td>\n",
       "      <td>2000</td>\n",
       "    </tr>\n",
       "    <tr>\n",
       "      <th>4</th>\n",
       "      <td>2000-07-01</td>\n",
       "      <td>1868494.0</td>\n",
       "      <td>2000</td>\n",
       "    </tr>\n",
       "  </tbody>\n",
       "</table>\n",
       "</div>"
      ],
      "text/plain": [
       "   timestamp  all_motor_vehicles  year\n",
       "0 2000-03-01           1630674.0  2000\n",
       "1 2000-04-01           1816143.0  2000\n",
       "2 2000-05-01           3735104.0  2000\n",
       "3 2000-06-01           3469829.0  2000\n",
       "4 2000-07-01           1868494.0  2000"
      ]
     },
     "execution_count": 14,
     "metadata": {},
     "output_type": "execute_result"
    }
   ],
   "source": [
    "processed_data.head()"
   ]
  },
  {
   "cell_type": "code",
   "execution_count": 17,
   "metadata": {},
   "outputs": [
    {
     "name": "stdout",
     "output_type": "stream",
     "text": [
      "Zeros by Month:\n",
      " timestamp\n",
      "1     23\n",
      "2     23\n",
      "3      2\n",
      "8     23\n",
      "11    15\n",
      "12    23\n",
      "dtype: int64\n",
      "\n",
      "Zeros by Day of the Week:\n",
      " timestamp\n",
      "Friday       15\n",
      "Monday       15\n",
      "Saturday     17\n",
      "Sunday       15\n",
      "Thursday     16\n",
      "Tuesday      15\n",
      "Wednesday    16\n",
      "dtype: int64\n"
     ]
    }
   ],
   "source": [
    "# Group by month or day of the week to check for patterns\n",
    "zeros_by_month = processed_data[processed_data['all_motor_vehicles'] == 0].groupby(processed_data['timestamp'].dt.month).size()\n",
    "zeros_by_weekday = processed_data[processed_data['all_motor_vehicles'] == 0].groupby(processed_data['timestamp'].dt.day_name()).size()\n",
    "\n",
    "print(\"Zeros by Month:\\n\", zeros_by_month)\n",
    "print(\"\\nZeros by Day of the Week:\\n\", zeros_by_weekday)"
   ]
  },
  {
   "cell_type": "code",
   "execution_count": null,
   "metadata": {},
   "outputs": [],
   "source": [
    "zeros_by_month.plot(kind='bar', title='Occurrences of Zero Motor Vehicles by Month')\n",
    "plt.show()\n",
    "\n",
    "zeros_by_weekday.plot(kind='bar', title='Occurrences of Zero Motor Vehicles by Day of the Week')\n",
    "plt.show()\n"
   ]
  }
 ],
 "metadata": {
  "kernelspec": {
   "display_name": "capstone",
   "language": "python",
   "name": "python3"
  },
  "language_info": {
   "codemirror_mode": {
    "name": "ipython",
    "version": 3
   },
   "file_extension": ".py",
   "mimetype": "text/x-python",
   "name": "python",
   "nbconvert_exporter": "python",
   "pygments_lexer": "ipython3",
   "version": "3.8.18"
  },
  "orig_nbformat": 4
 },
 "nbformat": 4,
 "nbformat_minor": 2
}
